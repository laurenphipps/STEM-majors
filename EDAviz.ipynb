{
 "cells": [
  {
   "cell_type": "code",
   "execution_count": 1,
   "metadata": {},
   "outputs": [],
   "source": [
    "import pandas as pd\n",
    "import numpy as np\n",
    "import seaborn as sns\n",
    "import matplotlib.pyplot as plt\n",
    "import matplotlib.ticker as mtick\n",
    "%matplotlib inline\n",
    "import plotly\n",
    "import plotly.figure_factory as ff\n",
    "from plotly.offline import *\n",
    "from sklearn.preprocessing import StandardScaler\n",
    "from sklearn.model_selection import train_test_split\n",
    "from sklearn.model_selection import cross_val_score\n",
    "from sklearn.model_selection import cross_validate\n",
    "from sklearn import metrics\n",
    "from sklearn.metrics import make_scorer, accuracy_score\n",
    "from sklearn.linear_model import LogisticRegression\n",
    "from sklearn.feature_selection import SelectKBest, f_regression,mutual_info_regression\n",
    "from sklearn.tree import DecisionTreeClassifier\n",
    "from sklearn.model_selection import GridSearchCV\n",
    "from sklearn.ensemble import RandomForestClassifier\n",
    "from sklearn.ensemble import BaggingClassifier\n",
    "\n",
    "\n",
    "\n",
    "pd.set_option('display.max_columns', 300)"
   ]
  },
  {
   "cell_type": "code",
   "execution_count": 2,
   "metadata": {},
   "outputs": [],
   "source": [
    "demo_features = ['X2SEX', 'X2RACE', 'X2DUALLANG', 'X2POVERTY185', 'X2SESQ5_U', 'X2CONTROL', 'X2LOCALE', 'X2REGION', 'X3TCREDSCI']\n",
    "\n",
    "\n",
    "mvp_features = ['X2STU30OCC_STEM1', 'X2STUEDEXPCT', 'X2S2SSPR12', 'S2SPERSON1', 'S2SPERSON2', \n",
    "               'S2SLEARN', 'S2SBORN', 'S2SUSELIFE', 'S2SUSECLG', 'S2SUSEJOB', \n",
    "               'S2SSPR12', 'S2LIFES12', 'S2BIO1S12', 'S2BIO2S12', 'S2APBIOS12', \n",
    "               'S2IBIOS12', 'S2ANATOMYS12', 'S2OTHBIOS12', 'S2CHEM1S12', 'S2CHEM2S12', 'S2APCHEM12', \n",
    "               'S2IBCHEM12', 'S2EARTHS12', 'S2APENVS12', 'S2OTHENVS12', 'S2PHYSIC1S12', \n",
    "               'S2PHYSIC2S12', 'S2APPHYSIC12', 'S2IBPHYSIC12', 'S2PHYSS12', 'S2TECHS12', 'S2OTHPHYS12', \n",
    "               'S2INTGS1S12', 'S2INTGS2S12', 'S2GENS12', 'S2COMPAPP12', 'S2COMPPROG12', \n",
    "               'S2APCOMPSCI12', 'S2IBTECH12', 'S2OTHCOMP12', 'S2ENGINEER12', 'S2OTHS12', 'S2OTHS12SP', \n",
    "               'S2HISCIENCE12', 'S2APSCIENCE', 'S2IBSCIENCE', 'S2STOOKBEFORE', 'S2SENJOYS', 'S2SCHALLENGE', 'S2SHSREQ', 'S2SCLGADM', \n",
    "               'S2SCLGSUCC', 'S2SCAREER', 'S2SCNSLREC', 'S2STCHRREC', 'S2SPARREC', 'S2SFAMREC', \n",
    "               'S2SEMPREC', 'S2SFRIEND', 'S2SDOWELL', 'S2SASSIGNED', 'S2STCHTREAT', 'S2STCHINTRST', \n",
    "               'S2STCHEASY', 'S2STCHTHINK', 'S2STCHGIVEUP', 'S2SENJOYING', 'S2SWASTE', 'S2SBORING', \n",
    "               'S2SUSELIFE', 'S2SUSECLG', 'S2SUSEJOB', 'S2STESTS', 'S2STEXTBOOK', 'S2SSKILLS', \n",
    "               'S2SASSEXCL', 'S2APSCIENCE', 'S2HSPLAN', 'S2SUBMITPLAN', 'S2SCLUB', \n",
    "            'S2SCOMPETE', 'S2SSUMMERPRG', 'S2SGROUP', 'S2STUTORED', 'X4RFDGMJ123', 'X4RFDGMJSTEM']\n",
    "\n",
    "family_features = ['X2PAR1EDU', 'X2PAR1OCC_STEM1', \n",
    "            'X2PAR1RACE', 'X2PAR2EDU', 'X2PAR2OCC_STEM1', 'X2PAR2RACE', 'X2PARPATTERN', \n",
    "            'X2MOMEDU', 'X2MOMOCC_STEM1', 'X2MOMRACE', 'X2DADEDU', 'X2DADOCC_STEM1', \n",
    "            'X2DADRACE']\n",
    "\n",
    "cols_list = demo_features + mvp_features\n",
    "\n"
   ]
  },
  {
   "cell_type": "code",
   "execution_count": 3,
   "metadata": {},
   "outputs": [],
   "source": [
    "df = pd.read_csv('data-files/HSLS/hsls_17_student_pets_sr_v1_0.csv', usecols = cols_list)\n",
    "df.rename(columns = {'X4RFDGMJSTEM': 'target'}, inplace = True)"
   ]
  },
  {
   "cell_type": "code",
   "execution_count": 244,
   "metadata": {},
   "outputs": [
    {
     "data": {
      "text/plain": [
       "8    11532\n",
       "5     3097\n",
       "3     2121\n",
       "6     1756\n",
       "2     1675\n",
       "4      174\n",
       "1      142\n",
       "7       97\n",
       "Name: X2RACE, dtype: int64"
      ]
     },
     "execution_count": 244,
     "metadata": {},
     "output_type": "execute_result"
    }
   ],
   "source": [
    "\n"
   ]
  },
  {
   "cell_type": "code",
   "execution_count": 246,
   "metadata": {},
   "outputs": [
    {
     "data": {
      "text/plain": [
       "8    11532\n",
       "5     3271\n",
       "3     2121\n",
       "6     1756\n",
       "2     1675\n",
       "1      142\n",
       "7       97\n",
       "Name: X2RACE, dtype: int64"
      ]
     },
     "execution_count": 246,
     "metadata": {},
     "output_type": "execute_result"
    }
   ],
   "source": [
    "#drop rows with non-response to S2SLEARN (and many other features) (likely dropped from study)\n",
    "df = df[df['S2SLEARN'] != -8]\n",
    "\n",
    "#create dummy variables for races\n",
    "df['ai_an'] = np.where(df['X2RACE'] == 1, 1, 0)\n",
    "df['asian'] = np.where(df['X2RACE'] == 2, 1, 0)\n",
    "df['black'] = np.where(df['X2RACE'] == 3, 1, 0)\n",
    "df['hispanic'] = np.where((df['X2RACE'] == 4) | (df['X2RACE'] == 5), 1, 0)\n",
    "df['multiple_race'] = np.where(df['X2RACE'] == 6, 1, 0)\n",
    "df['nh_pi'] = np.where(df['X2RACE'] == 7, 1, 0)\n",
    "df['white'] = np.where(df['X2RACE'] == 8, 1, 0)\n",
    "\n",
    "#combine hispanic into one column\n",
    "df['X2RACE'].replace({4:5}, inplace = True)\n"
   ]
  },
  {
   "cell_type": "code",
   "execution_count": 6,
   "metadata": {},
   "outputs": [],
   "source": [
    "#'X2DUALLANG', 'X2POVERTY185', 'X2SESQ5_U', 'X2CONTROL', 'X2LOCALE', 'X2REGION'\n",
    "\n",
    "#create dummy for public/private school\n",
    "df['private'] = [1 if x == 2 else 0 for x in df['X2CONTROL']]\n",
    "df['public'] = [1 if x == 1 else 0 for x in df['X2CONTROL']]"
   ]
  },
  {
   "cell_type": "code",
   "execution_count": 7,
   "metadata": {},
   "outputs": [],
   "source": [
    "#compile all subchoices of STEM domains into yes/no\n",
    "df.X2STU30OCC_STEM1.replace({-9:0, 9:0, 4:1, 5:1, 6:1}, inplace = True)\n"
   ]
  },
  {
   "cell_type": "code",
   "execution_count": 8,
   "metadata": {},
   "outputs": [],
   "source": [
    "classes = ['S2SSPR12', 'S2LIFES12', 'S2BIO1S12', 'S2BIO2S12', 'S2APBIOS12', \n",
    "               'S2IBIOS12', 'S2ANATOMYS12', 'S2OTHBIOS12', 'S2CHEM1S12', 'S2CHEM2S12', 'S2APCHEM12', \n",
    "               'S2IBCHEM12', 'S2EARTHS12', 'S2APENVS12', 'S2OTHENVS12', 'S2PHYSIC1S12', \n",
    "               'S2PHYSIC2S12', 'S2APPHYSIC12', 'S2IBPHYSIC12', 'S2PHYSS12', 'S2TECHS12', 'S2OTHPHYS12', \n",
    "               'S2INTGS1S12', 'S2INTGS2S12', 'S2GENS12', 'S2COMPAPP12', 'S2COMPPROG12', \n",
    "               'S2APCOMPSCI12', 'S2IBTECH12', 'S2OTHCOMP12', 'S2ENGINEER12', 'S2OTHS12', 'S2APSCIENCE', 'S2IBSCIENCE']\n",
    "\n",
    "#impute 'no' for items that are missing or were skipped due to not taking a science class\n",
    "for col in classes:\n",
    "    df[col].replace({-9:0, -7:0}, inplace= True)\n"
   ]
  },
  {
   "cell_type": "code",
   "execution_count": 9,
   "metadata": {},
   "outputs": [
    {
     "data": {
      "text/plain": [
       "1    16192\n",
       "0     4402\n",
       "Name: S2SSPR12, dtype: int64"
      ]
     },
     "execution_count": 9,
     "metadata": {},
     "output_type": "execute_result"
    }
   ],
   "source": [
    "df.S2SSPR12.value_counts()"
   ]
  },
  {
   "cell_type": "code",
   "execution_count": 10,
   "metadata": {},
   "outputs": [],
   "source": [
    "#impute unknown with 'no' for if participating in science activity\n",
    "\n",
    "clubs_cols = ['S2SCLUB', 'S2SCOMPETE', 'S2SSUMMERPRG', 'S2SGROUP', 'S2STUTORED']\n",
    "\n",
    "for col in clubs_cols:\n",
    "    df[col].replace({-9:0}, inplace = True)"
   ]
  },
  {
   "cell_type": "code",
   "execution_count": 11,
   "metadata": {},
   "outputs": [],
   "source": [
    "df.S2HSPLAN = np.where(df['S2HSPLAN'] == 1, 1, 0)\n",
    "df.S2SUBMITPLAN = np.where(df['S2SUBMITPLAN'] == 1, 1, 0)"
   ]
  },
  {
   "cell_type": "code",
   "execution_count": 12,
   "metadata": {},
   "outputs": [],
   "source": [
    "#create class for underrepresented group in STEM (women, black, american indian, hispanic, pacific islander)\n",
    "\n",
    "df['underrep'] = np.where((df['X2SEX'] == 2) |\n",
    "                          (df['ai_an'] == 1) |\n",
    "                          (df['black'] == 1) |\n",
    "                          (df['hispanic'] == 1) |\n",
    "                          (df['multiple_race'] == 1) |\n",
    "                          (df['nh_pi'] == 1), 1, 0)\n",
    "                         "
   ]
  },
  {
   "cell_type": "code",
   "execution_count": null,
   "metadata": {},
   "outputs": [],
   "source": []
  },
  {
   "cell_type": "code",
   "execution_count": 13,
   "metadata": {},
   "outputs": [],
   "source": [
    "#group HS science classes into broader subjects\n",
    "\n",
    "df['bio'] = np.where((df['S2LIFES12'] == 1) |\n",
    "                      (df['S2BIO1S12'] == 1) |\n",
    "                      (df['S2BIO2S12'] == 1) |\n",
    "                      (df['S2APBIOS12'] == 1) |\n",
    "                      (df['S2IBIOS12'] == 1) |\n",
    "                     (df['S2ANATOMYS12'] == 1) |\n",
    "                      (df['S2OTHBIOS12'] == 1), 1, 0)\n",
    "               \n",
    "\n",
    "df['chem'] = np.where((df['S2CHEM1S12'] == 1) |\n",
    "                      (df['S2CHEM2S12'] == 1) |\n",
    "                      (df['S2APCHEM12'] == 1) |\n",
    "                      (df['S2IBCHEM12'] == 1), 1, 0)\n",
    "              \n",
    "\n",
    "df['enviro'] = np.where((df['S2EARTHS12'] == 1) |\n",
    "                        (df['S2EARTHS12'] == 1) |\n",
    "                        (df['S2APENVS12'] == 1) |\n",
    "                        (df['S2OTHENVS12'] == 1), 1, 0)\n",
    "                        \n",
    "df['physics'] = np.where((df['S2PHYSIC1S12'] == 1) |\n",
    "                         (df['S2PHYSIC2S12'] == 1) |\n",
    "                         (df['S2APPHYSIC12'] == 1) |\n",
    "                         (df['S2IBPHYSIC12'] == 1) |\n",
    "                         (df['S2PHYSS12'] == 1), 1, 0)\n",
    "                         \n",
    "df['engineering'] = np.where((df['S2ENGINEER12'] == 1), 1, 0)\n",
    "\n",
    "\n",
    "df['compsci'] = np.where((df['S2COMPAPP12'] == 1) |\n",
    "                         (df['S2COMPPROG12'] == 1) |\n",
    "                         (df['S2APCOMPSCI12'] == 1) |\n",
    "                         (df['S2IBTECH12'] == 1) |\n",
    "                         (df['S2OTHCOMP12'] == 1), 1, 0)\n",
    "\n",
    "df['misc_class'] = np.where((df['S2OTHPHYS12'] == 1) |\n",
    "                            (df['S2INTGS1S12'] == 1) |\n",
    "                            (df['S2GENS12'] == 1), 1, 0)\n"
   ]
  },
  {
   "cell_type": "code",
   "execution_count": null,
   "metadata": {},
   "outputs": [],
   "source": []
  },
  {
   "cell_type": "code",
   "execution_count": 14,
   "metadata": {},
   "outputs": [],
   "source": [
    "#create column for students who took science earlier in the year (but don't now)\n",
    "df['took_science_2012'] = np.where((df['S2STOOKBEFORE'] == 1) |\n",
    "                                   (df['bio'] == 1) |\n",
    "                                   (df['chem'] == 1) |\n",
    "                                   (df['enviro'] == 1) |\n",
    "                                   (df['physics'] == 1) |\n",
    "                                   (df['engineering'] == 1) |\n",
    "                                   (df['compsci'] == 1) |\n",
    "                                   (df['misc_class'] == 1), 1, 0)\n"
   ]
  },
  {
   "cell_type": "code",
   "execution_count": 15,
   "metadata": {},
   "outputs": [
    {
     "data": {
      "text/plain": [
       "1    18051\n",
       "0     2543\n",
       "Name: took_science_2012, dtype: int64"
      ]
     },
     "execution_count": 15,
     "metadata": {},
     "output_type": "execute_result"
    }
   ],
   "source": [
    "df.took_science_2012.value_counts()"
   ]
  },
  {
   "cell_type": "code",
   "execution_count": 16,
   "metadata": {},
   "outputs": [],
   "source": [
    "#impute 'no' for items that are missing or were skipped due to not taking a science class\n",
    "\n",
    "why_science = ['S2SENJOYS', 'S2SCHALLENGE', 'S2SHSREQ', 'S2SCLGADM', \n",
    "               'S2SCLGSUCC', 'S2SCAREER', 'S2SCNSLREC', 'S2STCHRREC', 'S2SPARREC', 'S2SFAMREC', \n",
    "               'S2SEMPREC', 'S2SFRIEND', 'S2SDOWELL', 'S2SASSIGNED']\n",
    "\n",
    "for col in why_science:\n",
    "    df[col].replace({-9:0, -7:0}, inplace= True)"
   ]
  },
  {
   "cell_type": "code",
   "execution_count": 352,
   "metadata": {},
   "outputs": [],
   "source": [
    "#create dataframe with target variable\n",
    "modeling_df = df[(df.target == 0) | (df.target == 1)]\n",
    "\n"
   ]
  },
  {
   "cell_type": "code",
   "execution_count": null,
   "metadata": {},
   "outputs": [],
   "source": []
  },
  {
   "cell_type": "code",
   "execution_count": 18,
   "metadata": {},
   "outputs": [],
   "source": [
    "likert_cols = ['S2SPERSON1', 'S2SPERSON2', \n",
    "               'S2SLEARN', 'S2SBORN', 'S2SUSELIFE', 'S2SUSECLG', 'S2SUSEJOB', \n",
    "                'S2STCHTREAT', 'S2STCHINTRST', \n",
    "               'S2STCHEASY', 'S2STCHTHINK', 'S2STCHGIVEUP', 'S2SENJOYING', 'S2SWASTE', 'S2SBORING', \n",
    "               'S2STESTS', 'S2STEXTBOOK', 'S2SSKILLS', \n",
    "               'S2SASSEXCL']\n",
    "\n",
    "#change likert questions to agree/disagree\n",
    "for col in likert_cols:\n",
    "   modeling_df[col].replace({2:1, 3:0, 4:0, -9:0, }, inplace = True)"
   ]
  },
  {
   "cell_type": "code",
   "execution_count": 19,
   "metadata": {},
   "outputs": [
    {
     "data": {
      "text/plain": [
       "1    0.685165\n",
       "0    0.314835\n",
       "Name: underrep, dtype: float64"
      ]
     },
     "execution_count": 19,
     "metadata": {},
     "output_type": "execute_result"
    }
   ],
   "source": [
    "modeling_df.underrep.value_counts(normalize = True)"
   ]
  },
  {
   "cell_type": "code",
   "execution_count": 20,
   "metadata": {},
   "outputs": [
    {
     "data": {
      "text/plain": [
       "target  underrep\n",
       "0       1           0.732478\n",
       "        0           0.267522\n",
       "1       1           0.529343\n",
       "        0           0.470657\n",
       "Name: underrep, dtype: float64"
      ]
     },
     "execution_count": 20,
     "metadata": {},
     "output_type": "execute_result"
    }
   ],
   "source": [
    "modeling_df.groupby(by = ['target'])['underrep'].value_counts(normalize = True)"
   ]
  },
  {
   "cell_type": "code",
   "execution_count": 21,
   "metadata": {},
   "outputs": [
    {
     "data": {
      "text/plain": [
       "1    7519\n",
       "0    3455\n",
       "Name: underrep, dtype: int64"
      ]
     },
     "execution_count": 21,
     "metadata": {},
     "output_type": "execute_result"
    }
   ],
   "source": [
    "modeling_df.underrep.value_counts(normalize = False)"
   ]
  },
  {
   "cell_type": "code",
   "execution_count": 22,
   "metadata": {},
   "outputs": [
    {
     "data": {
      "text/plain": [
       "0    0.767086\n",
       "1    0.232914\n",
       "Name: target, dtype: float64"
      ]
     },
     "execution_count": 22,
     "metadata": {},
     "output_type": "execute_result"
    }
   ],
   "source": [
    "x = ['one', 'two', 'three', 'four']\n",
    "\n",
    "modeling_df.target.value_counts().index\n",
    "modeling_df.target.value_counts(normalize = True)"
   ]
  },
  {
   "cell_type": "code",
   "execution_count": 23,
   "metadata": {},
   "outputs": [
    {
     "data": {
      "text/plain": [
       "target  underrep\n",
       "0       1           0.732478\n",
       "        0           0.267522\n",
       "1       1           0.529343\n",
       "        0           0.470657\n",
       "Name: underrep, dtype: float64"
      ]
     },
     "execution_count": 23,
     "metadata": {},
     "output_type": "execute_result"
    }
   ],
   "source": [
    "grouped = modeling_df.groupby(by = ['target'])['underrep'].value_counts(normalize = True)\n",
    "#sns.barplot(y = grouped, x=['l', 'm', 'n', 'o'])\n",
    "grouped\n",
    "#modeling_df.groupby['X2RACE'].value_counts(normalize = True)"
   ]
  },
  {
   "cell_type": "code",
   "execution_count": 91,
   "metadata": {},
   "outputs": [
    {
     "data": {
      "text/plain": [
       "2009    0.589120\n",
       "2016    0.767086\n",
       "Name: 0, dtype: float64"
      ]
     },
     "execution_count": 91,
     "metadata": {},
     "output_type": "execute_result"
    }
   ],
   "source": [
    "#'X2STUEDEXPCT'\n",
    "\n",
    "stem_career = pd.DataFrame(data = modeling_df.X2STU30OCC_STEM1.value_counts(normalize = True).values, index = modeling_df.X2STU30OCC_STEM1.value_counts(normalize = True).index, columns = [\"2009\"])\n",
    "stem_major = pd.DataFrame(data = modeling_df.target.value_counts(normalize = True).values, index = modeling_df.target.value_counts(normalize = True).index, columns= ['2016'])\n",
    "\n",
    "difference_in_expectations = pd.concat([stem_career, stem_major], axis = 1).T\n",
    "difference_in_expectations.columns\n",
    "difference_in_expectations[0]"
   ]
  },
  {
   "cell_type": "code",
   "execution_count": 98,
   "metadata": {},
   "outputs": [
    {
     "data": {
      "image/png": "[encoded data removed]",
      "text/plain": [
       "<Figure size 432x288 with 1 Axes>"
      ]
     },
     "metadata": {
      "needs_background": "light"
     },
     "output_type": "display_data"
    }
   ],
   "source": [
    "labels = ['2009', '2016']\n",
    "no_STEM = difference_in_expectations[0]\n",
    "yes_STEM = difference_in_expectations[1]\n",
    "\n",
    "x = np.arange(len(labels))  # the label locations\n",
    "width = 0.35  # the width of the bars\n",
    "\n",
    "fig, ax = plt.subplots()\n",
    "rects1 = ax.bar(x - width/2, no_STEM, width, label='No')\n",
    "rects2 = ax.bar(x + width/2, yes_STEM, width, label='Yes')\n",
    "ax.set_ylabel('Percentage of Students')\n",
    "ax.set_title('Percentages of Students Interested in STEM by Year')\n",
    "ax.set_xticks(x)\n",
    "ax.set_xticklabels(labels)\n",
    "ax.legend();"
   ]
  },
  {
   "cell_type": "code",
   "execution_count": 28,
   "metadata": {},
   "outputs": [
    {
     "data": {
      "text/plain": [
       "0    0.767086\n",
       "1    0.232914\n",
       "Name: target, dtype: float64"
      ]
     },
     "execution_count": 28,
     "metadata": {},
     "output_type": "execute_result"
    }
   ],
   "source": [
    "modeling_df.target.value_counts(normalize = True)"
   ]
  },
  {
   "cell_type": "code",
   "execution_count": 137,
   "metadata": {},
   "outputs": [
    {
     "data": {
      "text/plain": [
       "1    0.722535\n",
       "0    0.277465\n",
       "Name: underrep, dtype: float64"
      ]
     },
     "execution_count": 137,
     "metadata": {},
     "output_type": "execute_result"
    }
   ],
   "source": [
    "modeling_df[modeling_df['X2STU30OCC_STEM1'] != modeling_df['target']]['underrep'].value_counts(normalize = True)"
   ]
  },
  {
   "cell_type": "code",
   "execution_count": 138,
   "metadata": {},
   "outputs": [
    {
     "data": {
      "text/html": [
       "<div>\n",
       "<style scoped>\n",
       "    .dataframe tbody tr th:only-of-type {\n",
       "        vertical-align: middle;\n",
       "    }\n",
       "\n",
       "    .dataframe tbody tr th {\n",
       "        vertical-align: top;\n",
       "    }\n",
       "\n",
       "    .dataframe thead th {\n",
       "        text-align: right;\n",
       "    }\n",
       "</style>\n",
       "<table border=\"1\" class=\"dataframe\">\n",
       "  <thead>\n",
       "    <tr style=\"text-align: right;\">\n",
       "      <th></th>\n",
       "      <th>percentage</th>\n",
       "    </tr>\n",
       "  </thead>\n",
       "  <tbody>\n",
       "    <tr>\n",
       "      <th>0</th>\n",
       "      <td>0.722535</td>\n",
       "    </tr>\n",
       "    <tr>\n",
       "      <th>1</th>\n",
       "      <td>0.277465</td>\n",
       "    </tr>\n",
       "  </tbody>\n",
       "</table>\n",
       "</div>"
      ],
      "text/plain": [
       "   percentage\n",
       "0    0.722535\n",
       "1    0.277465"
      ]
     },
     "execution_count": 138,
     "metadata": {},
     "output_type": "execute_result"
    }
   ],
   "source": [
    "dropstem = pd.DataFrame(data = modeling_df[modeling_df['X2STU30OCC_STEM1'] != modeling_df['target']]['underrep'].value_counts(normalize = True).values, columns= ['percentage'])\n",
    "dropstem\n"
   ]
  },
  {
   "cell_type": "code",
   "execution_count": 139,
   "metadata": {},
   "outputs": [],
   "source": [
    "underrep_dist = pd.DataFrame(data = modeling_df['underrep'].value_counts(normalize = True).values, columns = ['underrep_dist'])\n",
    "underrep_dist\n",
    "\n",
    "droppedstem = pd.concat([dropstem, underrep_dist], axis = 1)\n",
    "\n",
    "\n"
   ]
  },
  {
   "cell_type": "code",
   "execution_count": 140,
   "metadata": {},
   "outputs": [
    {
     "data": {
      "text/plain": [
       "Text(0, 0.5, 'Number of Students')"
      ]
     },
     "execution_count": 140,
     "metadata": {},
     "output_type": "execute_result"
    },
    {
     "data": {
      "image/png": "[encoded data removed]",
      "text/plain": [
       "<Figure size 432x288 with 1 Axes>"
      ]
     },
     "metadata": {
      "needs_background": "light"
     },
     "output_type": "display_data"
    }
   ],
   "source": [
    "ind = np.arange(2)\n",
    "labels = ['Underrepresented', 'Non-Underrepresented']\n",
    "\n",
    "plt.bar(ind, droppedstem['percentage'], width = 0.4, alpha = 0.5)\n",
    "plt.bar(ind, droppedstem['underrep_dist'], width = 0.4, alpha = 0.5)\n",
    "plt.xticks(ind, labels)\n",
    "plt.title('Distribution of Students who Dropped STEM from HS to College')\n",
    "plt.ylabel('Number of Students')"
   ]
  },
  {
   "cell_type": "markdown",
   "metadata": {},
   "source": [
    "1 not finish high school\n",
    "2 complete high school\n",
    "3 trade school\n",
    "4 complete associates\n",
    "5 complete bachelors\n",
    "6 complete masters\n",
    "7 complete phd\n",
    "8 do not know"
   ]
  },
  {
   "cell_type": "code",
   "execution_count": 277,
   "metadata": {},
   "outputs": [],
   "source": [
    "df['EXPECT'] = df['X2STUEDEXPCT'].replace({1:1, 2:2, 3:2, 4:3, 5:2, 6:4, 7:4, 8:5, 9:5, 10:6, 11:6, 12:7, 13:8})"
   ]
  },
  {
   "cell_type": "code",
   "execution_count": 290,
   "metadata": {},
   "outputs": [
    {
     "data": {
      "text/html": [
       "<div>\n",
       "<style scoped>\n",
       "    .dataframe tbody tr th:only-of-type {\n",
       "        vertical-align: middle;\n",
       "    }\n",
       "\n",
       "    .dataframe tbody tr th {\n",
       "        vertical-align: top;\n",
       "    }\n",
       "\n",
       "    .dataframe thead th {\n",
       "        text-align: right;\n",
       "    }\n",
       "</style>\n",
       "<table border=\"1\" class=\"dataframe\">\n",
       "  <thead>\n",
       "    <tr style=\"text-align: right;\">\n",
       "      <th></th>\n",
       "      <th>No HS Diploma</th>\n",
       "      <th>HS Diploma</th>\n",
       "      <th>Certificate</th>\n",
       "      <th>Associate Degree</th>\n",
       "      <th>Bachelor Degree</th>\n",
       "      <th>Masters Degree</th>\n",
       "      <th>PhD</th>\n",
       "      <th>Unsure</th>\n",
       "    </tr>\n",
       "  </thead>\n",
       "  <tbody>\n",
       "    <tr>\n",
       "      <th>male</th>\n",
       "      <td>0.007319</td>\n",
       "      <td>0.123267</td>\n",
       "      <td>0.057203</td>\n",
       "      <td>0.102562</td>\n",
       "      <td>0.284284</td>\n",
       "      <td>0.194723</td>\n",
       "      <td>0.117681</td>\n",
       "      <td>0.112962</td>\n",
       "    </tr>\n",
       "    <tr>\n",
       "      <th>female</th>\n",
       "      <td>0.003820</td>\n",
       "      <td>0.070421</td>\n",
       "      <td>0.043585</td>\n",
       "      <td>0.098923</td>\n",
       "      <td>0.279236</td>\n",
       "      <td>0.245837</td>\n",
       "      <td>0.166797</td>\n",
       "      <td>0.091381</td>\n",
       "    </tr>\n",
       "  </tbody>\n",
       "</table>\n",
       "</div>"
      ],
      "text/plain": [
       "        No HS Diploma  HS Diploma  Certificate  Associate Degree  \\\n",
       "male         0.007319    0.123267     0.057203          0.102562   \n",
       "female       0.003820    0.070421     0.043585          0.098923   \n",
       "\n",
       "        Bachelor Degree  Masters Degree       PhD    Unsure  \n",
       "male           0.284284        0.194723  0.117681  0.112962  \n",
       "female         0.279236        0.245837  0.166797  0.091381  "
      ]
     },
     "execution_count": 290,
     "metadata": {},
     "output_type": "execute_result"
    }
   ],
   "source": [
    "expect = pd.DataFrame(data = df.groupby('X2SEX')['EXPECT'].value_counts(normalize = True))\n",
    "expectations = expect.unstack()\n",
    "expectations.columns = ['No HS Diploma', 'HS Diploma', 'Certificate', 'Associate Degree', 'Bachelor Degree', 'Masters Degree', 'PhD', 'Unsure']\n",
    "expectations.index = ['male', 'female']\n",
    "expectations"
   ]
  },
  {
   "cell_type": "code",
   "execution_count": 296,
   "metadata": {},
   "outputs": [
    {
     "data": {
      "image/png": "[encoded data removed]",
      "text/plain": [
       "<Figure size 144x504 with 2 Axes>"
      ]
     },
     "metadata": {
      "needs_background": "light"
     },
     "output_type": "display_data"
    }
   ],
   "source": [
    "x,y = np.meshgrid(expectations.columns, expectations.index)\n",
    "#expectations *= 1000\n",
    "\n",
    "plt.figure(figsize = (2, 7))\n",
    "plt.scatter(x=y.flatten(), y=x.flatten(), s=expectations.values.flatten(), c = expectations.values.flatten(),  cmap= 'Blues')\n",
    "plt.colorbar()\n",
    "plt.margins(0.5, 0.1)\n",
    "plt.show()"
   ]
  },
  {
   "cell_type": "code",
   "execution_count": 288,
   "metadata": {},
   "outputs": [],
   "source": [
    "race_expect = pd.DataFrame(data = df.groupby('X2RACE')['EXPECT'].value_counts(normalize = True))\n",
    "race_expectations = race_expect.unstack()\n",
    "race_expectations.columns = ['No HS Diploma', 'HS Diploma', 'Certificate', 'Associate Degree', 'Bachelor Degree', 'Masters Degree', 'PhD', 'Unsure']\n",
    "race_expectations.index = ['American Indian/Alaska Native', 'Asian', 'Black/African American', 'Hispanic', 'Multiple Races', 'Native Hawaiian/Pacific Islander', 'White']\n",
    "\n",
    "\n"
   ]
  },
  {
   "cell_type": "code",
   "execution_count": 300,
   "metadata": {},
   "outputs": [
    {
     "data": {
      "image/png": "[encoded data removed]",
      "text/plain": [
       "<Figure size 720x720 with 2 Axes>"
      ]
     },
     "metadata": {
      "needs_background": "light"
     },
     "output_type": "display_data"
    }
   ],
   "source": [
    "x,y = np.meshgrid(race_expectations.columns, race_expectations.index)\n",
    "#race_expectations *= 2000\n",
    "\n",
    "plt.figure(figsize = (10, 10))\n",
    "plt.scatter(x=y.flatten(), y=x.flatten(), s=race_expectations.values.flatten(), c = race_expectations.values.flatten(),  cmap= 'Blues')\n",
    "plt.xticks(rotation=75)\n",
    "plt.colorbar()\n",
    "plt.margins(0.1, 0.1)\n",
    "plt.show()"
   ]
  },
  {
   "cell_type": "code",
   "execution_count": null,
   "metadata": {},
   "outputs": [],
   "source": []
  },
  {
   "cell_type": "code",
   "execution_count": 370,
   "metadata": {},
   "outputs": [],
   "source": [
    "target_demo = pd.DataFrame(modeling_df.groupby(by = ['X2RACE','X2SEX'])['target'].value_counts(normalize = True))"
   ]
  },
  {
   "cell_type": "code",
   "execution_count": 371,
   "metadata": {},
   "outputs": [],
   "source": [
    "\n",
    "\n",
    "\n",
    "target_demo.rename(columns = {'target':'value'}, inplace = True)\n",
    "target_demo.reset_index(inplace=True, level = ('X2RACE', 'X2SEX', 'target'))\n",
    "target_demo['X2SEX'] = target_demo['X2SEX'].map({1: 'Male', 2: 'Female'})"
   ]
  },
  {
   "cell_type": "code",
   "execution_count": 372,
   "metadata": {},
   "outputs": [],
   "source": [
    "target_demo = target_demo[target_demo['target'] != 0]"
   ]
  },
  {
   "cell_type": "code",
   "execution_count": 373,
   "metadata": {},
   "outputs": [
    {
     "data": {
      "text/html": [
       "<div>\n",
       "<style scoped>\n",
       "    .dataframe tbody tr th:only-of-type {\n",
       "        vertical-align: middle;\n",
       "    }\n",
       "\n",
       "    .dataframe tbody tr th {\n",
       "        vertical-align: top;\n",
       "    }\n",
       "\n",
       "    .dataframe thead th {\n",
       "        text-align: right;\n",
       "    }\n",
       "</style>\n",
       "<table border=\"1\" class=\"dataframe\">\n",
       "  <thead>\n",
       "    <tr style=\"text-align: right;\">\n",
       "      <th></th>\n",
       "      <th>X2RACE</th>\n",
       "      <th>X2SEX</th>\n",
       "      <th>target</th>\n",
       "      <th>value</th>\n",
       "    </tr>\n",
       "  </thead>\n",
       "  <tbody>\n",
       "    <tr>\n",
       "      <th>1</th>\n",
       "      <td>1</td>\n",
       "      <td>Male</td>\n",
       "      <td>1</td>\n",
       "      <td>0.250000</td>\n",
       "    </tr>\n",
       "    <tr>\n",
       "      <th>3</th>\n",
       "      <td>1</td>\n",
       "      <td>Female</td>\n",
       "      <td>1</td>\n",
       "      <td>0.193548</td>\n",
       "    </tr>\n",
       "    <tr>\n",
       "      <th>4</th>\n",
       "      <td>2</td>\n",
       "      <td>Male</td>\n",
       "      <td>1</td>\n",
       "      <td>0.527514</td>\n",
       "    </tr>\n",
       "    <tr>\n",
       "      <th>7</th>\n",
       "      <td>2</td>\n",
       "      <td>Female</td>\n",
       "      <td>1</td>\n",
       "      <td>0.337308</td>\n",
       "    </tr>\n",
       "    <tr>\n",
       "      <th>9</th>\n",
       "      <td>3</td>\n",
       "      <td>Male</td>\n",
       "      <td>1</td>\n",
       "      <td>0.225513</td>\n",
       "    </tr>\n",
       "    <tr>\n",
       "      <th>11</th>\n",
       "      <td>3</td>\n",
       "      <td>Female</td>\n",
       "      <td>1</td>\n",
       "      <td>0.122124</td>\n",
       "    </tr>\n",
       "    <tr>\n",
       "      <th>13</th>\n",
       "      <td>5</td>\n",
       "      <td>Male</td>\n",
       "      <td>1</td>\n",
       "      <td>0.295419</td>\n",
       "    </tr>\n",
       "    <tr>\n",
       "      <th>15</th>\n",
       "      <td>5</td>\n",
       "      <td>Female</td>\n",
       "      <td>1</td>\n",
       "      <td>0.128957</td>\n",
       "    </tr>\n",
       "    <tr>\n",
       "      <th>17</th>\n",
       "      <td>6</td>\n",
       "      <td>Male</td>\n",
       "      <td>1</td>\n",
       "      <td>0.287565</td>\n",
       "    </tr>\n",
       "    <tr>\n",
       "      <th>19</th>\n",
       "      <td>6</td>\n",
       "      <td>Female</td>\n",
       "      <td>1</td>\n",
       "      <td>0.175050</td>\n",
       "    </tr>\n",
       "    <tr>\n",
       "      <th>21</th>\n",
       "      <td>7</td>\n",
       "      <td>Male</td>\n",
       "      <td>1</td>\n",
       "      <td>0.208333</td>\n",
       "    </tr>\n",
       "    <tr>\n",
       "      <th>23</th>\n",
       "      <td>7</td>\n",
       "      <td>Female</td>\n",
       "      <td>1</td>\n",
       "      <td>0.250000</td>\n",
       "    </tr>\n",
       "    <tr>\n",
       "      <th>25</th>\n",
       "      <td>8</td>\n",
       "      <td>Male</td>\n",
       "      <td>1</td>\n",
       "      <td>0.315915</td>\n",
       "    </tr>\n",
       "    <tr>\n",
       "      <th>27</th>\n",
       "      <td>8</td>\n",
       "      <td>Female</td>\n",
       "      <td>1</td>\n",
       "      <td>0.135574</td>\n",
       "    </tr>\n",
       "  </tbody>\n",
       "</table>\n",
       "</div>"
      ],
      "text/plain": [
       "    X2RACE   X2SEX  target     value\n",
       "1        1    Male       1  0.250000\n",
       "3        1  Female       1  0.193548\n",
       "4        2    Male       1  0.527514\n",
       "7        2  Female       1  0.337308\n",
       "9        3    Male       1  0.225513\n",
       "11       3  Female       1  0.122124\n",
       "13       5    Male       1  0.295419\n",
       "15       5  Female       1  0.128957\n",
       "17       6    Male       1  0.287565\n",
       "19       6  Female       1  0.175050\n",
       "21       7    Male       1  0.208333\n",
       "23       7  Female       1  0.250000\n",
       "25       8    Male       1  0.315915\n",
       "27       8  Female       1  0.135574"
      ]
     },
     "execution_count": 373,
     "metadata": {},
     "output_type": "execute_result"
    }
   ],
   "source": [
    "target_demo"
   ]
  },
  {
   "cell_type": "code",
   "execution_count": 377,
   "metadata": {},
   "outputs": [
    {
     "data": {
      "text/plain": [
       "''"
      ]
     },
     "execution_count": 377,
     "metadata": {},
     "output_type": "execute_result"
    },
    {
     "data": {
      "image/png": "[encoded data removed]",
      "text/plain": [
       "<Figure size 720x504 with 1 Axes>"
      ]
     },
     "metadata": {
      "needs_background": "light"
     },
     "output_type": "display_data"
    }
   ],
   "source": [
    "plt.figure(figsize = (10, 7))\n",
    "sns.barplot(x = 'X2RACE', y = 'value', hue = 'X2SEX', data = target_demo)\n",
    "plt.xlabel('Race/Ethnicity')\n",
    "plt.ylabel('Percentage In STEM Major') \n",
    "plt.title('Percentage of Students Majoring in STEM by Race and Gender')\n",
    "plt.xticks(ticks = range(0,8), rotation = 75, labels = ['American Indian/Alaska Native', 'Asian', 'Black/African American', 'Hispanic', 'Multiple Races', 'Native Hawaiian/Pacific Islander', 'White'])\n",
    ";\n",
    "\n"
   ]
  },
  {
   "cell_type": "code",
   "execution_count": null,
   "metadata": {},
   "outputs": [],
   "source": [
    "x = np.arange(len(labels))  # the label locations\n",
    "width = 0.35  # the width of the bars\n",
    "\n",
    "fig, ax = plt.subplots()\n",
    "rects1 = ax.bar(x - width/2, no_STEM, width, label='No')\n",
    "rects2 = ax.bar(x + width/2, yes_STEM, width, label='Yes')\n",
    "ax.set_ylabel('Percentage of Students')\n",
    "ax.set_title('Percentages of Students Interested in STEM by Year')\n",
    "ax.set_xticks(x)\n",
    "ax.set_xticklabels(labels)\n",
    "ax.legend();"
   ]
  }
 ],
 "metadata": {
  "kernelspec": {
   "display_name": "Python 3",
   "language": "python",
   "name": "python3"
  },
  "language_info": {
   "codemirror_mode": {
    "name": "ipython",
    "version": 3
   },
   "file_extension": ".py",
   "mimetype": "text/x-python",
   "name": "python",
   "nbconvert_exporter": "python",
   "pygments_lexer": "ipython3",
   "version": "3.6.9"
  }
 },
 "nbformat": 4,
 "nbformat_minor": 4
}
