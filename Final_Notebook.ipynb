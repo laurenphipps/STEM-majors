{
 "cells": [
  {
   "cell_type": "markdown",
   "metadata": {},
   "source": [
    "# Increasing Students Selecting STEM Majors\n",
    "#### Lauren Phipps"
   ]
  },
  {
   "cell_type": "markdown",
   "metadata": {},
   "source": [
    "## Overview <a id=\"Overview\"></a>\n",
    "\n",
    "insert overview here\n",
    "\n",
    "\n",
    "[1. Business Problem](#Business-Problem)\n",
    "\n",
    "[2. Data Understanding](#Data-Understanding)\n",
    "\n",
    "[3. Data Preparation](#Data-Preparation)\n",
    "\n",
    "[4. Exploratory Data Analysis](#EDA)\n",
    "\n",
    "[5. Modeling](#Modeling)\n",
    "\n",
    "[6. Evaluation](#Evaluation)\n",
    "\n",
    "[7. Conclusion](#Conclusion)\n",
    "\n",
    "***"
   ]
  },
  {
   "cell_type": "markdown",
   "metadata": {},
   "source": [
    "## Business Problem <a id=\"Business-Problem\"></a>\n",
    "##### [(back to top)](#Overview)\n",
    "\n",
    "insert business problem\n",
    "\n",
    "***"
   ]
  },
  {
   "cell_type": "markdown",
   "metadata": {},
   "source": [
    "## Data Understanding <a id=\"Data-Understanding\"></a>\n",
    "##### [(back to top)](#Overview)\n",
    "\n",
    "where did the data come from?\n",
    "\n",
    "***"
   ]
  },
  {
   "cell_type": "markdown",
   "metadata": {},
   "source": [
    "## Data Preparation <a id=\"Data-Preparation\"></a>\n",
    "##### [(back to top)](#Overview)\n",
    "\n",
    "***"
   ]
  },
  {
   "cell_type": "markdown",
   "metadata": {},
   "source": [
    "## Exploratory Data Analysis <a id=\"EDA\"></a>\n",
    "##### [(back to top)](#Overview)\n",
    "\n",
    "***"
   ]
  },
  {
   "cell_type": "markdown",
   "metadata": {},
   "source": [
    "## Modeling <a id=\"Modeling\"></a>\n",
    "##### [(back to top)](#Overview)\n",
    "\n",
    "***"
   ]
  },
  {
   "cell_type": "markdown",
   "metadata": {},
   "source": [
    "## Evaluation <a id=\"Evaluation\"></a>\n",
    "##### [(back to top)](#Overview)\n",
    "\n"
   ]
  },
  {
   "cell_type": "markdown",
   "metadata": {},
   "source": [
    "## Conclusion <a id=\"Conclusion\"></a>\n",
    "##### [(back to top)](#Overview)"
   ]
  },
  {
   "cell_type": "code",
   "execution_count": null,
   "metadata": {},
   "outputs": [],
   "source": []
  }
 ],
 "metadata": {
  "kernelspec": {
   "display_name": "Python 3",
   "language": "python",
   "name": "python3"
  },
  "language_info": {
   "codemirror_mode": {
    "name": "ipython",
    "version": 3
   },
   "file_extension": ".py",
   "mimetype": "text/x-python",
   "name": "python",
   "nbconvert_exporter": "python",
   "pygments_lexer": "ipython3",
   "version": "3.6.9"
  }
 },
 "nbformat": 4,
 "nbformat_minor": 4
}
