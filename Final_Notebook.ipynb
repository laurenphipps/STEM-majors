{
 "cells": [
  {
   "cell_type": "markdown",
   "metadata": {},
   "source": [
    "# Increasing Students Selecting STEM Majors\n",
    "#### Lauren Phipps"
   ]
  },
  {
   "cell_type": "markdown",
   "metadata": {},
   "source": [
    "## Overview <a id=\"Overview\"></a>\n",
    "\n",
    "insert overview here\n",
    "\n",
    "\n",
    "[1. Business Problem](#Business-Problem)\n",
    "\n",
    "[2. Data Understanding](#Data-Understanding)\n",
    "\n",
    "[3. Data Preparation](#Data-Preparation)\n",
    "\n",
    "[4. Exploratory Data Analysis](#EDA)\n",
    "\n",
    "[5. Modeling](#Modeling)\n",
    "\n",
    "[6. Evaluation](#Evaluation)\n",
    "\n",
    "[7. Conclusion](#Conclusion)\n",
    "\n",
    "***"
   ]
  },
  {
   "cell_type": "markdown",
   "metadata": {},
   "source": [
    "## Business Problem <a id=\"Business-Problem\"></a>\n",
    "##### [(back to top)](#Overview)\n",
    "\n",
    "In 2020 alone, the Department of Education invested $578 million to support STEM (science, technology, engineering, and math) education programs. As the number of STEM jobs is growing at a rate that far exceeds non-STEM jobs (10.2% vs. 5.2%, respectively, from 2009-2015), it is becoming increasingly pressing and important have a substantial number of qualified candidates for these jobs. Over 90% of jobs in STEM require a college degree (Associate's degree or higher), so filling these roles means preparing students to pursue a STEM major in college. It is important to understand what factors and high school science experiences influence a student's decision to major in STEM, in order to know how to best invest this money. This project aims to determine these factors, with an additional focus on underrepresented groups in STEM. Underrepresented groups in STEM are people who identify as female, as well as people who are Black, Hispanic, Pacific Islander,  or Indiginous American. \n",
    "***"
   ]
  },
  {
   "cell_type": "markdown",
   "metadata": {},
   "source": [
    "## Data Understanding <a id=\"Data-Understanding\"></a>\n",
    "##### [(back to top)](#Overview)\n",
    "\n",
    "The data in this project comes from the 2009 High School Longitudinal Study from the National Center for Education Statistics within the United State Department of Education. The study surveyed over 23,000 students during the fall of their 9th grade year (baseline), two years later in the spring of their 11th grade year (2012), their 12th grade year (2013), and again three years after their expected high school graduation year (in 2016). The study plans to collect data one more time in 2025. The students in this study come form 944 different schools, both public and private, from all states across the United States. Each row in the dataset is a student and each feature a question on the survey.\n",
    "\n",
    "The project focused on the survey responses from the 2012 survey in order to get a more complete and thorough representation of the student's high school experience, with regards to impressions of science and participation in science activities. The target for the project comes from the 2016 survey, where students indicate whether or not they are enrolled in a STEM major. Only students who responded to the 2016 survey question were included in the modeling data set.  While there are many features included in the dataset, this project focused on the student's attitude towards science, specific experiences related to science (class enrollment, participation in clubs), impression of their science teacher, and their reasoning for taking science classes. \n",
    "\n",
    "A full feature list can be found here. The codebook for the categorical values can be found here. "
   ]
  },
  {
   "cell_type": "code",
   "execution_count": 287,
   "metadata": {},
   "outputs": [],
   "source": [
    "import custom_functions as cf\n",
    "import pandas as pd\n",
    "import numpy as np\n",
    "import seaborn as sns\n",
    "sns.set(font_scale = 1.3, style = 'whitegrid')\n",
    "import matplotlib.pyplot as plt\n",
    "import matplotlib.ticker as mtick\n",
    "%matplotlib inline\n",
    "import plotly\n",
    "import plotly.figure_factory as ff\n",
    "from plotly.offline import *\n",
    "from sklearn.preprocessing import StandardScaler\n",
    "from sklearn.model_selection import train_test_split\n",
    "from sklearn.model_selection import cross_val_score\n",
    "from sklearn.model_selection import cross_validate\n",
    "from sklearn import metrics\n",
    "from sklearn.metrics import make_scorer, accuracy_score\n",
    "from sklearn.linear_model import LogisticRegression\n",
    "from sklearn.feature_selection import SelectKBest, f_regression,mutual_info_regression\n",
    "from sklearn.tree import DecisionTreeClassifier\n",
    "from sklearn.model_selection import GridSearchCV\n",
    "from sklearn.metrics import confusion_matrix\n",
    "from imblearn.over_sampling import SMOTE\n",
    "from math import e\n",
    "from matplotlib.patches import Patch\n",
    "from sklearn.metrics import roc_curve, roc_auc_score\n",
    "\n",
    "pd.set_option('display.max_columns', 300)\n",
    "%autoreload 2"
   ]
  },
  {
   "cell_type": "code",
   "execution_count": 82,
   "metadata": {},
   "outputs": [
    {
     "data": {
      "text/html": [
       "<div>\n",
       "<style scoped>\n",
       "    .dataframe tbody tr th:only-of-type {\n",
       "        vertical-align: middle;\n",
       "    }\n",
       "\n",
       "    .dataframe tbody tr th {\n",
       "        vertical-align: top;\n",
       "    }\n",
       "\n",
       "    .dataframe thead th {\n",
       "        text-align: right;\n",
       "    }\n",
       "</style>\n",
       "<table border=\"1\" class=\"dataframe\">\n",
       "  <thead>\n",
       "    <tr style=\"text-align: right;\">\n",
       "      <th></th>\n",
       "      <th>X2SEX</th>\n",
       "      <th>X2RACE</th>\n",
       "      <th>X2DUALLANG</th>\n",
       "      <th>X2POVERTY185</th>\n",
       "      <th>X2SESQ5_U</th>\n",
       "      <th>X2STU30OCC_STEM1</th>\n",
       "      <th>X2STUEDEXPCT</th>\n",
       "      <th>X2S2SSPR12</th>\n",
       "      <th>X2CONTROL</th>\n",
       "      <th>X2LOCALE</th>\n",
       "      <th>X2REGION</th>\n",
       "      <th>X4RFDGMJSTEM</th>\n",
       "      <th>X4RFDGMJ123</th>\n",
       "      <th>S2APSCIENCE</th>\n",
       "      <th>S2IBSCIENCE</th>\n",
       "      <th>S2SSPR12</th>\n",
       "      <th>S2LIFES12</th>\n",
       "      <th>S2BIO1S12</th>\n",
       "      <th>S2BIO2S12</th>\n",
       "      <th>S2APBIOS12</th>\n",
       "      <th>S2IBIOS12</th>\n",
       "      <th>S2ANATOMYS12</th>\n",
       "      <th>S2OTHBIOS12</th>\n",
       "      <th>S2CHEM1S12</th>\n",
       "      <th>S2CHEM2S12</th>\n",
       "      <th>S2APCHEM12</th>\n",
       "      <th>S2IBCHEM12</th>\n",
       "      <th>S2EARTHS12</th>\n",
       "      <th>S2APENVS12</th>\n",
       "      <th>S2OTHENVS12</th>\n",
       "      <th>S2PHYSIC1S12</th>\n",
       "      <th>S2PHYSIC2S12</th>\n",
       "      <th>S2APPHYSIC12</th>\n",
       "      <th>S2IBPHYSIC12</th>\n",
       "      <th>S2PHYSS12</th>\n",
       "      <th>S2TECHS12</th>\n",
       "      <th>S2OTHPHYS12</th>\n",
       "      <th>S2INTGS1S12</th>\n",
       "      <th>S2INTGS2S12</th>\n",
       "      <th>S2GENS12</th>\n",
       "      <th>S2COMPAPP12</th>\n",
       "      <th>S2COMPPROG12</th>\n",
       "      <th>S2APCOMPSCI12</th>\n",
       "      <th>S2IBTECH12</th>\n",
       "      <th>S2OTHCOMP12</th>\n",
       "      <th>S2ENGINEER12</th>\n",
       "      <th>S2OTHS12</th>\n",
       "      <th>S2OTHS12SP</th>\n",
       "      <th>S2HISCIENCE12</th>\n",
       "      <th>S2STOOKBEFORE</th>\n",
       "      <th>S2SENJOYS</th>\n",
       "      <th>S2SCHALLENGE</th>\n",
       "      <th>S2SHSREQ</th>\n",
       "      <th>S2SCLGADM</th>\n",
       "      <th>S2SCLGSUCC</th>\n",
       "      <th>S2SCAREER</th>\n",
       "      <th>S2SCNSLREC</th>\n",
       "      <th>S2STCHRREC</th>\n",
       "      <th>S2SPARREC</th>\n",
       "      <th>S2SFAMREC</th>\n",
       "      <th>S2SEMPREC</th>\n",
       "      <th>S2SFRIEND</th>\n",
       "      <th>S2SDOWELL</th>\n",
       "      <th>S2SASSIGNED</th>\n",
       "      <th>S2STCHTREAT</th>\n",
       "      <th>S2STCHINTRST</th>\n",
       "      <th>S2STCHEASY</th>\n",
       "      <th>S2STCHTHINK</th>\n",
       "      <th>S2STCHGIVEUP</th>\n",
       "      <th>S2SENJOYING</th>\n",
       "      <th>S2STEXTBOOK</th>\n",
       "      <th>S2SWASTE</th>\n",
       "      <th>S2SSKILLS</th>\n",
       "      <th>S2STESTS</th>\n",
       "      <th>S2SBORING</th>\n",
       "      <th>S2SASSEXCL</th>\n",
       "      <th>S2HSPLAN</th>\n",
       "      <th>S2SUBMITPLAN</th>\n",
       "      <th>S2SPERSON1</th>\n",
       "      <th>S2SPERSON2</th>\n",
       "      <th>S2SLEARN</th>\n",
       "      <th>S2SBORN</th>\n",
       "      <th>S2SUSELIFE</th>\n",
       "      <th>S2SUSECLG</th>\n",
       "      <th>S2SUSEJOB</th>\n",
       "      <th>S2SCLUB</th>\n",
       "      <th>S2SCOMPETE</th>\n",
       "      <th>S2SSUMMERPRG</th>\n",
       "      <th>S2SGROUP</th>\n",
       "      <th>S2STUTORED</th>\n",
       "    </tr>\n",
       "  </thead>\n",
       "  <tbody>\n",
       "    <tr>\n",
       "      <th>0</th>\n",
       "      <td>1</td>\n",
       "      <td>8</td>\n",
       "      <td>1</td>\n",
       "      <td>0</td>\n",
       "      <td>5</td>\n",
       "      <td>0</td>\n",
       "      <td>10</td>\n",
       "      <td>1</td>\n",
       "      <td>1</td>\n",
       "      <td>4</td>\n",
       "      <td>2</td>\n",
       "      <td>1</td>\n",
       "      <td>3</td>\n",
       "      <td>1</td>\n",
       "      <td>-7</td>\n",
       "      <td>1</td>\n",
       "      <td>0</td>\n",
       "      <td>0</td>\n",
       "      <td>0</td>\n",
       "      <td>0</td>\n",
       "      <td>0</td>\n",
       "      <td>0</td>\n",
       "      <td>0</td>\n",
       "      <td>0</td>\n",
       "      <td>1</td>\n",
       "      <td>0</td>\n",
       "      <td>0</td>\n",
       "      <td>0</td>\n",
       "      <td>0</td>\n",
       "      <td>0</td>\n",
       "      <td>0</td>\n",
       "      <td>0</td>\n",
       "      <td>0</td>\n",
       "      <td>0</td>\n",
       "      <td>0</td>\n",
       "      <td>-5</td>\n",
       "      <td>0</td>\n",
       "      <td>0</td>\n",
       "      <td>0</td>\n",
       "      <td>0</td>\n",
       "      <td>0</td>\n",
       "      <td>0</td>\n",
       "      <td>0</td>\n",
       "      <td>-5</td>\n",
       "      <td>0</td>\n",
       "      <td>0</td>\n",
       "      <td>-5</td>\n",
       "      <td>-5</td>\n",
       "      <td>9</td>\n",
       "      <td>-7</td>\n",
       "      <td>1</td>\n",
       "      <td>1</td>\n",
       "      <td>0</td>\n",
       "      <td>0</td>\n",
       "      <td>1</td>\n",
       "      <td>1</td>\n",
       "      <td>0</td>\n",
       "      <td>0</td>\n",
       "      <td>0</td>\n",
       "      <td>0</td>\n",
       "      <td>0</td>\n",
       "      <td>1</td>\n",
       "      <td>1</td>\n",
       "      <td>0</td>\n",
       "      <td>3</td>\n",
       "      <td>1</td>\n",
       "      <td>1</td>\n",
       "      <td>1</td>\n",
       "      <td>2</td>\n",
       "      <td>2</td>\n",
       "      <td>2</td>\n",
       "      <td>3</td>\n",
       "      <td>1</td>\n",
       "      <td>1</td>\n",
       "      <td>3</td>\n",
       "      <td>1</td>\n",
       "      <td>2</td>\n",
       "      <td>-7</td>\n",
       "      <td>2</td>\n",
       "      <td>2</td>\n",
       "      <td>2</td>\n",
       "      <td>3</td>\n",
       "      <td>1</td>\n",
       "      <td>1</td>\n",
       "      <td>1</td>\n",
       "      <td>0</td>\n",
       "      <td>0</td>\n",
       "      <td>0</td>\n",
       "      <td>0</td>\n",
       "      <td>0</td>\n",
       "    </tr>\n",
       "    <tr>\n",
       "      <th>1</th>\n",
       "      <td>2</td>\n",
       "      <td>8</td>\n",
       "      <td>1</td>\n",
       "      <td>1</td>\n",
       "      <td>2</td>\n",
       "      <td>0</td>\n",
       "      <td>8</td>\n",
       "      <td>1</td>\n",
       "      <td>1</td>\n",
       "      <td>4</td>\n",
       "      <td>1</td>\n",
       "      <td>0</td>\n",
       "      <td>14</td>\n",
       "      <td>-7</td>\n",
       "      <td>-7</td>\n",
       "      <td>1</td>\n",
       "      <td>0</td>\n",
       "      <td>0</td>\n",
       "      <td>0</td>\n",
       "      <td>0</td>\n",
       "      <td>0</td>\n",
       "      <td>0</td>\n",
       "      <td>0</td>\n",
       "      <td>0</td>\n",
       "      <td>1</td>\n",
       "      <td>0</td>\n",
       "      <td>0</td>\n",
       "      <td>0</td>\n",
       "      <td>0</td>\n",
       "      <td>0</td>\n",
       "      <td>0</td>\n",
       "      <td>0</td>\n",
       "      <td>0</td>\n",
       "      <td>0</td>\n",
       "      <td>0</td>\n",
       "      <td>-5</td>\n",
       "      <td>0</td>\n",
       "      <td>0</td>\n",
       "      <td>0</td>\n",
       "      <td>0</td>\n",
       "      <td>0</td>\n",
       "      <td>0</td>\n",
       "      <td>0</td>\n",
       "      <td>-5</td>\n",
       "      <td>0</td>\n",
       "      <td>0</td>\n",
       "      <td>-5</td>\n",
       "      <td>-5</td>\n",
       "      <td>9</td>\n",
       "      <td>-7</td>\n",
       "      <td>0</td>\n",
       "      <td>1</td>\n",
       "      <td>0</td>\n",
       "      <td>1</td>\n",
       "      <td>1</td>\n",
       "      <td>0</td>\n",
       "      <td>1</td>\n",
       "      <td>1</td>\n",
       "      <td>1</td>\n",
       "      <td>1</td>\n",
       "      <td>0</td>\n",
       "      <td>0</td>\n",
       "      <td>1</td>\n",
       "      <td>0</td>\n",
       "      <td>3</td>\n",
       "      <td>3</td>\n",
       "      <td>2</td>\n",
       "      <td>2</td>\n",
       "      <td>2</td>\n",
       "      <td>3</td>\n",
       "      <td>3</td>\n",
       "      <td>3</td>\n",
       "      <td>3</td>\n",
       "      <td>3</td>\n",
       "      <td>2</td>\n",
       "      <td>1</td>\n",
       "      <td>1</td>\n",
       "      <td>1</td>\n",
       "      <td>3</td>\n",
       "      <td>3</td>\n",
       "      <td>2</td>\n",
       "      <td>1</td>\n",
       "      <td>2</td>\n",
       "      <td>2</td>\n",
       "      <td>2</td>\n",
       "      <td>0</td>\n",
       "      <td>0</td>\n",
       "      <td>0</td>\n",
       "      <td>0</td>\n",
       "      <td>0</td>\n",
       "    </tr>\n",
       "    <tr>\n",
       "      <th>2</th>\n",
       "      <td>2</td>\n",
       "      <td>3</td>\n",
       "      <td>1</td>\n",
       "      <td>0</td>\n",
       "      <td>5</td>\n",
       "      <td>0</td>\n",
       "      <td>12</td>\n",
       "      <td>1</td>\n",
       "      <td>1</td>\n",
       "      <td>2</td>\n",
       "      <td>4</td>\n",
       "      <td>1</td>\n",
       "      <td>8</td>\n",
       "      <td>1</td>\n",
       "      <td>-7</td>\n",
       "      <td>1</td>\n",
       "      <td>0</td>\n",
       "      <td>0</td>\n",
       "      <td>0</td>\n",
       "      <td>0</td>\n",
       "      <td>0</td>\n",
       "      <td>0</td>\n",
       "      <td>0</td>\n",
       "      <td>0</td>\n",
       "      <td>0</td>\n",
       "      <td>1</td>\n",
       "      <td>0</td>\n",
       "      <td>0</td>\n",
       "      <td>0</td>\n",
       "      <td>0</td>\n",
       "      <td>0</td>\n",
       "      <td>0</td>\n",
       "      <td>0</td>\n",
       "      <td>0</td>\n",
       "      <td>0</td>\n",
       "      <td>-5</td>\n",
       "      <td>0</td>\n",
       "      <td>0</td>\n",
       "      <td>0</td>\n",
       "      <td>0</td>\n",
       "      <td>0</td>\n",
       "      <td>0</td>\n",
       "      <td>0</td>\n",
       "      <td>-5</td>\n",
       "      <td>0</td>\n",
       "      <td>0</td>\n",
       "      <td>-5</td>\n",
       "      <td>-5</td>\n",
       "      <td>10</td>\n",
       "      <td>-7</td>\n",
       "      <td>0</td>\n",
       "      <td>0</td>\n",
       "      <td>1</td>\n",
       "      <td>1</td>\n",
       "      <td>1</td>\n",
       "      <td>0</td>\n",
       "      <td>0</td>\n",
       "      <td>0</td>\n",
       "      <td>1</td>\n",
       "      <td>0</td>\n",
       "      <td>0</td>\n",
       "      <td>0</td>\n",
       "      <td>0</td>\n",
       "      <td>0</td>\n",
       "      <td>3</td>\n",
       "      <td>3</td>\n",
       "      <td>4</td>\n",
       "      <td>1</td>\n",
       "      <td>2</td>\n",
       "      <td>4</td>\n",
       "      <td>4</td>\n",
       "      <td>3</td>\n",
       "      <td>4</td>\n",
       "      <td>4</td>\n",
       "      <td>1</td>\n",
       "      <td>3</td>\n",
       "      <td>2</td>\n",
       "      <td>-7</td>\n",
       "      <td>4</td>\n",
       "      <td>4</td>\n",
       "      <td>2</td>\n",
       "      <td>2</td>\n",
       "      <td>4</td>\n",
       "      <td>2</td>\n",
       "      <td>1</td>\n",
       "      <td>0</td>\n",
       "      <td>0</td>\n",
       "      <td>0</td>\n",
       "      <td>0</td>\n",
       "      <td>0</td>\n",
       "    </tr>\n",
       "    <tr>\n",
       "      <th>3</th>\n",
       "      <td>2</td>\n",
       "      <td>8</td>\n",
       "      <td>1</td>\n",
       "      <td>1</td>\n",
       "      <td>2</td>\n",
       "      <td>-8</td>\n",
       "      <td>-8</td>\n",
       "      <td>-8</td>\n",
       "      <td>1</td>\n",
       "      <td>2</td>\n",
       "      <td>3</td>\n",
       "      <td>-7</td>\n",
       "      <td>-7</td>\n",
       "      <td>-8</td>\n",
       "      <td>-8</td>\n",
       "      <td>-8</td>\n",
       "      <td>-8</td>\n",
       "      <td>-8</td>\n",
       "      <td>-8</td>\n",
       "      <td>-8</td>\n",
       "      <td>-8</td>\n",
       "      <td>-8</td>\n",
       "      <td>-8</td>\n",
       "      <td>-8</td>\n",
       "      <td>-8</td>\n",
       "      <td>-8</td>\n",
       "      <td>-8</td>\n",
       "      <td>-8</td>\n",
       "      <td>-8</td>\n",
       "      <td>-8</td>\n",
       "      <td>-8</td>\n",
       "      <td>-8</td>\n",
       "      <td>-8</td>\n",
       "      <td>-8</td>\n",
       "      <td>-8</td>\n",
       "      <td>-5</td>\n",
       "      <td>-8</td>\n",
       "      <td>-8</td>\n",
       "      <td>-8</td>\n",
       "      <td>-8</td>\n",
       "      <td>-8</td>\n",
       "      <td>-8</td>\n",
       "      <td>-8</td>\n",
       "      <td>-5</td>\n",
       "      <td>-8</td>\n",
       "      <td>-8</td>\n",
       "      <td>-5</td>\n",
       "      <td>-5</td>\n",
       "      <td>-8</td>\n",
       "      <td>-8</td>\n",
       "      <td>-8</td>\n",
       "      <td>-8</td>\n",
       "      <td>-8</td>\n",
       "      <td>-8</td>\n",
       "      <td>-8</td>\n",
       "      <td>-8</td>\n",
       "      <td>-8</td>\n",
       "      <td>-8</td>\n",
       "      <td>-8</td>\n",
       "      <td>-8</td>\n",
       "      <td>-8</td>\n",
       "      <td>-8</td>\n",
       "      <td>-8</td>\n",
       "      <td>-8</td>\n",
       "      <td>-8</td>\n",
       "      <td>-8</td>\n",
       "      <td>-8</td>\n",
       "      <td>-8</td>\n",
       "      <td>-8</td>\n",
       "      <td>-8</td>\n",
       "      <td>-8</td>\n",
       "      <td>-8</td>\n",
       "      <td>-8</td>\n",
       "      <td>-8</td>\n",
       "      <td>-8</td>\n",
       "      <td>-8</td>\n",
       "      <td>-8</td>\n",
       "      <td>-8</td>\n",
       "      <td>-8</td>\n",
       "      <td>-8</td>\n",
       "      <td>-8</td>\n",
       "      <td>-8</td>\n",
       "      <td>-8</td>\n",
       "      <td>-8</td>\n",
       "      <td>-8</td>\n",
       "      <td>-8</td>\n",
       "      <td>-8</td>\n",
       "      <td>-8</td>\n",
       "      <td>-8</td>\n",
       "      <td>-8</td>\n",
       "    </tr>\n",
       "    <tr>\n",
       "      <th>4</th>\n",
       "      <td>1</td>\n",
       "      <td>8</td>\n",
       "      <td>1</td>\n",
       "      <td>0</td>\n",
       "      <td>5</td>\n",
       "      <td>0</td>\n",
       "      <td>9</td>\n",
       "      <td>0</td>\n",
       "      <td>1</td>\n",
       "      <td>1</td>\n",
       "      <td>3</td>\n",
       "      <td>-7</td>\n",
       "      <td>-7</td>\n",
       "      <td>-7</td>\n",
       "      <td>-7</td>\n",
       "      <td>0</td>\n",
       "      <td>-7</td>\n",
       "      <td>-7</td>\n",
       "      <td>-7</td>\n",
       "      <td>-7</td>\n",
       "      <td>-7</td>\n",
       "      <td>-7</td>\n",
       "      <td>-7</td>\n",
       "      <td>-7</td>\n",
       "      <td>-7</td>\n",
       "      <td>-7</td>\n",
       "      <td>-7</td>\n",
       "      <td>-7</td>\n",
       "      <td>-7</td>\n",
       "      <td>-7</td>\n",
       "      <td>-7</td>\n",
       "      <td>-7</td>\n",
       "      <td>-7</td>\n",
       "      <td>-7</td>\n",
       "      <td>-7</td>\n",
       "      <td>-5</td>\n",
       "      <td>-7</td>\n",
       "      <td>-7</td>\n",
       "      <td>-7</td>\n",
       "      <td>-7</td>\n",
       "      <td>-7</td>\n",
       "      <td>-7</td>\n",
       "      <td>-7</td>\n",
       "      <td>-5</td>\n",
       "      <td>-7</td>\n",
       "      <td>-7</td>\n",
       "      <td>-5</td>\n",
       "      <td>-5</td>\n",
       "      <td>-7</td>\n",
       "      <td>0</td>\n",
       "      <td>-7</td>\n",
       "      <td>-7</td>\n",
       "      <td>-7</td>\n",
       "      <td>-7</td>\n",
       "      <td>-7</td>\n",
       "      <td>-7</td>\n",
       "      <td>-7</td>\n",
       "      <td>-7</td>\n",
       "      <td>-7</td>\n",
       "      <td>-7</td>\n",
       "      <td>-7</td>\n",
       "      <td>-7</td>\n",
       "      <td>-7</td>\n",
       "      <td>-7</td>\n",
       "      <td>-7</td>\n",
       "      <td>-7</td>\n",
       "      <td>-7</td>\n",
       "      <td>-7</td>\n",
       "      <td>-7</td>\n",
       "      <td>-9</td>\n",
       "      <td>-9</td>\n",
       "      <td>1</td>\n",
       "      <td>-9</td>\n",
       "      <td>-9</td>\n",
       "      <td>-9</td>\n",
       "      <td>-9</td>\n",
       "      <td>2</td>\n",
       "      <td>-7</td>\n",
       "      <td>1</td>\n",
       "      <td>-9</td>\n",
       "      <td>-9</td>\n",
       "      <td>-9</td>\n",
       "      <td>1</td>\n",
       "      <td>-9</td>\n",
       "      <td>-9</td>\n",
       "      <td>0</td>\n",
       "      <td>0</td>\n",
       "      <td>0</td>\n",
       "      <td>0</td>\n",
       "      <td>0</td>\n",
       "    </tr>\n",
       "  </tbody>\n",
       "</table>\n",
       "</div>"
      ],
      "text/plain": [
       "   X2SEX  X2RACE  X2DUALLANG  X2POVERTY185  X2SESQ5_U  X2STU30OCC_STEM1  \\\n",
       "0      1       8           1             0          5                 0   \n",
       "1      2       8           1             1          2                 0   \n",
       "2      2       3           1             0          5                 0   \n",
       "3      2       8           1             1          2                -8   \n",
       "4      1       8           1             0          5                 0   \n",
       "\n",
       "   X2STUEDEXPCT  X2S2SSPR12  X2CONTROL  X2LOCALE  X2REGION  X4RFDGMJSTEM  \\\n",
       "0            10           1          1         4         2             1   \n",
       "1             8           1          1         4         1             0   \n",
       "2            12           1          1         2         4             1   \n",
       "3            -8          -8          1         2         3            -7   \n",
       "4             9           0          1         1         3            -7   \n",
       "\n",
       "   X4RFDGMJ123  S2APSCIENCE  S2IBSCIENCE  S2SSPR12  S2LIFES12  S2BIO1S12  \\\n",
       "0            3            1           -7         1          0          0   \n",
       "1           14           -7           -7         1          0          0   \n",
       "2            8            1           -7         1          0          0   \n",
       "3           -7           -8           -8        -8         -8         -8   \n",
       "4           -7           -7           -7         0         -7         -7   \n",
       "\n",
       "   S2BIO2S12  S2APBIOS12  S2IBIOS12  S2ANATOMYS12  S2OTHBIOS12  S2CHEM1S12  \\\n",
       "0          0           0          0             0            0           0   \n",
       "1          0           0          0             0            0           0   \n",
       "2          0           0          0             0            0           0   \n",
       "3         -8          -8         -8            -8           -8          -8   \n",
       "4         -7          -7         -7            -7           -7          -7   \n",
       "\n",
       "   S2CHEM2S12  S2APCHEM12  S2IBCHEM12  S2EARTHS12  S2APENVS12  S2OTHENVS12  \\\n",
       "0           1           0           0           0           0            0   \n",
       "1           1           0           0           0           0            0   \n",
       "2           0           1           0           0           0            0   \n",
       "3          -8          -8          -8          -8          -8           -8   \n",
       "4          -7          -7          -7          -7          -7           -7   \n",
       "\n",
       "   S2PHYSIC1S12  S2PHYSIC2S12  S2APPHYSIC12  S2IBPHYSIC12  S2PHYSS12  \\\n",
       "0             0             0             0             0          0   \n",
       "1             0             0             0             0          0   \n",
       "2             0             0             0             0          0   \n",
       "3            -8            -8            -8            -8         -8   \n",
       "4            -7            -7            -7            -7         -7   \n",
       "\n",
       "   S2TECHS12  S2OTHPHYS12  S2INTGS1S12  S2INTGS2S12  S2GENS12  S2COMPAPP12  \\\n",
       "0         -5            0            0            0         0            0   \n",
       "1         -5            0            0            0         0            0   \n",
       "2         -5            0            0            0         0            0   \n",
       "3         -5           -8           -8           -8        -8           -8   \n",
       "4         -5           -7           -7           -7        -7           -7   \n",
       "\n",
       "   S2COMPPROG12  S2APCOMPSCI12  S2IBTECH12  S2OTHCOMP12  S2ENGINEER12  \\\n",
       "0             0              0          -5            0             0   \n",
       "1             0              0          -5            0             0   \n",
       "2             0              0          -5            0             0   \n",
       "3            -8             -8          -5           -8            -8   \n",
       "4            -7             -7          -5           -7            -7   \n",
       "\n",
       "   S2OTHS12  S2OTHS12SP  S2HISCIENCE12  S2STOOKBEFORE  S2SENJOYS  \\\n",
       "0        -5          -5              9             -7          1   \n",
       "1        -5          -5              9             -7          0   \n",
       "2        -5          -5             10             -7          0   \n",
       "3        -5          -5             -8             -8         -8   \n",
       "4        -5          -5             -7              0         -7   \n",
       "\n",
       "   S2SCHALLENGE  S2SHSREQ  S2SCLGADM  S2SCLGSUCC  S2SCAREER  S2SCNSLREC  \\\n",
       "0             1         0          0           1          1           0   \n",
       "1             1         0          1           1          0           1   \n",
       "2             0         1          1           1          0           0   \n",
       "3            -8        -8         -8          -8         -8          -8   \n",
       "4            -7        -7         -7          -7         -7          -7   \n",
       "\n",
       "   S2STCHRREC  S2SPARREC  S2SFAMREC  S2SEMPREC  S2SFRIEND  S2SDOWELL  \\\n",
       "0           0          0          0          0          1          1   \n",
       "1           1          1          1          0          0          1   \n",
       "2           0          1          0          0          0          0   \n",
       "3          -8         -8         -8         -8         -8         -8   \n",
       "4          -7         -7         -7         -7         -7         -7   \n",
       "\n",
       "   S2SASSIGNED  S2STCHTREAT  S2STCHINTRST  S2STCHEASY  S2STCHTHINK  \\\n",
       "0            0            3             1           1            1   \n",
       "1            0            3             3           2            2   \n",
       "2            0            3             3           4            1   \n",
       "3           -8           -8            -8          -8           -8   \n",
       "4           -7           -7            -7          -7           -7   \n",
       "\n",
       "   S2STCHGIVEUP  S2SENJOYING  S2STEXTBOOK  S2SWASTE  S2SSKILLS  S2STESTS  \\\n",
       "0             2            2            2         3          1         1   \n",
       "1             2            3            3         3          3         3   \n",
       "2             2            4            4         3          4         4   \n",
       "3            -8           -8           -8        -8         -8        -8   \n",
       "4            -7           -9           -9         1         -9        -9   \n",
       "\n",
       "   S2SBORING  S2SASSEXCL  S2HSPLAN  S2SUBMITPLAN  S2SPERSON1  S2SPERSON2  \\\n",
       "0          3           1         2            -7           2           2   \n",
       "1          2           1         1             1           3           3   \n",
       "2          1           3         2            -7           4           4   \n",
       "3         -8          -8        -8            -8          -8          -8   \n",
       "4         -9          -9         2            -7           1          -9   \n",
       "\n",
       "   S2SLEARN  S2SBORN  S2SUSELIFE  S2SUSECLG  S2SUSEJOB  S2SCLUB  S2SCOMPETE  \\\n",
       "0         2        3           1          1          1        0           0   \n",
       "1         2        1           2          2          2        0           0   \n",
       "2         2        2           4          2          1        0           0   \n",
       "3        -8       -8          -8         -8         -8       -8          -8   \n",
       "4        -9       -9           1         -9         -9        0           0   \n",
       "\n",
       "   S2SSUMMERPRG  S2SGROUP  S2STUTORED  \n",
       "0             0         0           0  \n",
       "1             0         0           0  \n",
       "2             0         0           0  \n",
       "3            -8        -8          -8  \n",
       "4             0         0           0  "
      ]
     },
     "execution_count": 82,
     "metadata": {},
     "output_type": "execute_result"
    }
   ],
   "source": [
    "df = cf.import_it('data-files/HSLS/hsls_17_student_pets_sr_v1_0.csv')\n",
    "df.head(5)"
   ]
  },
  {
   "cell_type": "code",
   "execution_count": 49,
   "metadata": {},
   "outputs": [
    {
     "name": "stdout",
     "output_type": "stream",
     "text": [
      "<class 'pandas.core.frame.DataFrame'>\n",
      "RangeIndex: 23503 entries, 0 to 23502\n",
      "Data columns (total 90 columns):\n",
      "X2SEX               23503 non-null int64\n",
      "X2RACE              23503 non-null int64\n",
      "X2DUALLANG          23503 non-null int64\n",
      "X2POVERTY185        23503 non-null int64\n",
      "X2SESQ5_U           23503 non-null int64\n",
      "X2STU30OCC_STEM1    23503 non-null int64\n",
      "X2STUEDEXPCT        23503 non-null int64\n",
      "X2S2SSPR12          23503 non-null int64\n",
      "X2CONTROL           23503 non-null int64\n",
      "X2LOCALE            23503 non-null int64\n",
      "X2REGION            23503 non-null int64\n",
      "X4RFDGMJSTEM        23503 non-null int64\n",
      "X4RFDGMJ123         23503 non-null int64\n",
      "S2APSCIENCE         23503 non-null int64\n",
      "S2IBSCIENCE         23503 non-null int64\n",
      "S2SSPR12            23503 non-null int64\n",
      "S2LIFES12           23503 non-null int64\n",
      "S2BIO1S12           23503 non-null int64\n",
      "S2BIO2S12           23503 non-null int64\n",
      "S2APBIOS12          23503 non-null int64\n",
      "S2IBIOS12           23503 non-null int64\n",
      "S2ANATOMYS12        23503 non-null int64\n",
      "S2OTHBIOS12         23503 non-null int64\n",
      "S2CHEM1S12          23503 non-null int64\n",
      "S2CHEM2S12          23503 non-null int64\n",
      "S2APCHEM12          23503 non-null int64\n",
      "S2IBCHEM12          23503 non-null int64\n",
      "S2EARTHS12          23503 non-null int64\n",
      "S2APENVS12          23503 non-null int64\n",
      "S2OTHENVS12         23503 non-null int64\n",
      "S2PHYSIC1S12        23503 non-null int64\n",
      "S2PHYSIC2S12        23503 non-null int64\n",
      "S2APPHYSIC12        23503 non-null int64\n",
      "S2IBPHYSIC12        23503 non-null int64\n",
      "S2PHYSS12           23503 non-null int64\n",
      "S2TECHS12           23503 non-null int64\n",
      "S2OTHPHYS12         23503 non-null int64\n",
      "S2INTGS1S12         23503 non-null int64\n",
      "S2INTGS2S12         23503 non-null int64\n",
      "S2GENS12            23503 non-null int64\n",
      "S2COMPAPP12         23503 non-null int64\n",
      "S2COMPPROG12        23503 non-null int64\n",
      "S2APCOMPSCI12       23503 non-null int64\n",
      "S2IBTECH12          23503 non-null int64\n",
      "S2OTHCOMP12         23503 non-null int64\n",
      "S2ENGINEER12        23503 non-null int64\n",
      "S2OTHS12            23503 non-null int64\n",
      "S2OTHS12SP          23503 non-null int64\n",
      "S2HISCIENCE12       23503 non-null int64\n",
      "S2STOOKBEFORE       23503 non-null int64\n",
      "S2SENJOYS           23503 non-null int64\n",
      "S2SCHALLENGE        23503 non-null int64\n",
      "S2SHSREQ            23503 non-null int64\n",
      "S2SCLGADM           23503 non-null int64\n",
      "S2SCLGSUCC          23503 non-null int64\n",
      "S2SCAREER           23503 non-null int64\n",
      "S2SCNSLREC          23503 non-null int64\n",
      "S2STCHRREC          23503 non-null int64\n",
      "S2SPARREC           23503 non-null int64\n",
      "S2SFAMREC           23503 non-null int64\n",
      "S2SEMPREC           23503 non-null int64\n",
      "S2SFRIEND           23503 non-null int64\n",
      "S2SDOWELL           23503 non-null int64\n",
      "S2SASSIGNED         23503 non-null int64\n",
      "S2STCHTREAT         23503 non-null int64\n",
      "S2STCHINTRST        23503 non-null int64\n",
      "S2STCHEASY          23503 non-null int64\n",
      "S2STCHTHINK         23503 non-null int64\n",
      "S2STCHGIVEUP        23503 non-null int64\n",
      "S2SENJOYING         23503 non-null int64\n",
      "S2STEXTBOOK         23503 non-null int64\n",
      "S2SWASTE            23503 non-null int64\n",
      "S2SSKILLS           23503 non-null int64\n",
      "S2STESTS            23503 non-null int64\n",
      "S2SBORING           23503 non-null int64\n",
      "S2SASSEXCL          23503 non-null int64\n",
      "S2HSPLAN            23503 non-null int64\n",
      "S2SUBMITPLAN        23503 non-null int64\n",
      "S2SPERSON1          23503 non-null int64\n",
      "S2SPERSON2          23503 non-null int64\n",
      "S2SLEARN            23503 non-null int64\n",
      "S2SBORN             23503 non-null int64\n",
      "S2SUSELIFE          23503 non-null int64\n",
      "S2SUSECLG           23503 non-null int64\n",
      "S2SUSEJOB           23503 non-null int64\n",
      "S2SCLUB             23503 non-null int64\n",
      "S2SCOMPETE          23503 non-null int64\n",
      "S2SSUMMERPRG        23503 non-null int64\n",
      "S2SGROUP            23503 non-null int64\n",
      "S2STUTORED          23503 non-null int64\n",
      "dtypes: int64(90)\n",
      "memory usage: 16.1 MB\n"
     ]
    }
   ],
   "source": [
    "df.info()"
   ]
  },
  {
   "cell_type": "markdown",
   "metadata": {},
   "source": [
    "## Data Preparation <a id=\"Data-Preparation\"></a>\n",
    "##### [(back to top)](#Overview)\n",
    "\n",
    "Because the dataset is a follow up to a baseline survey, some of the initial respondents did not participate in this follow up survey. This was seen as a `'-8': Unit Non-Response` and these 2,909 rows were dropped since all answers were blank. As it is a survey, the majority of the data cleaning involved handling null values, which were coded as negative values depending on if they were declared N/A and skipped legitimately or left blank. As the features were turned into binary, dummy variables with a positive being `'1'` and all other values being `'0'`, the null values were coded to `'0'`. \n",
    "\n",
    "To consolidate the list of science class options, I created new features that grouped them into: `bio`, `chem`, `physics`, `engineering`, `environmental science`, `computer science`, and `miscellaneous` (for classes such as \"general science\"). Additionally, the features that were presented as a likert scale were converted to a simple agree/disagree to better align with the other binary variables. \n",
    "\n",
    "Lastly, in order to map to the target variable, the student must have responded to the 2016 survey question that asks if they are pursuing a STEM major. Students who did not respond with a yes or no were dropped from the dataframe used in modeling. They were included in any exploratory analysis done within the 2012 survey; however, any analysis done with ties to the target variable does not include those students. The modeling dataframe contained 10,974 rows (students).\n",
    "\n",
    "The complete data cleaning process can be found here. "
   ]
  },
  {
   "cell_type": "code",
   "execution_count": 83,
   "metadata": {},
   "outputs": [],
   "source": [
    "df = cf.clean_it(df)\n",
    "modeling_df = df[(df.target == 0) | (df.target == 1)]"
   ]
  },
  {
   "cell_type": "markdown",
   "metadata": {},
   "source": [
    "***"
   ]
  },
  {
   "cell_type": "markdown",
   "metadata": {},
   "source": [
    "## Exploratory Data Analysis <a id=\"EDA\"></a>\n",
    "##### [(back to top)](#Overview)\n",
    "\n",
    "Before going into the target variable, I wanted to generally look at groups of students' expectations for the future. One question asked students to say how far in school they expected to go. Using the results from that question, I created a feature of \"The Highest Degree Expected to Earn,\" which I grouped by gender and then by race. "
   ]
  },
  {
   "cell_type": "markdown",
   "metadata": {},
   "source": [
    "### Expectations by Gender"
   ]
  },
  {
   "cell_type": "code",
   "execution_count": 305,
   "metadata": {
    "jupyter": {
     "source_hidden": true
    }
   },
   "outputs": [
    {
     "data": {
      "image/png": "[encoded data removed]",
      "text/plain": [
       "<Figure size 144x504 with 1 Axes>"
      ]
     },
     "metadata": {
      "needs_background": "light"
     },
     "output_type": "display_data"
    }
   ],
   "source": [
    "#group the expectations question by gender and create a dataframe\n",
    "expectations = pd.DataFrame(data = df.groupby('X2SEX')['EXPECT'].value_counts(normalize = True)).unstack()\n",
    "expectations.columns = ['No HS Diploma', 'HS Diploma', 'Professional Certificate', 'Associate Degree', 'Bachelor Degree', 'Masters Degree', 'PhD', 'Unsure']\n",
    "expectations.index = ['Male', 'Female']\n",
    "expectations\n",
    "\n",
    "#change columns and index into arrays\n",
    "degree,gender = np.meshgrid(expectations.columns, expectations.index)\n",
    "\n",
    "#multiply df by a scalar to make graph circles visible\n",
    "expectations *= 4000\n",
    "\n",
    "#plot figure\n",
    "plt.figure(figsize = (2, 7))\n",
    "#assign axis, make color gradient and size based on values for percentage\n",
    "plt.scatter(x=gender.flatten(), y=degree.flatten(), s=expectations.values.flatten(), c = expectations.values.flatten(),  cmap= 'Blues')\n",
    "#set formatting and style\n",
    "plt.title('Distribution of the Highest Degree Expected to Earn by Gender')\n",
    "plt.xlabel('Gender')\n",
    "plt.ylabel('Expected Highest Degree Earned')\n",
    "plt.margins(0.5, 0.1)\n",
    "plt.xticks(rotation=75)\n",
    "plt.show()"
   ]
  },
  {
   "cell_type": "markdown",
   "metadata": {},
   "source": [
    "This chart shows that, overall, a higher percentage of female students expect to obtain a higher degree. A higher percentage of female students expect to earn a Master's degree or PhD, while a higher percentage of male students expect to earn a HS Diploma. This can be important for two reasons. First, a student might be less likely to pursue a STEM major if they do not expect to earn a college degree. Additionally, as most science careers require a college degree, students who do not expect to earn a college degree might not expect to have a STEM career. "
   ]
  },
  {
   "cell_type": "markdown",
   "metadata": {},
   "source": [
    "### Expectations by Race"
   ]
  },
  {
   "cell_type": "code",
   "execution_count": 307,
   "metadata": {
    "jupyter": {
     "source_hidden": true
    }
   },
   "outputs": [
    {
     "data": {
      "image/png": "[encoded data removed]",
      "text/plain": [
       "<Figure size 576x576 with 1 Axes>"
      ]
     },
     "metadata": {
      "needs_background": "light"
     },
     "output_type": "display_data"
    }
   ],
   "source": [
    "#create dataframe with expectations grouped by race\n",
    "race_expectations = pd.DataFrame(data = df.groupby('X2RACE')['EXPECT'].value_counts(normalize = True)).unstack()\n",
    "race_expectations.columns = ['No HS Diploma', 'HS Diploma', 'Professional Certificate', 'Associate Degree', 'Bachelor Degree', 'Masters Degree', 'PhD', 'Unsure']\n",
    "race_expectations.index = ['American Indian/Alaska Native', 'Asian', 'Black/African American', 'Hispanic', 'Multiracial', 'Native Hawaiian/Pacific Islander', 'White']\n",
    "\n",
    "#create array of columns and index\n",
    "degree_race,race = np.meshgrid(race_expectations.columns, race_expectations.index)\n",
    "\n",
    "#scale dataframe so that circles appear on graph\n",
    "race_expectations *= 7000\n",
    "\n",
    "#plot the data\n",
    "plt.figure(figsize = (8, 8))\n",
    "#assign values to each axis with the values determining the size and gradient of the circles\n",
    "plt.scatter(x=race.flatten(), y=degree_race.flatten(), s=race_expectations.values.flatten(), c = race_expectations.values.flatten(),  cmap= 'Blues')\n",
    "#style the graph\n",
    "plt.xticks(rotation=75)\n",
    "plt.title('Distribution of the Highest Degree Expected to Earn, Grouped by Race')\n",
    "plt.xlabel('Race/Ethnicity')\n",
    "plt.ylabel('Expected Highest Degree Earned')\n",
    "plt.margins(0.1, 0.1)\n",
    "plt.show()"
   ]
  },
  {
   "cell_type": "markdown",
   "metadata": {},
   "source": [
    "This graph shows that the highest percentage of White students expect to each a Bachelor's degree as their highest degree, with few not expecting to earn at least a Bachelor's degree. Similarly, Asian students had the highest percentage that expected to earn above a Bachelor's degree and few expecting to earn less than a Bachelor's degree. American Indian/Alaska Native, Hispanic, Native Hawaiian/Pacific Islander students had the highest percentages that expected to earn a HS Diploma as their highest degree. As with above, students who do not expect to earn a college degree could be less likely to later pursue a STEM degree."
   ]
  },
  {
   "cell_type": "markdown",
   "metadata": {},
   "source": [
    "## Students Who Expect to Have STEM Career vs Majoring in STEM"
   ]
  },
  {
   "cell_type": "markdown",
   "metadata": {},
   "source": [
    "Another aspect of the students' expectations is if they expect to have a career in STEM at age 30. This can be compared with the students who end up pursuing a STEM major."
   ]
  },
  {
   "cell_type": "code",
   "execution_count": 308,
   "metadata": {
    "jupyter": {
     "source_hidden": true
    }
   },
   "outputs": [
    {
     "data": {
      "image/png": "[encoded data removed]",
      "text/plain": [
       "<Figure size 360x360 with 1 Axes>"
      ]
     },
     "metadata": {
      "needs_background": "light"
     },
     "output_type": "display_data"
    }
   ],
   "source": [
    "#create dataframes for each group\n",
    "stem_career = pd.DataFrame(data = modeling_df.X2STU30OCC_STEM1.value_counts(normalize = True).values, index = modeling_df.X2STU30OCC_STEM1.value_counts(normalize = True).index, columns = [\"2009\"])\n",
    "stem_major = pd.DataFrame(data = modeling_df.target.value_counts(normalize = True).values, index = modeling_df.target.value_counts(normalize = True).index, columns= ['2016'])\n",
    "\n",
    "#put dataframes together and isolate the positive values for each\n",
    "difference_in_expectations = pd.concat([stem_career, stem_major], axis = 1).T\n",
    "yes_STEM = difference_in_expectations[1].values\n",
    "\n",
    "#plot the data\n",
    "fig, ax = plt.subplots(figsize = (5, 5))\n",
    "ax.bar(['Expects to Have a STEM Career at 30 (2012)', 'Pursuing STEM Major (2016)'], yes_STEM, width = 0.4)\n",
    "ax.set_ylabel('Percentage of Students')\n",
    "ax.set_title('Percentage of Students Interested in STEM by Year')\n",
    "plt.xticks(rotation=10);"
   ]
  },
  {
   "cell_type": "markdown",
   "metadata": {},
   "source": [
    "This shows that many more students expect to have a STEM career at 30 than end up pursuing a STEM major four years later at 41% and 23% respectively. There are many factors that can cause a student to change their career aspirations over time. While some of this is inenvitable, it would be worth further analyzing when these changes occur and the motivating factor for it. Additionally, it further stresses the importance of engaging more students before college, as there will be students who change from STEM to non-STEM during college.  "
   ]
  },
  {
   "cell_type": "markdown",
   "metadata": {},
   "source": [
    "## Gender Distribution of STEM vs non STEM"
   ]
  },
  {
   "cell_type": "markdown",
   "metadata": {},
   "source": [
    "The next step was to look at the distributions of gender and races for STEM majors and all majors to look for groups that might be underrepresented. Engaging underrepresented groups would open STEM to more people and would increase diversity within STEM fields."
   ]
  },
  {
   "cell_type": "code",
   "execution_count": 242,
   "metadata": {},
   "outputs": [
    {
     "data": {
      "image/png": "[encoded data removed]",
      "text/plain": [
       "<Figure size 720x360 with 1 Axes>"
      ]
     },
     "metadata": {
      "needs_background": "light"
     },
     "output_type": "display_data"
    }
   ],
   "source": [
    "#create dataframe of groupby objects (distribution of majors vs overall)\n",
    "target_gender = pd.DataFrame(modeling_df.groupby(by = ['target'])['X2SEX'].value_counts(normalize = True))\n",
    "gender = pd.DataFrame(data = modeling_df.X2SEX.value_counts(normalize = True), columns = ['X2SEX'])\n",
    "\n",
    "#change name of column to value to not confused with target variable\n",
    "target_gender.rename(columns = {'X2SEX':'value'}, inplace = True)\n",
    "\n",
    "#change multindex to individual columns\n",
    "target_gender.reset_index(inplace=True, level = ('target', 'X2SEX'))\n",
    "\n",
    "#isolate only students choosing a stem major\n",
    "target_gender = target_gender[target_gender['target'] != 0]\n",
    "\n",
    "#reset overall distribution df index and change column titles to align with other df\n",
    "gender.reset_index(inplace=True)\n",
    "gender.rename(columns = {'X2SEX':'value', 'index' : 'X2SEX'}, inplace = True)\n",
    "\n",
    "#append overall distribution to target distribution\n",
    "target_gender = target_gender.append(gender, sort = True)\n",
    "\n",
    "#change 1/2 to male/female labels\n",
    "target_gender['X2SEX'] = target_gender['X2SEX'].map({1: 'Male', 2: 'Female'})\n",
    "\n",
    "#create x-values for barchart\n",
    "males = target_gender[target_gender['X2SEX'] == 'Male']['value'].values\n",
    "females = target_gender[target_gender['X2SEX'] == 'Female']['value'].values\n",
    "\n",
    "#create visual\n",
    "label = ['STEM Majors', 'All Students']\n",
    "fig = plt.figure(figsize = (10, 5))\n",
    "ax = fig.add_subplot(111)\n",
    "ax.barh(label, males, align='center', color='skyblue',label='Males')\n",
    "ax.barh(label, females, align='center', left=males, color='purple',label='Females')\n",
    "ax.set_yticks(label)\n",
    "ax.set_xlabel('Percentage')\n",
    "ax.set_title('Gender Distribution of STEM Majors vs All Majors')\n",
    "ax.legend(bbox_to_anchor=(1.05, 1), loc=2, borderaxespad=0.)\n",
    "plt.tight_layout()"
   ]
  },
  {
   "cell_type": "markdown",
   "metadata": {},
   "source": [
    "This chart shows that females are signficantly underrepresented as STEM majors. Female students made up 55% of the target dataset (all majors), but only 37% of STEM majors."
   ]
  },
  {
   "cell_type": "code",
   "execution_count": 314,
   "metadata": {
    "jupyter": {
     "source_hidden": true
    }
   },
   "outputs": [
    {
     "data": {
      "image/png": "[encoded data removed]",
      "text/plain": [
       "<Figure size 864x576 with 1 Axes>"
      ]
     },
     "metadata": {
      "needs_background": "light"
     },
     "output_type": "display_data"
    }
   ],
   "source": [
    "#create dataframe of race distribution for all majors and for STEM majors\n",
    "race_df = pd.DataFrame(data = modeling_df.X2RACE.value_counts(normalize = True))\n",
    "race_df.rename(columns = {'X2RACE': 'Overall'}, inplace= True)\n",
    "stem_race_df = pd.DataFrame(data = modeling_df[modeling_df['target'] ==1].X2RACE.value_counts(normalize = True))\n",
    "stem_race_df.rename(columns = {'X2RACE': 'STEM'}, inplace= True)\n",
    "race_dist = pd.concat([race_df, stem_race_df], axis = 1)\n",
    "\n",
    "x = np.arange(len(race_dist))\n",
    "width = 0.45\n",
    "\n",
    "#plot all majors and STEM majors side-by-side\n",
    "fig, ax = plt.subplots(figsize= (12, 8))\n",
    "ax.bar(x - width/2, race_dist['Overall'], width, \n",
    "                label='All Majors', color = 'darkblue')\n",
    "ax.bar(x + width/2, race_dist['STEM'], width, \n",
    "                label='STEM', color = 'darkorange')\n",
    "#format graph\n",
    "ax.set_ylabel('Percentage')\n",
    "ax.set_xlabel('Race/Ethnicity')\n",
    "ax.set_title('Racial Distribution of All Majors vs STEM Majors')\n",
    "plt.xticks(ticks = range(0,8), rotation = 75, labels = ['American Indian/Alaska Native', 'Asian', 'Black/African American', \n",
    "                                                        'Hispanic', 'Multiracial', 'Native Hawaiian/Pacific Islander', 'White'])\n",
    "ax.legend();"
   ]
  },
  {
   "cell_type": "markdown",
   "metadata": {},
   "source": [
    "The above graph shows that Black/African American, Hispanic, and White students are all underrepresented within STEM, while Asian students make up a larger percentage of STEM majors than in the overall distribution. It would be worth further breaking this down by gender to see how much of the underrepresentation comes from the underrepresentation of women. Overall, though, Black/African students have the most significant underrepresentation within the STEM majors, with their representation being about 1/3 of what it is among all majors."
   ]
  },
  {
   "cell_type": "markdown",
   "metadata": {},
   "source": [
    "## Students Who See Themselves as Science People"
   ]
  },
  {
   "cell_type": "markdown",
   "metadata": {},
   "source": [
    "Students were asked if they see themselves as a \"science person\". One hypothesis is that a student who sees themselves as a science person would be more likely to continue to pursue STEM. "
   ]
  },
  {
   "cell_type": "code",
   "execution_count": 315,
   "metadata": {},
   "outputs": [
    {
     "data": {
      "text/plain": [
       "''"
      ]
     },
     "execution_count": 315,
     "metadata": {},
     "output_type": "execute_result"
    },
    {
     "data": {
      "image/png": "[encoded data removed]",
      "text/plain": [
       "<Figure size 720x504 with 1 Axes>"
      ]
     },
     "metadata": {
      "needs_background": "light"
     },
     "output_type": "display_data"
    }
   ],
   "source": [
    "#create dataframe of groupby object\n",
    "person_demo = pd.DataFrame(modeling_df.groupby(by = ['X2RACE','X2SEX'])['S2SPERSON1'].value_counts(normalize = True))\n",
    "#change name of column to value to not confused with target variable\n",
    "person_demo.rename(columns = {'S2SPERSON1':'value'}, inplace = True)\n",
    "#change multindex to individual columns\n",
    "person_demo.reset_index(inplace=True, level = ('X2RACE', 'X2SEX', 'S2SPERSON1'))\n",
    "#change 1/2 to male/female labels\n",
    "person_demo['X2SEX'] = person_demo['X2SEX'].map({1: 'Male', 2: 'Female'})\n",
    "#isolate only students choosing a stem major\n",
    "person_demo = person_demo[person_demo['S2SPERSON1'] != 0]\n",
    "\n",
    "\n",
    "plt.figure(figsize = (10, 7))\n",
    "sns.barplot(x = 'X2RACE', y = 'value', hue = 'X2SEX', data = person_demo, palette = {'Male':'skyblue', 'Female':'purple'})\n",
    "plt.xlabel('Race/Ethnicity')\n",
    "plt.ylabel('Percentage') \n",
    "plt.title('Percentage of Students Who See Themselves as Science Person by Race and Gender')\n",
    "plt.xticks(ticks = range(0,8), rotation = 75, labels = ['American Indian/Alaska Native', 'Asian', 'Black/African American', 'Hispanic', 'Multiracial', 'Native Hawaiian/Pacific Islander', 'White'])\n",
    "plt.legend(title = 'Gender', bbox_to_anchor=(1.05, 1), loc=2, borderaxespad=0.)\n",
    ";\n"
   ]
  },
  {
   "cell_type": "markdown",
   "metadata": {},
   "source": [
    "This chart shows the percentage of each gender and race that see themselves as a science person. Overall, a higher percentage of male students saw themselves as science people (with Native Hawaiian/Pacific Islander students as the exception). Black/African American female students and Hispanic female students had the lowest percentage who saw themselves as science people at 43% and 44%, respectively. Asian male students, Multiracial male students, and White male students had the highest percentages at 65%, 61%, and 61%, respectively.\n",
    "\n",
    "There are many reasons a student could see themselves as a science person. They could be taking many science classes, they could be earning high grades or test scores, they could be earning awards. This could also be influenced by the examples of \"science people\" they see. Students who see science people who look like them more frequently may be better able to see themselves as science people. There are many reasons a student could see themselves as a science person. They could be taking many science classes, they could be earning high grades or test scores, they could be earning awards. This could also be influenced by the examples of \"science people\" they see. Students who see science people who look like them more frequently may be better able to see themselves as science people. \n",
    "\n",
    "***"
   ]
  },
  {
   "cell_type": "markdown",
   "metadata": {},
   "source": [
    "## Modeling <a id=\"Modeling\"></a>\n",
    "##### [(back to top)](#Overview)\n",
    "\n",
    "This project is focused on creating a highly interpretable model to understand how each feature impacts whether or not a student selects a STEM major. Therefore, I focused on a Logistic Regression and Decision Tree. \n",
    "\n",
    "The first step was to split out the target variable from the dataframe and create the list of features that will be put into the model, eliminating the columns that had been turned into dummy variables (but were left in for visualization purposes). Then, I split the data into training and test sets.\n",
    "\n",
    "For this project, I will be trying to maximize the F1 score, as there is a class imbalance between STEM majors and non-STEM majors."
   ]
  },
  {
   "cell_type": "code",
   "execution_count": 262,
   "metadata": {},
   "outputs": [],
   "source": [
    "features = ['S2SCLUB', 'S2SCOMPETE', 'S2SSUMMERPRG', 'S2SGROUP', 'S2STUTORED', 'S2SPERSON1', 'S2SPERSON2', \n",
    "               'S2SLEARN', 'S2SBORN', 'S2SUSELIFE', 'S2SUSECLG', 'S2SUSEJOB', 'S2SENJOYING', 'S2SWASTE', 'S2SBORING', \n",
    "               'S2STESTS', 'S2STEXTBOOK', 'S2SSKILLS', 'S2STCHTREAT', 'S2STCHINTRST', \n",
    "               'S2STCHEASY', 'S2STCHTHINK', 'S2STCHGIVEUP',\n",
    "               'S2SASSEXCL', 'S2SENJOYS', 'S2SCHALLENGE', 'S2SHSREQ', 'S2SCLGADM', \n",
    "               'S2SCLGSUCC', 'S2SCAREER', 'S2SCNSLREC', 'S2STCHRREC', 'S2SPARREC', 'S2SFAMREC', \n",
    "               'S2SEMPREC', 'S2SFRIEND', 'S2SDOWELL', 'S2SASSIGNED', 'X2STU30OCC_STEM1', 'took_science_2012', 'bio', 'chem', 'enviro', 'physics', 'engineering', 'compsci', 'misc_class',\n",
    "               'female', 'public', 'black', 'hispanic', 'asian', 'ai_an', 'multiple_race', 'nh_pi' , 'X2POVERTY185', 'underrep']\n",
    "\n",
    "X = modeling_df.drop(columns = 'target', axis =1)\n",
    "X = X[features]\n",
    "y = modeling_df['target']\n",
    "\n",
    "X_train, X_test, y_train, y_test = train_test_split(X, y, test_size = 0.2, random_state = 20)"
   ]
  },
  {
   "cell_type": "markdown",
   "metadata": {},
   "source": [
    "### Decision Tree - Initial"
   ]
  },
  {
   "cell_type": "markdown",
   "metadata": {},
   "source": [
    "I first tried a simple Decision Tree model."
   ]
  },
  {
   "cell_type": "code",
   "execution_count": 263,
   "metadata": {},
   "outputs": [],
   "source": [
    "#instantiate the classifier\n",
    "dtc = DecisionTreeClassifier(random_state = 20)\n",
    "\n",
    "#fit the classifier\n",
    "dtc.fit(X_train, y_train)\n",
    "\n",
    "#make predictions \n",
    "y_pred_dtc_train = dtc.predict(X_train)\n",
    "y_pred_dtc_test = dtc.predict(X_test)"
   ]
  },
  {
   "cell_type": "code",
   "execution_count": 264,
   "metadata": {},
   "outputs": [],
   "source": [
    "metric_dict['Initial_DecisionTree'] = {'train_accuracy': metrics.accuracy_score(y_train, y_pred_dtc_train),\n",
    "                                  'test_accuracy': metrics.accuracy_score(y_test, y_pred_dtc_test),\n",
    "                                  'train_precision':metrics.precision_score(y_train, y_pred_dtc_train),\n",
    "                                  'test_precision':metrics.precision_score(y_test, y_pred_dtc_test),\n",
    "                                  'train_recall':metrics.recall_score(y_train, y_pred_dtc_train),\n",
    "                                  'test_recall':metrics.recall_score(y_test, y_pred_dtc_test),\n",
    "                                  'train_f1':metrics.f1_score(y_train, y_pred_dtc_train),\n",
    "                                  'test_f1':metrics.f1_score(y_test, y_pred_dtc_test), \n",
    "                                      'average cross-val f1':(cross_val_score(estimator=dtc, X=X, y=y, cv = 5, scoring = 'f1')).mean()}"
   ]
  },
  {
   "cell_type": "code",
   "execution_count": 265,
   "metadata": {},
   "outputs": [
    {
     "data": {
      "text/plain": [
       "{'train_accuracy': 0.9945324068800547,\n",
       " 'test_accuracy': 0.6933940774487471,\n",
       " 'train_precision': 0.99899849774662,\n",
       " 'test_precision': 0.3547794117647059,\n",
       " 'train_recall': 0.9774620284174425,\n",
       " 'test_recall': 0.37475728155339805,\n",
       " 'train_f1': 0.9881129271916791,\n",
       " 'test_f1': 0.36449480642115195,\n",
       " 'average cross-val f1': 0.3659277195988023}"
      ]
     },
     "execution_count": 265,
     "metadata": {},
     "output_type": "execute_result"
    }
   ],
   "source": [
    "metric_dict['Initial_DecisionTree']"
   ]
  },
  {
   "cell_type": "markdown",
   "metadata": {},
   "source": [
    "This model is very overfit, as seen by the fact the train metrics are significantly higher than the test metrics. The F1 score is still very low, as are all other train metrics. \n",
    "***"
   ]
  },
  {
   "cell_type": "markdown",
   "metadata": {},
   "source": [
    "### Decision Tree - Grid Search"
   ]
  },
  {
   "cell_type": "markdown",
   "metadata": {},
   "source": [
    "In order to try to address the overfitting and to improve the metrics, I used gridsearch to find the best hyperparameter values. The max depth determines how many levels the decision tree will have, which can help with overfitting."
   ]
  },
  {
   "cell_type": "code",
   "execution_count": 266,
   "metadata": {},
   "outputs": [
    {
     "name": "stdout",
     "output_type": "stream",
     "text": [
      "Fitting 10 folds for each of 144 candidates, totalling 1440 fits\n"
     ]
    },
    {
     "name": "stderr",
     "output_type": "stream",
     "text": [
      "[Parallel(n_jobs=-1)]: Using backend LokyBackend with 4 concurrent workers.\n",
      "[Parallel(n_jobs=-1)]: Done  42 tasks      | elapsed:    9.2s\n",
      "[Parallel(n_jobs=-1)]: Done 292 tasks      | elapsed:   18.3s\n",
      "[Parallel(n_jobs=-1)]: Done 728 tasks      | elapsed:   29.7s\n",
      "[Parallel(n_jobs=-1)]: Done 1440 out of 1440 | elapsed:   43.8s finished\n"
     ]
    },
    {
     "data": {
      "text/plain": [
       "GridSearchCV(cv=10, estimator=DecisionTreeClassifier(random_state=20),\n",
       "             n_jobs=-1,\n",
       "             param_grid={'criterion': ['gini', 'entropy'],\n",
       "                         'max_depth': range(3, 15),\n",
       "                         'max_features': ['auto', 'sqrt', 'log2'],\n",
       "                         'splitter': ['random', 'best']},\n",
       "             scoring='f1', verbose=1)"
      ]
     },
     "execution_count": 266,
     "metadata": {},
     "output_type": "execute_result"
    }
   ],
   "source": [
    "#instantiate classifier\n",
    "dtc_gs = DecisionTreeClassifier(random_state = 20)\n",
    "\n",
    "#create parameters for the gridsearch to search through\n",
    "param_dict={'max_depth': range(3,15),\n",
    "            'criterion': ['gini', 'entropy'],\n",
    "            'splitter': ['random', 'best'],\n",
    "            'max_features': ['auto', 'sqrt', 'log2']}\n",
    "\n",
    "#create the gridsearch decision tree and fit it to the data to determine which will produce the best f1 score\n",
    "grid_tree=GridSearchCV(dtc_gs, \n",
    "                       param_dict, \n",
    "                       cv=10, \n",
    "                       scoring='f1', \n",
    "                       verbose=1, \n",
    "                       n_jobs=-1)\n",
    "\n",
    "grid_tree.fit(X_train,y_train)\n"
   ]
  },
  {
   "cell_type": "code",
   "execution_count": 267,
   "metadata": {},
   "outputs": [
    {
     "data": {
      "text/plain": [
       "DecisionTreeClassifier(max_depth=4, max_features='log2', random_state=20,\n",
       "                       splitter='random')"
      ]
     },
     "execution_count": 267,
     "metadata": {},
     "output_type": "execute_result"
    }
   ],
   "source": [
    "#find the best hyperparameter values\n",
    "grid_tree.best_estimator_"
   ]
  },
  {
   "cell_type": "code",
   "execution_count": 268,
   "metadata": {},
   "outputs": [],
   "source": [
    "#fit the best decision tree to the test and train data to get the metrics\n",
    "pred_dtcgs_test = grid_tree.best_estimator_.predict(X_test)\n",
    "pred_dtcgs_train = grid_tree.best_estimator_.predict(X_train)"
   ]
  },
  {
   "cell_type": "code",
   "execution_count": 269,
   "metadata": {},
   "outputs": [
    {
     "data": {
      "text/plain": [
       "{'train_accuracy': 0.7793598359722064,\n",
       " 'test_accuracy': 0.785876993166287,\n",
       " 'train_precision': 0.5526315789473685,\n",
       " 'test_precision': 0.5889328063241107,\n",
       " 'train_recall': 0.267515923566879,\n",
       " 'test_recall': 0.28932038834951457,\n",
       " 'train_f1': 0.3605150214592275,\n",
       " 'test_f1': 0.38802083333333337}"
      ]
     },
     "execution_count": 269,
     "metadata": {},
     "output_type": "execute_result"
    }
   ],
   "source": [
    "metric_dict['GridSearch_DecisionTree'] = {'train_accuracy': metrics.accuracy_score(y_train, pred_dtcgs_train),\n",
    "                                  'test_accuracy': metrics.accuracy_score(y_test, pred_dtcgs_test),\n",
    "                                  'train_precision':metrics.precision_score(y_train, pred_dtcgs_train),\n",
    "                                  'test_precision':metrics.precision_score(y_test, pred_dtcgs_test),\n",
    "                                  'train_recall':metrics.recall_score(y_train, pred_dtcgs_train),\n",
    "                                  'test_recall':metrics.recall_score(y_test, pred_dtcgs_test),\n",
    "                                  'train_f1':metrics.f1_score(y_train, pred_dtcgs_train),\n",
    "                                  'test_f1':metrics.f1_score(y_test, pred_dtcgs_test)}\n",
    "metric_dict['GridSearch_DecisionTree']"
   ]
  },
  {
   "cell_type": "markdown",
   "metadata": {},
   "source": [
    "The GridSearch signficantly reduced the overfitting; however, the model is now underfit and has very low F1, recall, and precision scores. The next step for Decision Tree would be to try RandomForest of XGBoost; however, this project is reliant on an interpretable model, which is lost with those models. Therefore, I will explore Logistic Regression next. \n",
    "***"
   ]
  },
  {
   "cell_type": "markdown",
   "metadata": {},
   "source": [
    "### Logistic Regression - Initial"
   ]
  },
  {
   "cell_type": "markdown",
   "metadata": {},
   "source": [
    "To get a baseline, I ran a Logistic Regression with the default parameters. I increased the `max_iter`, though, to address an issue of the model failing to converge. "
   ]
  },
  {
   "cell_type": "code",
   "execution_count": 270,
   "metadata": {},
   "outputs": [],
   "source": [
    "#instantiate model\n",
    "lr_initial = LogisticRegression(max_iter = 10000, random_state = 20)\n",
    "\n",
    "#fit the model to the training set\n",
    "lr_initial.fit(X_train, y_train)\n",
    "\n",
    "#generate predictions on the train and test sets\n",
    "initial_train_pred = lr_initial.predict(X_train)\n",
    "initial_test_pred = lr_initial.predict(X_test)"
   ]
  },
  {
   "cell_type": "code",
   "execution_count": 271,
   "metadata": {},
   "outputs": [
    {
     "data": {
      "text/plain": [
       "{'train_accuracy': 0.7954208907620458,\n",
       " 'test_accuracy': 0.7972665148063781,\n",
       " 'train_precision': 0.6344676180021954,\n",
       " 'test_precision': 0.6605504587155964,\n",
       " 'train_recall': 0.28319451249387556,\n",
       " 'test_recall': 0.2796116504854369,\n",
       " 'train_f1': 0.39159891598915986,\n",
       " 'test_f1': 0.39290586630286495,\n",
       " 'average cross-val f1': 0.38259058135887997}"
      ]
     },
     "execution_count": 271,
     "metadata": {},
     "output_type": "execute_result"
    }
   ],
   "source": [
    "metric_dict = {}\n",
    "metric_dict['Initial_LogisticRegression'] = {'train_accuracy': metrics.accuracy_score(y_train, initial_train_pred),\n",
    "                                      'test_accuracy': metrics.accuracy_score(y_test, initial_test_pred),\n",
    "                                      'train_precision':metrics.precision_score(y_train, initial_train_pred),\n",
    "                                      'test_precision':metrics.precision_score(y_test, initial_test_pred),\n",
    "                                      'train_recall':metrics.recall_score(y_train, initial_train_pred),\n",
    "                                      'test_recall':metrics.recall_score(y_test, initial_test_pred),\n",
    "                                      'train_f1':metrics.f1_score(y_train, initial_train_pred),\n",
    "                                      'test_f1':metrics.f1_score(y_test, initial_test_pred), \n",
    "                                            'average cross-val f1':(cross_val_score(estimator=lr_initial, X=X, y=y, cv = 5, scoring = 'f1')).mean()}\n",
    "\n",
    "metric_dict['Initial_LogisticRegression']"
   ]
  },
  {
   "cell_type": "markdown",
   "metadata": {},
   "source": [
    "\n",
    "While the accuracy of this model is high, that is likely due to the class imbalance since the F1 score is quite low (0.39). The model does not have an issue with overfitting, but is likely underfit. \n",
    "***"
   ]
  },
  {
   "cell_type": "markdown",
   "metadata": {},
   "source": [
    "### Logistic Regression - Grid Search"
   ]
  },
  {
   "cell_type": "markdown",
   "metadata": {},
   "source": [
    "To address the underfitting and the low F1 score, I ran a GridSearch on the Logistic Regression model to determine the hyperparamter values that would maximize the F1 score. Because there is a class imbalance, I also wanted to address that within the model itself before trying sampling methods."
   ]
  },
  {
   "cell_type": "code",
   "execution_count": 272,
   "metadata": {},
   "outputs": [
    {
     "name": "stdout",
     "output_type": "stream",
     "text": [
      "Fitting 5 folds for each of 144 candidates, totalling 720 fits\n"
     ]
    },
    {
     "name": "stderr",
     "output_type": "stream",
     "text": [
      "[Parallel(n_jobs=-1)]: Using backend LokyBackend with 4 concurrent workers.\n",
      "[Parallel(n_jobs=-1)]: Done  33 tasks      | elapsed:    5.8s\n",
      "[Parallel(n_jobs=-1)]: Done 154 tasks      | elapsed:   15.8s\n",
      "[Parallel(n_jobs=-1)]: Done 357 tasks      | elapsed:   34.5s\n",
      "[Parallel(n_jobs=-1)]: Done 640 tasks      | elapsed:  1.6min\n",
      "[Parallel(n_jobs=-1)]: Done 720 out of 720 | elapsed:  1.9min finished\n"
     ]
    },
    {
     "data": {
      "text/plain": [
       "{'C': 0.01, 'class_weight': 'balanced', 'max_iter': 100}"
      ]
     },
     "execution_count": 272,
     "metadata": {},
     "output_type": "execute_result"
    }
   ],
   "source": [
    "#instantiate classifier\n",
    "clf = LogisticRegression()\n",
    "\n",
    "#select hyperparameter values to test\n",
    "param_grid = {\n",
    "    \n",
    "    'max_iter': [100, 250, 500, 1000, 5000, 10000],\n",
    "    'C': [0.0001, 0.001, 0.01, 1, 100, 1000], \n",
    "    'class_weight': [None, 'balanced', {1:2, 0:1}, {1:10, 0:1}]\n",
    "}\n",
    "\n",
    "#run gridsearch with hyperparamters\n",
    "gs_LR = GridSearchCV(clf, param_grid, cv=5, scoring = 'f1', n_jobs = -1, verbose = 2)\n",
    "#fit the model to the train set\n",
    "gs_LR.fit(X_train, y_train)\n",
    "#get the best parameters\n",
    "gs_LR.best_params_"
   ]
  },
  {
   "cell_type": "code",
   "execution_count": 318,
   "metadata": {},
   "outputs": [],
   "source": [
    "#instantiate and run the model with those hyperparamters on the training set\n",
    "gs_lr = LogisticRegression(C = 0.01, class_weight = 'balanced', max_iter = 100, random_state = 20)\n",
    "gs_lr.fit(X_train, y_train)\n",
    "\n",
    "#generate predicts using that model\n",
    "gs_lr_train_pred = gs_lr.predict(X_train)\n",
    "gs_lr_test_pred = gs_lr.predict(X_test)\n"
   ]
  },
  {
   "cell_type": "code",
   "execution_count": 274,
   "metadata": {},
   "outputs": [
    {
     "data": {
      "text/plain": [
       "{'train_accuracy': 0.6964346736530357,\n",
       " 'test_accuracy': 0.6988610478359909,\n",
       " 'train_precision': 0.41161473087818695,\n",
       " 'test_precision': 0.41350710900473936,\n",
       " 'train_recall': 0.7119059284664381,\n",
       " 'test_recall': 0.6776699029126214,\n",
       " 'train_f1': 0.5216298689642793,\n",
       " 'test_f1': 0.5136129506990434,\n",
       " 'average cross-val f1': 0.5150954194993604}"
      ]
     },
     "execution_count": 274,
     "metadata": {},
     "output_type": "execute_result"
    }
   ],
   "source": [
    "metric_dict['GridSearch_LogisticRegression'] = {'train_accuracy': metrics.accuracy_score(y_train, gs_lr_train_pred),\n",
    "                                      'test_accuracy': metrics.accuracy_score(y_test, gs_lr_test_pred),\n",
    "                                      'train_precision':metrics.precision_score(y_train, gs_lr_train_pred),\n",
    "                                      'test_precision':metrics.precision_score(y_test, gs_lr_test_pred),\n",
    "                                      'train_recall':metrics.recall_score(y_train, gs_lr_train_pred),\n",
    "                                      'test_recall':metrics.recall_score(y_test, gs_lr_test_pred),\n",
    "                                      'train_f1':metrics.f1_score(y_train, gs_lr_train_pred),\n",
    "                                      'test_f1':metrics.f1_score(y_test, gs_lr_test_pred), \n",
    "                                               'average cross-val f1':(cross_val_score(estimator=gs_lr, X=X, y=y, cv = 5, scoring = 'f1')).mean()}\n",
    "\n",
    "metric_dict['GridSearch_LogisticRegression']"
   ]
  },
  {
   "cell_type": "markdown",
   "metadata": {},
   "source": [
    "Changing the hyperparameters that address the regularization (C), class weight, and number of iterations improved the model a decent amount. When trying to continue to decrease the number of iterations, the model was no longer able to converge, so it remained at 100. The F1 score went from about 0.39 to 0.52. Additionally, the recall also improved. The accuracy decreased but that is likely due to addressing the class imbalance. \n",
    "\n",
    "***"
   ]
  },
  {
   "cell_type": "markdown",
   "metadata": {},
   "source": [
    "### Logistic Regression - Select K Best Feature Selection"
   ]
  },
  {
   "cell_type": "markdown",
   "metadata": {},
   "source": [
    "Because there were many features, I wanted to determine if the model would be better fit by selecting only the most influential features. This could help with any overfitting that might occur. I used Select K Best to determine the 15 best columns and ran a Logisitic Regression using those features. "
   ]
  },
  {
   "cell_type": "code",
   "execution_count": 275,
   "metadata": {},
   "outputs": [
    {
     "data": {
      "text/plain": [
       "Index(['S2SCLUB', 'S2SCOMPETE', 'S2SSUMMERPRG', 'S2SPERSON1', 'S2SPERSON2',\n",
       "       'S2SUSEJOB', 'S2SENJOYING', 'S2SENJOYS', 'S2SCHALLENGE', 'S2SCAREER',\n",
       "       'S2SDOWELL', 'X2STU30OCC_STEM1', 'female', 'asian', 'underrep'],\n",
       "      dtype='object')"
      ]
     },
     "execution_count": 275,
     "metadata": {},
     "output_type": "execute_result"
    }
   ],
   "source": [
    "#instantiate the kbest selector\n",
    "selector = SelectKBest(f_regression, k = 15)\n",
    "#fit the selector to the data\n",
    "selector.fit(X_train, y_train)\n",
    "#pull out the selected columns\n",
    "selected_columns = X_train.columns[selector.get_support()]\n",
    "selected_columns"
   ]
  },
  {
   "cell_type": "code",
   "execution_count": 276,
   "metadata": {},
   "outputs": [
    {
     "name": "stdout",
     "output_type": "stream",
     "text": [
      "Fitting 5 folds for each of 144 candidates, totalling 720 fits\n"
     ]
    },
    {
     "name": "stderr",
     "output_type": "stream",
     "text": [
      "[Parallel(n_jobs=-1)]: Using backend LokyBackend with 4 concurrent workers.\n",
      "[Parallel(n_jobs=-1)]: Done  33 tasks      | elapsed:    2.2s\n",
      "[Parallel(n_jobs=-1)]: Done 236 tasks      | elapsed:    8.4s\n",
      "[Parallel(n_jobs=-1)]: Done 642 tasks      | elapsed:   20.7s\n",
      "[Parallel(n_jobs=-1)]: Done 720 out of 720 | elapsed:   23.0s finished\n"
     ]
    },
    {
     "data": {
      "text/plain": [
       "{'C': 100, 'class_weight': 'balanced', 'max_iter': 100}"
      ]
     },
     "execution_count": 276,
     "metadata": {},
     "output_type": "execute_result"
    }
   ],
   "source": [
    "#run a logisitc regression grid search to determine the best hyperparamters for just those columns\n",
    "lr_kbest = GridSearchCV(clf, param_grid, cv=5, scoring = 'f1', n_jobs = -1, verbose = 2)\n",
    "lr_kbest.fit(X_train[selected_columns], y_train)\n",
    "\n",
    "lr_kbest.best_params_"
   ]
  },
  {
   "cell_type": "code",
   "execution_count": 277,
   "metadata": {},
   "outputs": [],
   "source": [
    "#fit a logisitic regression on the selected columns using the gridsearch hyperparamters\n",
    "LR_kbest = LogisticRegression(C=1, class_weight= 'balanced', max_iter = 100, random_state = 20)\n",
    "LR_kbest.fit(X_train[selected_columns], y_train)\n",
    "\n",
    "#create predictions on the train and test set\n",
    "kbest_train_pred = LR_kbest.predict(X_train[selected_columns])\n",
    "kbest_test_pred= LR_kbest.predict(X_test[selected_columns])"
   ]
  },
  {
   "cell_type": "code",
   "execution_count": 278,
   "metadata": {},
   "outputs": [
    {
     "data": {
      "text/plain": [
       "{'train_accuracy': 0.6865246611231347,\n",
       " 'test_accuracy': 0.6847380410022779,\n",
       " 'train_precision': 0.4015508169482138,\n",
       " 'test_precision': 0.3969732246798603,\n",
       " 'train_recall': 0.7104360607545321,\n",
       " 'test_recall': 0.6621359223300971,\n",
       " 'train_f1': 0.5130927105449399,\n",
       " 'test_f1': 0.4963609898107714}"
      ]
     },
     "execution_count": 278,
     "metadata": {},
     "output_type": "execute_result"
    }
   ],
   "source": [
    "metric_dict['KBEST_LogisticRegression'] = {'train_accuracy': metrics.accuracy_score(y_train, kbest_train_pred),\n",
    "                                      'test_accuracy': metrics.accuracy_score(y_test, kbest_test_pred),\n",
    "                                      'train_precision':metrics.precision_score(y_train, kbest_train_pred),\n",
    "                                      'test_precision':metrics.precision_score(y_test, kbest_test_pred),\n",
    "                                      'train_recall':metrics.recall_score(y_train, kbest_train_pred),\n",
    "                                      'test_recall':metrics.recall_score(y_test, kbest_test_pred),\n",
    "                                      'train_f1':metrics.f1_score(y_train, kbest_train_pred),\n",
    "                                      'test_f1':metrics.f1_score(y_test, kbest_test_pred)\n",
    "                                         }\n",
    "\n",
    "metric_dict['KBEST_LogisticRegression']"
   ]
  },
  {
   "cell_type": "markdown",
   "metadata": {},
   "source": [
    "Selecting only 15 columns did not have a significant impact on the performance of the model. The metrics decreased slightly.\n",
    "\n",
    "***"
   ]
  },
  {
   "cell_type": "markdown",
   "metadata": {},
   "source": [
    "### Logistic Regression - SMOTE"
   ]
  },
  {
   "cell_type": "markdown",
   "metadata": {},
   "source": [
    "The final strategy was to try to address the class imbalance using SMOTE. This would oversample the minority class, which, in this case, is STEM majors."
   ]
  },
  {
   "cell_type": "code",
   "execution_count": 279,
   "metadata": {},
   "outputs": [],
   "source": [
    "#instantiate SMOTE and create new training sets with SMOTE\n",
    "smote = SMOTE()\n",
    "X_train_smote, y_train_smote = smote.fit_sample(X_train, y_train)\n",
    "\n",
    "#fit a logisitic regression on the new training sets using the hyperparamters from an earlier gridsearch\n",
    "LR_smote = LogisticRegression(C = 1, max_iter = 250, random_state = 20)\n",
    "LR_smote.fit(X_train_smote, y_train_smote)\n",
    "\n",
    "#generate predictions using the model\n",
    "smote_train_pred = LR_smote.predict(X_train_smote)\n",
    "smote_test_pred = LR_smote.predict(X_test)"
   ]
  },
  {
   "cell_type": "code",
   "execution_count": 280,
   "metadata": {},
   "outputs": [
    {
     "data": {
      "text/plain": [
       "{'train_accuracy': 0.7272187592757495,\n",
       " 'test_accuracy': 0.6792710706150342,\n",
       " 'train_precision': 0.7204146271235243,\n",
       " 'test_precision': 0.3848964677222899,\n",
       " 'train_recall': 0.742653606411398,\n",
       " 'test_recall': 0.6135922330097088,\n",
       " 'train_f1': 0.7313650979245834,\n",
       " 'test_f1': 0.4730538922155689}"
      ]
     },
     "execution_count": 280,
     "metadata": {},
     "output_type": "execute_result"
    }
   ],
   "source": [
    "metric_dict['SMOTE_LogisticRegression'] = {'train_accuracy': metrics.accuracy_score(y_train_smote, smote_train_pred),\n",
    "                                      'test_accuracy': metrics.accuracy_score(y_test, smote_test_pred),\n",
    "                                      'train_precision':metrics.precision_score(y_train_smote, smote_train_pred),\n",
    "                                      'test_precision':metrics.precision_score(y_test, smote_test_pred),\n",
    "                                      'train_recall':metrics.recall_score(y_train_smote, smote_train_pred),\n",
    "                                      'test_recall':metrics.recall_score(y_test, smote_test_pred),\n",
    "                                      'train_f1':metrics.f1_score(y_train_smote, smote_train_pred),\n",
    "                                      'test_f1':metrics.f1_score(y_test, smote_test_pred), \n",
    "                                          \n",
    "                                          }\n",
    "metric_dict['SMOTE_LogisticRegression']"
   ]
  },
  {
   "cell_type": "markdown",
   "metadata": {},
   "source": [
    "This model was very overfit and the metrics for the test set were slightly worse than the other Logisitc Regression models. Additionally, with SMOTE, the model becomes less interpretable because it oversamples certain data points. Because of this, it would not be a good fit for the final model. "
   ]
  },
  {
   "cell_type": "markdown",
   "metadata": {},
   "source": [
    "### Final Model Selection"
   ]
  },
  {
   "cell_type": "markdown",
   "metadata": {},
   "source": [
    "The evaluation metrics from all models are summarized below. "
   ]
  },
  {
   "cell_type": "code",
   "execution_count": 281,
   "metadata": {},
   "outputs": [
    {
     "data": {
      "text/html": [
       "<div>\n",
       "<style scoped>\n",
       "    .dataframe tbody tr th:only-of-type {\n",
       "        vertical-align: middle;\n",
       "    }\n",
       "\n",
       "    .dataframe tbody tr th {\n",
       "        vertical-align: top;\n",
       "    }\n",
       "\n",
       "    .dataframe thead th {\n",
       "        text-align: right;\n",
       "    }\n",
       "</style>\n",
       "<table border=\"1\" class=\"dataframe\">\n",
       "  <thead>\n",
       "    <tr style=\"text-align: right;\">\n",
       "      <th></th>\n",
       "      <th>train_accuracy</th>\n",
       "      <th>test_accuracy</th>\n",
       "      <th>train_precision</th>\n",
       "      <th>test_precision</th>\n",
       "      <th>train_recall</th>\n",
       "      <th>test_recall</th>\n",
       "      <th>train_f1</th>\n",
       "      <th>test_f1</th>\n",
       "      <th>average cross-val f1</th>\n",
       "    </tr>\n",
       "  </thead>\n",
       "  <tbody>\n",
       "    <tr>\n",
       "      <th>Initial_LogisticRegression</th>\n",
       "      <td>0.795421</td>\n",
       "      <td>0.797267</td>\n",
       "      <td>0.634468</td>\n",
       "      <td>0.660550</td>\n",
       "      <td>0.283195</td>\n",
       "      <td>0.279612</td>\n",
       "      <td>0.391599</td>\n",
       "      <td>0.392906</td>\n",
       "      <td>0.382591</td>\n",
       "    </tr>\n",
       "    <tr>\n",
       "      <th>GridSearch_LogisticRegression</th>\n",
       "      <td>0.696435</td>\n",
       "      <td>0.698861</td>\n",
       "      <td>0.411615</td>\n",
       "      <td>0.413507</td>\n",
       "      <td>0.711906</td>\n",
       "      <td>0.677670</td>\n",
       "      <td>0.521630</td>\n",
       "      <td>0.513613</td>\n",
       "      <td>0.515095</td>\n",
       "    </tr>\n",
       "    <tr>\n",
       "      <th>KBEST_LogisticRegression</th>\n",
       "      <td>0.686525</td>\n",
       "      <td>0.684738</td>\n",
       "      <td>0.401551</td>\n",
       "      <td>0.396973</td>\n",
       "      <td>0.710436</td>\n",
       "      <td>0.662136</td>\n",
       "      <td>0.513093</td>\n",
       "      <td>0.496361</td>\n",
       "      <td>NaN</td>\n",
       "    </tr>\n",
       "    <tr>\n",
       "      <th>SMOTE_LogisticRegression</th>\n",
       "      <td>0.727219</td>\n",
       "      <td>0.679271</td>\n",
       "      <td>0.720415</td>\n",
       "      <td>0.384896</td>\n",
       "      <td>0.742654</td>\n",
       "      <td>0.613592</td>\n",
       "      <td>0.731365</td>\n",
       "      <td>0.473054</td>\n",
       "      <td>NaN</td>\n",
       "    </tr>\n",
       "  </tbody>\n",
       "</table>\n",
       "</div>"
      ],
      "text/plain": [
       "                               train_accuracy  test_accuracy  train_precision  \\\n",
       "Initial_LogisticRegression           0.795421       0.797267         0.634468   \n",
       "GridSearch_LogisticRegression        0.696435       0.698861         0.411615   \n",
       "KBEST_LogisticRegression             0.686525       0.684738         0.401551   \n",
       "SMOTE_LogisticRegression             0.727219       0.679271         0.720415   \n",
       "\n",
       "                               test_precision  train_recall  test_recall  \\\n",
       "Initial_LogisticRegression           0.660550      0.283195     0.279612   \n",
       "GridSearch_LogisticRegression        0.413507      0.711906     0.677670   \n",
       "KBEST_LogisticRegression             0.396973      0.710436     0.662136   \n",
       "SMOTE_LogisticRegression             0.384896      0.742654     0.613592   \n",
       "\n",
       "                               train_f1   test_f1  average cross-val f1  \n",
       "Initial_LogisticRegression     0.391599  0.392906              0.382591  \n",
       "GridSearch_LogisticRegression  0.521630  0.513613              0.515095  \n",
       "KBEST_LogisticRegression       0.513093  0.496361                   NaN  \n",
       "SMOTE_LogisticRegression       0.731365  0.473054                   NaN  "
      ]
     },
     "execution_count": 281,
     "metadata": {},
     "output_type": "execute_result"
    }
   ],
   "source": [
    "pd.DataFrame.from_dict(metric_dict, orient = 'index')"
   ]
  },
  {
   "cell_type": "markdown",
   "metadata": {},
   "source": [
    "Looking at overall metrics, with preference given to the F1 score and a higher interpretability, the best model was the Logistic Regression with the hyperparamaters optimized using GridSearch. From this model, the follow coefficients were found:"
   ]
  },
  {
   "cell_type": "code",
   "execution_count": 282,
   "metadata": {},
   "outputs": [
    {
     "data": {
      "text/html": [
       "<div>\n",
       "<style scoped>\n",
       "    .dataframe tbody tr th:only-of-type {\n",
       "        vertical-align: middle;\n",
       "    }\n",
       "\n",
       "    .dataframe tbody tr th {\n",
       "        vertical-align: top;\n",
       "    }\n",
       "\n",
       "    .dataframe thead th {\n",
       "        text-align: right;\n",
       "    }\n",
       "</style>\n",
       "<table border=\"1\" class=\"dataframe\">\n",
       "  <thead>\n",
       "    <tr style=\"text-align: right;\">\n",
       "      <th></th>\n",
       "      <th>feature</th>\n",
       "      <th>coefficient_value</th>\n",
       "    </tr>\n",
       "  </thead>\n",
       "  <tbody>\n",
       "    <tr>\n",
       "      <th>0</th>\n",
       "      <td>asian</td>\n",
       "      <td>0.594530</td>\n",
       "    </tr>\n",
       "    <tr>\n",
       "      <th>1</th>\n",
       "      <td>X2STU30OCC_STEM1</td>\n",
       "      <td>0.491174</td>\n",
       "    </tr>\n",
       "    <tr>\n",
       "      <th>2</th>\n",
       "      <td>S2SPERSON1</td>\n",
       "      <td>0.330465</td>\n",
       "    </tr>\n",
       "    <tr>\n",
       "      <th>3</th>\n",
       "      <td>compsci</td>\n",
       "      <td>0.309787</td>\n",
       "    </tr>\n",
       "    <tr>\n",
       "      <th>4</th>\n",
       "      <td>S2SPERSON2</td>\n",
       "      <td>0.284498</td>\n",
       "    </tr>\n",
       "    <tr>\n",
       "      <th>5</th>\n",
       "      <td>S2SUSEJOB</td>\n",
       "      <td>0.278348</td>\n",
       "    </tr>\n",
       "    <tr>\n",
       "      <th>6</th>\n",
       "      <td>S2SSUMMERPRG</td>\n",
       "      <td>0.278012</td>\n",
       "    </tr>\n",
       "    <tr>\n",
       "      <th>7</th>\n",
       "      <td>S2SCAREER</td>\n",
       "      <td>0.271197</td>\n",
       "    </tr>\n",
       "    <tr>\n",
       "      <th>8</th>\n",
       "      <td>engineering</td>\n",
       "      <td>0.255788</td>\n",
       "    </tr>\n",
       "    <tr>\n",
       "      <th>9</th>\n",
       "      <td>S2SCLUB</td>\n",
       "      <td>0.207813</td>\n",
       "    </tr>\n",
       "    <tr>\n",
       "      <th>10</th>\n",
       "      <td>S2SENJOYS</td>\n",
       "      <td>0.204501</td>\n",
       "    </tr>\n",
       "    <tr>\n",
       "      <th>11</th>\n",
       "      <td>physics</td>\n",
       "      <td>0.198786</td>\n",
       "    </tr>\n",
       "    <tr>\n",
       "      <th>12</th>\n",
       "      <td>S2SCOMPETE</td>\n",
       "      <td>0.155409</td>\n",
       "    </tr>\n",
       "    <tr>\n",
       "      <th>13</th>\n",
       "      <td>S2SCHALLENGE</td>\n",
       "      <td>0.102997</td>\n",
       "    </tr>\n",
       "    <tr>\n",
       "      <th>14</th>\n",
       "      <td>chem</td>\n",
       "      <td>0.102209</td>\n",
       "    </tr>\n",
       "    <tr>\n",
       "      <th>15</th>\n",
       "      <td>hispanic</td>\n",
       "      <td>0.093046</td>\n",
       "    </tr>\n",
       "    <tr>\n",
       "      <th>16</th>\n",
       "      <td>S2STCHEASY</td>\n",
       "      <td>0.085070</td>\n",
       "    </tr>\n",
       "    <tr>\n",
       "      <th>17</th>\n",
       "      <td>S2SPARREC</td>\n",
       "      <td>0.084515</td>\n",
       "    </tr>\n",
       "    <tr>\n",
       "      <th>18</th>\n",
       "      <td>multiple_race</td>\n",
       "      <td>0.082929</td>\n",
       "    </tr>\n",
       "    <tr>\n",
       "      <th>19</th>\n",
       "      <td>S2STEXTBOOK</td>\n",
       "      <td>0.079939</td>\n",
       "    </tr>\n",
       "    <tr>\n",
       "      <th>20</th>\n",
       "      <td>S2SDOWELL</td>\n",
       "      <td>0.074777</td>\n",
       "    </tr>\n",
       "    <tr>\n",
       "      <th>21</th>\n",
       "      <td>S2SUSELIFE</td>\n",
       "      <td>0.074550</td>\n",
       "    </tr>\n",
       "    <tr>\n",
       "      <th>22</th>\n",
       "      <td>public</td>\n",
       "      <td>0.045278</td>\n",
       "    </tr>\n",
       "    <tr>\n",
       "      <th>23</th>\n",
       "      <td>S2SUSECLG</td>\n",
       "      <td>0.036818</td>\n",
       "    </tr>\n",
       "    <tr>\n",
       "      <th>24</th>\n",
       "      <td>S2SCLGSUCC</td>\n",
       "      <td>0.031080</td>\n",
       "    </tr>\n",
       "    <tr>\n",
       "      <th>25</th>\n",
       "      <td>S2STESTS</td>\n",
       "      <td>0.023561</td>\n",
       "    </tr>\n",
       "    <tr>\n",
       "      <th>26</th>\n",
       "      <td>S2SBORN</td>\n",
       "      <td>0.018434</td>\n",
       "    </tr>\n",
       "    <tr>\n",
       "      <th>27</th>\n",
       "      <td>nh_pi</td>\n",
       "      <td>0.015377</td>\n",
       "    </tr>\n",
       "    <tr>\n",
       "      <th>28</th>\n",
       "      <td>ai_an</td>\n",
       "      <td>0.014603</td>\n",
       "    </tr>\n",
       "    <tr>\n",
       "      <th>29</th>\n",
       "      <td>S2SSKILLS</td>\n",
       "      <td>0.012363</td>\n",
       "    </tr>\n",
       "    <tr>\n",
       "      <th>30</th>\n",
       "      <td>S2STCHTHINK</td>\n",
       "      <td>0.009873</td>\n",
       "    </tr>\n",
       "    <tr>\n",
       "      <th>31</th>\n",
       "      <td>S2SFRIEND</td>\n",
       "      <td>0.008872</td>\n",
       "    </tr>\n",
       "    <tr>\n",
       "      <th>32</th>\n",
       "      <td>S2SLEARN</td>\n",
       "      <td>0.008695</td>\n",
       "    </tr>\n",
       "    <tr>\n",
       "      <th>33</th>\n",
       "      <td>S2STCHTREAT</td>\n",
       "      <td>0.006995</td>\n",
       "    </tr>\n",
       "    <tr>\n",
       "      <th>34</th>\n",
       "      <td>S2SGROUP</td>\n",
       "      <td>-0.000120</td>\n",
       "    </tr>\n",
       "    <tr>\n",
       "      <th>35</th>\n",
       "      <td>S2STCHINTRST</td>\n",
       "      <td>-0.011242</td>\n",
       "    </tr>\n",
       "    <tr>\n",
       "      <th>36</th>\n",
       "      <td>S2SASSEXCL</td>\n",
       "      <td>-0.015819</td>\n",
       "    </tr>\n",
       "    <tr>\n",
       "      <th>37</th>\n",
       "      <td>S2SEMPREC</td>\n",
       "      <td>-0.019258</td>\n",
       "    </tr>\n",
       "    <tr>\n",
       "      <th>38</th>\n",
       "      <td>S2SFAMREC</td>\n",
       "      <td>-0.026379</td>\n",
       "    </tr>\n",
       "    <tr>\n",
       "      <th>39</th>\n",
       "      <td>S2SBORING</td>\n",
       "      <td>-0.035242</td>\n",
       "    </tr>\n",
       "    <tr>\n",
       "      <th>40</th>\n",
       "      <td>S2SENJOYING</td>\n",
       "      <td>-0.035482</td>\n",
       "    </tr>\n",
       "    <tr>\n",
       "      <th>41</th>\n",
       "      <td>bio</td>\n",
       "      <td>-0.042159</td>\n",
       "    </tr>\n",
       "    <tr>\n",
       "      <th>42</th>\n",
       "      <td>X2POVERTY185</td>\n",
       "      <td>-0.044439</td>\n",
       "    </tr>\n",
       "    <tr>\n",
       "      <th>43</th>\n",
       "      <td>took_science_2012</td>\n",
       "      <td>-0.048142</td>\n",
       "    </tr>\n",
       "    <tr>\n",
       "      <th>44</th>\n",
       "      <td>enviro</td>\n",
       "      <td>-0.057955</td>\n",
       "    </tr>\n",
       "    <tr>\n",
       "      <th>45</th>\n",
       "      <td>misc_class</td>\n",
       "      <td>-0.065410</td>\n",
       "    </tr>\n",
       "    <tr>\n",
       "      <th>46</th>\n",
       "      <td>S2STCHGIVEUP</td>\n",
       "      <td>-0.075748</td>\n",
       "    </tr>\n",
       "    <tr>\n",
       "      <th>47</th>\n",
       "      <td>S2STCHRREC</td>\n",
       "      <td>-0.091666</td>\n",
       "    </tr>\n",
       "    <tr>\n",
       "      <th>48</th>\n",
       "      <td>S2SWASTE</td>\n",
       "      <td>-0.091993</td>\n",
       "    </tr>\n",
       "    <tr>\n",
       "      <th>49</th>\n",
       "      <td>S2SCLGADM</td>\n",
       "      <td>-0.096874</td>\n",
       "    </tr>\n",
       "    <tr>\n",
       "      <th>50</th>\n",
       "      <td>S2SCNSLREC</td>\n",
       "      <td>-0.115400</td>\n",
       "    </tr>\n",
       "    <tr>\n",
       "      <th>51</th>\n",
       "      <td>S2STUTORED</td>\n",
       "      <td>-0.116384</td>\n",
       "    </tr>\n",
       "    <tr>\n",
       "      <th>52</th>\n",
       "      <td>black</td>\n",
       "      <td>-0.117193</td>\n",
       "    </tr>\n",
       "    <tr>\n",
       "      <th>53</th>\n",
       "      <td>S2SHSREQ</td>\n",
       "      <td>-0.118631</td>\n",
       "    </tr>\n",
       "    <tr>\n",
       "      <th>54</th>\n",
       "      <td>S2SASSIGNED</td>\n",
       "      <td>-0.185649</td>\n",
       "    </tr>\n",
       "    <tr>\n",
       "      <th>55</th>\n",
       "      <td>underrep</td>\n",
       "      <td>-0.235700</td>\n",
       "    </tr>\n",
       "    <tr>\n",
       "      <th>56</th>\n",
       "      <td>female</td>\n",
       "      <td>-0.695378</td>\n",
       "    </tr>\n",
       "  </tbody>\n",
       "</table>\n",
       "</div>"
      ],
      "text/plain": [
       "              feature  coefficient_value\n",
       "0               asian           0.594530\n",
       "1    X2STU30OCC_STEM1           0.491174\n",
       "2          S2SPERSON1           0.330465\n",
       "3             compsci           0.309787\n",
       "4          S2SPERSON2           0.284498\n",
       "5           S2SUSEJOB           0.278348\n",
       "6        S2SSUMMERPRG           0.278012\n",
       "7           S2SCAREER           0.271197\n",
       "8         engineering           0.255788\n",
       "9             S2SCLUB           0.207813\n",
       "10          S2SENJOYS           0.204501\n",
       "11            physics           0.198786\n",
       "12         S2SCOMPETE           0.155409\n",
       "13       S2SCHALLENGE           0.102997\n",
       "14               chem           0.102209\n",
       "15           hispanic           0.093046\n",
       "16         S2STCHEASY           0.085070\n",
       "17          S2SPARREC           0.084515\n",
       "18      multiple_race           0.082929\n",
       "19        S2STEXTBOOK           0.079939\n",
       "20          S2SDOWELL           0.074777\n",
       "21         S2SUSELIFE           0.074550\n",
       "22             public           0.045278\n",
       "23          S2SUSECLG           0.036818\n",
       "24         S2SCLGSUCC           0.031080\n",
       "25           S2STESTS           0.023561\n",
       "26            S2SBORN           0.018434\n",
       "27              nh_pi           0.015377\n",
       "28              ai_an           0.014603\n",
       "29          S2SSKILLS           0.012363\n",
       "30        S2STCHTHINK           0.009873\n",
       "31          S2SFRIEND           0.008872\n",
       "32           S2SLEARN           0.008695\n",
       "33        S2STCHTREAT           0.006995\n",
       "34           S2SGROUP          -0.000120\n",
       "35       S2STCHINTRST          -0.011242\n",
       "36         S2SASSEXCL          -0.015819\n",
       "37          S2SEMPREC          -0.019258\n",
       "38          S2SFAMREC          -0.026379\n",
       "39          S2SBORING          -0.035242\n",
       "40        S2SENJOYING          -0.035482\n",
       "41                bio          -0.042159\n",
       "42       X2POVERTY185          -0.044439\n",
       "43  took_science_2012          -0.048142\n",
       "44             enviro          -0.057955\n",
       "45         misc_class          -0.065410\n",
       "46       S2STCHGIVEUP          -0.075748\n",
       "47         S2STCHRREC          -0.091666\n",
       "48           S2SWASTE          -0.091993\n",
       "49          S2SCLGADM          -0.096874\n",
       "50         S2SCNSLREC          -0.115400\n",
       "51         S2STUTORED          -0.116384\n",
       "52              black          -0.117193\n",
       "53           S2SHSREQ          -0.118631\n",
       "54        S2SASSIGNED          -0.185649\n",
       "55           underrep          -0.235700\n",
       "56             female          -0.695378"
      ]
     },
     "execution_count": 282,
     "metadata": {},
     "output_type": "execute_result"
    }
   ],
   "source": [
    "coef_gs = dict(zip(list(features), list(gs_lr.coef_[0])))\n",
    "sorted_dict = sorted(coef_gs.items(), key=lambda kv: kv[1])\n",
    "sorted_dict.reverse()\n",
    "coef_df = pd.DataFrame(data = sorted_dict, columns = ['feature', 'coefficient_value'])\n",
    "coef_df"
   ]
  },
  {
   "cell_type": "markdown",
   "metadata": {},
   "source": [
    "The odds that can derived from these coefficients can be found below. The coefficients are the log-odds of that feature. By doing the inverse operation, I got the odds ratio. This is the probability of the postive class over the odds of the negative class, or of being a STEM major over being a non-STEM major. Some factors made a student *less* likely to be in the positive class, or more likely to be the negative class. This is shown below in red. The odds ratio in the case of `female` shows the odds of being a non-STEM major over the odds of being a STEM major."
   ]
  },
  {
   "cell_type": "code",
   "execution_count": 283,
   "metadata": {},
   "outputs": [
    {
     "data": {
      "image/png": "[encoded data removed]",
      "text/plain": [
       "<Figure size 720x720 with 1 Axes>"
      ]
     },
     "metadata": {
      "needs_background": "light"
     },
     "output_type": "display_data"
    }
   ],
   "source": [
    "coef_df['pos_odd'] = e**coef_df['coefficient_value']\n",
    "coef_df['neg_odd'] = 1/coef_df['pos_odd']\n",
    "coef_df['highest_odd'] = np.where(coef_df['pos_odd'] > coef_df['neg_odd'], coef_df['pos_odd'], coef_df['neg_odd'])\n",
    "coef_df.sort_values(by = 'highest_odd', ascending = False, inplace = True)\n",
    "top_ten = coef_df[:10]\n",
    "\n",
    "\n",
    "plt.figure(figsize = (10,10))\n",
    "clrs = ['red' if x == 'female' else 'red' if x == 'black' else 'red' if x== 'misc_class' else 'skyblue' for x in top_ten['feature']]\n",
    "ax = sns.barplot(x ='highest_odd', y = 'feature', data = top_ten, palette = clrs, orient = 'horiz' )\n",
    "plt.yticks(ticks = range(0,11), labels = ['Female', 'Asian', 'Expected Career at 30 is in STEM', 'Sees Self As Science Person', \n",
    "          'Taking Computer Science Class', 'Thinks Other People See Them As a Science Person', \n",
    "          'Thinks Science is Useful for Future Career', 'Has Participated in Science Summer Program', \n",
    "          'Taking Science Because It Will Be Useful for Career', 'Taking an Engineering Class'])\n",
    "plt.margins(0.1, 0.02)\n",
    "ax.set_ylabel('Feature', labelpad = 0.5)\n",
    "ax.set_xlabel('Odds Ratio')\n",
    "\n",
    "legend = [Patch(facecolor='red', edgecolor='red', label='Non-STEM'), Patch(facecolor='skyblue', edgecolor='skyblue', label='STEM')]\n",
    "ax.legend(handles = legend, bbox_to_anchor=(1.05, 1), loc=2, borderaxespad=0.)\n",
    ";\n",
    "\n",
    "plt.show()"
   ]
  },
  {
   "cell_type": "markdown",
   "metadata": {},
   "source": [
    "The factor that had the largest impact on whether or not a student went into STEM is their gender. A female student is twice as likely to *not* pursue a STEM major as a male student. Additionally, an Asian student is 1.75 times more likely to go into STEM as a white student. This model shows that a student's self-concept in science, which is their own perception of if they are a science person and if others see them as a science person, are two of the top influences. \n",
    "\n",
    "As this data goes from an 11th grade student, a student's expected career weighs heavily, as well. Students who expected to have a STEM career at 30 during high school were more likely to be majoring in STEM. Similarly, students who were taking a science class because they knew it would be useful for a future career or thought science was useful for careers were 20% more likely to later enroll in a STEM major. Each of these show that many students have made decisions about their college interests and careers by the time they are in 11th grade. \n",
    "\n",
    "Lastly, students taking engineering and computer science classes in 11th grade were more likely enroll in a STEM major than other science classes, or not taking a science class. Engineering and computer science are not often included in graduation requirements, so it's possible that students who are taking these classes have already fulfilled the science requirements, thereby showing their interest in science. Students seeking out electives are going to be more interested in continuing their studies in the future. Another possibility is that those two science classes are closely tied to specific careers that are well known to be in high demand (and were in 2013, as well). Students who take those classes may be taking those classes because they want to be engineers or computer scientists. "
   ]
  },
  {
   "cell_type": "markdown",
   "metadata": {},
   "source": [
    "## Evaluation <a id=\"Evaluation\"></a>\n",
    "##### [(back to top)](#Overview)\n",
    "\n"
   ]
  },
  {
   "cell_type": "markdown",
   "metadata": {},
   "source": [
    "This project used F1 score as it's main evaluation metric because of the class imbalance and because neither false negatives nor false positives were more detrimental. The score was 0.52, which is better random guessing, but not a highly accurate model for prediction. The cross-validation F1 scores are shown below, which average to an F1 score of 0.515. "
   ]
  },
  {
   "cell_type": "code",
   "execution_count": 330,
   "metadata": {},
   "outputs": [
    {
     "data": {
      "text/plain": [
       "array([0.53479853, 0.53731343, 0.48442907, 0.51048951, 0.50574713])"
      ]
     },
     "execution_count": 330,
     "metadata": {},
     "output_type": "execute_result"
    }
   ],
   "source": [
    "cross_val_score(estimator=gs_lr, X=X_test, y=y_test, cv = 5, scoring = 'f1')"
   ]
  },
  {
   "cell_type": "markdown",
   "metadata": {},
   "source": [
    "#### Confusion Matrix"
   ]
  },
  {
   "cell_type": "code",
   "execution_count": 284,
   "metadata": {},
   "outputs": [
    {
     "data": {
      "image/png": "[encoded data removed]",
      "text/plain": [
       "<Figure size 360x360 with 2 Axes>"
      ]
     },
     "metadata": {
      "needs_background": "light"
     },
     "output_type": "display_data"
    }
   ],
   "source": [
    "LR_confusion = metrics.confusion_matrix(y_test, gs_lr_test_pred)\n",
    "df_cm = pd.DataFrame(LR_confusion,columns=['Non-STEM','STEM'],index=['Non-STEM','STEM'])\n",
    "df_cm.index.name = 'Actual'\n",
    "df_cm.columns.name = 'Predicted'\n",
    "\n",
    "fig, ax = plt.subplots(figsize=(5,5))\n",
    "ax = sns.heatmap(df_cm,cmap='Blues',annot=True,annot_kws={'size':16},fmt='g');\n",
    "ax.set_ylim([0,2]);"
   ]
  },
  {
   "cell_type": "markdown",
   "metadata": {},
   "source": [
    "The above confusion matrix further highlights that the model needs additional information about what factors impact a student becoming a STEM major, as it incorrectly assigned 495 students to be STEM majors that were not. As expected, more factors influence a student's decision to pursue a STEM major than are contained within this dataset.  "
   ]
  },
  {
   "cell_type": "markdown",
   "metadata": {},
   "source": [
    "### ROC CURVE"
   ]
  },
  {
   "cell_type": "code",
   "execution_count": 328,
   "metadata": {},
   "outputs": [
    {
     "data": {
      "image/png": "[encoded data removed]",
      "text/plain": [
       "<Figure size 720x576 with 1 Axes>"
      ]
     },
     "metadata": {
      "needs_background": "light"
     },
     "output_type": "display_data"
    },
    {
     "name": "stdout",
     "output_type": "stream",
     "text": [
      "Test AUC: 0.6915135228848821\n"
     ]
    }
   ],
   "source": [
    "test_fpr, test_tpr, thresholds = roc_curve(y_test, gs_lr_test_pred)\n",
    "test_auc = metrics.roc_auc_score(y_test, gs_lr_test_pred)\n",
    "\n",
    "\n",
    "# ROC curve for training set\n",
    "plt.figure(figsize=(10, 8))\n",
    "lw = 2\n",
    "plt.plot(test_fpr, test_tpr, color='darkorange',\n",
    "         lw=lw, label='ROC curve')\n",
    "plt.plot([0, 1], [0, 1], color='black', lw=lw, linestyle='--')\n",
    "plt.xlim([0.0, 1.0])\n",
    "plt.ylim([0.0, 1])\n",
    "plt.yticks([i/10.0 for i in range(11)])\n",
    "plt.xticks([i/10.0 for i in range(11)])\n",
    "plt.xlabel('False Positive Rate')\n",
    "plt.ylabel('True Positive Rate')\n",
    "plt.title('Receiver Operating Characteristic (ROC) Curve for Final Model')\n",
    "plt.legend(bbox_to_anchor=(1.05, 1), loc=2, borderaxespad=0.)\n",
    "plt.show()\n",
    "print('Test AUC:', auc)"
   ]
  },
  {
   "cell_type": "markdown",
   "metadata": {},
   "source": [
    "\n",
    "The area under the curve score (AUC) is 0.69. This shows that the model is better than random guessing, shown as the dotted line that has an AUC score of 0.5). However, with more data and further analysis, there is room for improvement.\n"
   ]
  },
  {
   "cell_type": "markdown",
   "metadata": {},
   "source": [
    "## Conclusion <a id=\"Conclusion\"></a>\n",
    "##### [(back to top)](#Overview)"
   ]
  },
  {
   "cell_type": "code",
   "execution_count": null,
   "metadata": {},
   "outputs": [],
   "source": []
  }
 ],
 "metadata": {
  "kernelspec": {
   "display_name": "Python 3",
   "language": "python",
   "name": "python3"
  },
  "language_info": {
   "codemirror_mode": {
    "name": "ipython",
    "version": 3
   },
   "file_extension": ".py",
   "mimetype": "text/x-python",
   "name": "python",
   "nbconvert_exporter": "python",
   "pygments_lexer": "ipython3",
   "version": "3.6.9"
  }
 },
 "nbformat": 4,
 "nbformat_minor": 4
}
