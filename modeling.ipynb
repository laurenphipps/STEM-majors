{
 "cells": [
  {
   "cell_type": "code",
   "execution_count": 6,
   "metadata": {},
   "outputs": [],
   "source": [
    "import pandas as pd\n",
    "import numpy as np\n",
    "import seaborn as sns\n",
    "import matplotlib.pyplot as plt\n",
    "import matplotlib.ticker as mtick\n",
    "%matplotlib inline\n",
    "import plotly\n",
    "import plotly.figure_factory as ff\n",
    "from plotly.offline import *\n",
    "from sklearn.preprocessing import StandardScaler\n",
    "from sklearn.model_selection import train_test_split\n",
    "from sklearn.model_selection import cross_val_score\n",
    "from sklearn.model_selection import cross_validate\n",
    "from sklearn import metrics\n",
    "from sklearn.metrics import make_scorer, accuracy_score\n",
    "from sklearn.linear_model import LogisticRegression\n",
    "from sklearn.feature_selection import SelectKBest, f_regression,mutual_info_regression\n",
    "from sklearn.tree import DecisionTreeClassifier\n",
    "from sklearn.model_selection import GridSearchCV\n",
    "from sklearn.ensemble import RandomForestClassifier\n",
    "from sklearn.ensemble import BaggingClassifier\n",
    "\n",
    "\n",
    "\n",
    "pd.set_option('display.max_columns', 300)"
   ]
  },
  {
   "cell_type": "code",
   "execution_count": 7,
   "metadata": {},
   "outputs": [],
   "source": [
    "demo_features = ['X2SEX', 'X2RACE', 'X2DUALLANG', 'X2POVERTY185', 'X2SESQ5_U', 'X2CONTROL', 'X2LOCALE', 'X2REGION']\n",
    "\n",
    "\n",
    "mvp_features = ['X2STU30OCC_STEM1', 'X2STUEDEXPCT', 'X2S2SSPR12', 'S2SPERSON1', 'S2SPERSON2', \n",
    "               'S2SLEARN', 'S2SBORN', 'S2SUSELIFE', 'S2SUSECLG', 'S2SUSEJOB', \n",
    "               'S2SSPR12', 'S2LIFES12', 'S2BIO1S12', 'S2BIO2S12', 'S2APBIOS12', \n",
    "               'S2IBIOS12', 'S2ANATOMYS12', 'S2OTHBIOS12', 'S2CHEM1S12', 'S2CHEM2S12', 'S2APCHEM12', \n",
    "               'S2IBCHEM12', 'S2EARTHS12', 'S2APENVS12', 'S2OTHENVS12', 'S2PHYSIC1S12', \n",
    "               'S2PHYSIC2S12', 'S2APPHYSIC12', 'S2IBPHYSIC12', 'S2PHYSS12', 'S2TECHS12', 'S2OTHPHYS12', \n",
    "               'S2INTGS1S12', 'S2INTGS2S12', 'S2GENS12', 'S2COMPAPP12', 'S2COMPPROG12', \n",
    "               'S2APCOMPSCI12', 'S2IBTECH12', 'S2OTHCOMP12', 'S2ENGINEER12', 'S2OTHS12', 'S2OTHS12SP', \n",
    "               'S2HISCIENCE12', 'S2APSCIENCE', 'S2IBSCIENCE', 'S2STOOKBEFORE', 'S2SENJOYS', 'S2SCHALLENGE', 'S2SHSREQ', 'S2SCLGADM', \n",
    "               'S2SCLGSUCC', 'S2SCAREER', 'S2SCNSLREC', 'S2STCHRREC', 'S2SPARREC', 'S2SFAMREC', \n",
    "               'S2SEMPREC', 'S2SFRIEND', 'S2SDOWELL', 'S2SASSIGNED', 'S2STCHTREAT', 'S2STCHINTRST', \n",
    "               'S2STCHEASY', 'S2STCHTHINK', 'S2STCHGIVEUP', 'S2SENJOYING', 'S2SWASTE', 'S2SBORING', \n",
    "               'S2SUSELIFE', 'S2SUSECLG', 'S2SUSEJOB', 'S2STESTS', 'S2STEXTBOOK', 'S2SSKILLS', \n",
    "               'S2SASSEXCL', 'S2APSCIENCE', 'S2HSPLAN', 'S2SUBMITPLAN', 'S2SCLUB', \n",
    "            'S2SCOMPETE', 'S2SSUMMERPRG', 'S2SGROUP', 'S2STUTORED', 'X4RFDGMJ123', 'X4RFDGMJSTEM']\n",
    "\n",
    "family_features = ['X2PAR1EDU', 'X2PAR1OCC_STEM1', \n",
    "            'X2PAR1RACE', 'X2PAR2EDU', 'X2PAR2OCC_STEM1', 'X2PAR2RACE', 'X2PARPATTERN', \n",
    "            'X2MOMEDU', 'X2MOMOCC_STEM1', 'X2MOMRACE', 'X2DADEDU', 'X2DADOCC_STEM1', \n",
    "            'X2DADRACE']\n",
    "\n",
    "cols_list = demo_features + mvp_features\n",
    "\n"
   ]
  },
  {
   "cell_type": "code",
   "execution_count": 8,
   "metadata": {},
   "outputs": [],
   "source": [
    "df = pd.read_csv('data-files/HSLS/hsls_17_student_pets_sr_v1_0.csv', usecols = cols_list)\n",
    "df.rename(columns = {'X4RFDGMJSTEM': 'target'}, inplace = True)"
   ]
  },
  {
   "cell_type": "code",
   "execution_count": 9,
   "metadata": {},
   "outputs": [],
   "source": [
    "#drop rows with non-response to S2SLEARN (and many other features) (likely dropped from study)\n",
    "df = df[df['S2SLEARN'] != -8]\n",
    "\n",
    "#create dummy variables for races\n",
    "df['ai_an'] = np.where(df['X2RACE'] == 1, 1, 0)\n",
    "df['asian'] = np.where(df['X2RACE'] == 2, 1, 0)\n",
    "df['black'] = np.where(df['X2RACE'] == 3, 1, 0)\n",
    "df['hispanic'] = np.where((df['X2RACE'] == 4) | (df['X2RACE'] == 5), 1, 0)\n",
    "df['multiple_race'] = np.where(df['X2RACE'] == 6, 1, 0)\n",
    "df['nh_pi'] = np.where(df['X2RACE'] == 7, 1, 0)\n",
    "df['white'] = np.where(df['X2RACE'] == 8, 1, 0)\n"
   ]
  },
  {
   "cell_type": "code",
   "execution_count": 10,
   "metadata": {},
   "outputs": [],
   "source": [
    "#'X2DUALLANG', 'X2POVERTY185', 'X2SESQ5_U', 'X2CONTROL', 'X2LOCALE', 'X2REGION'\n",
    "\n",
    "#create dummy for public/private school\n",
    "df['private'] = [1 if x == 2 else 0 for x in df['X2CONTROL']]\n",
    "df['public'] = [1 if x == 1 else 0 for x in df['X2CONTROL']]"
   ]
  },
  {
   "cell_type": "code",
   "execution_count": 11,
   "metadata": {},
   "outputs": [],
   "source": [
    "#compile all subchoices of STEM domains into yes/no\n",
    "df.X2STU30OCC_STEM1.replace({-9:0, 9:0, 4:1, 5:1, 6:1}, inplace = True)\n"
   ]
  },
  {
   "cell_type": "code",
   "execution_count": 12,
   "metadata": {},
   "outputs": [],
   "source": [
    "classes = ['S2SSPR12', 'S2LIFES12', 'S2BIO1S12', 'S2BIO2S12', 'S2APBIOS12', \n",
    "               'S2IBIOS12', 'S2ANATOMYS12', 'S2OTHBIOS12', 'S2CHEM1S12', 'S2CHEM2S12', 'S2APCHEM12', \n",
    "               'S2IBCHEM12', 'S2EARTHS12', 'S2APENVS12', 'S2OTHENVS12', 'S2PHYSIC1S12', \n",
    "               'S2PHYSIC2S12', 'S2APPHYSIC12', 'S2IBPHYSIC12', 'S2PHYSS12', 'S2TECHS12', 'S2OTHPHYS12', \n",
    "               'S2INTGS1S12', 'S2INTGS2S12', 'S2GENS12', 'S2COMPAPP12', 'S2COMPPROG12', \n",
    "               'S2APCOMPSCI12', 'S2IBTECH12', 'S2OTHCOMP12', 'S2ENGINEER12', 'S2OTHS12', 'S2APSCIENCE', 'S2IBSCIENCE']\n",
    "\n",
    "#impute 'no' for items that are missing or were skipped due to not taking a science class\n",
    "for col in classes:\n",
    "    df[col].replace({-9:0, -7:0}, inplace= True)\n"
   ]
  },
  {
   "cell_type": "code",
   "execution_count": 13,
   "metadata": {},
   "outputs": [
    {
     "data": {
      "text/plain": [
       "1    16192\n",
       "0     4402\n",
       "Name: S2SSPR12, dtype: int64"
      ]
     },
     "execution_count": 13,
     "metadata": {},
     "output_type": "execute_result"
    }
   ],
   "source": [
    "df.S2SSPR12.value_counts()"
   ]
  },
  {
   "cell_type": "code",
   "execution_count": 14,
   "metadata": {},
   "outputs": [],
   "source": [
    "#impute unknown with 'no' for if participating in science activity\n",
    "\n",
    "clubs_cols = ['S2SCLUB', 'S2SCOMPETE', 'S2SSUMMERPRG', 'S2SGROUP', 'S2STUTORED']\n",
    "\n",
    "for col in clubs_cols:\n",
    "    df[col].replace({-9:0}, inplace = True)"
   ]
  },
  {
   "cell_type": "code",
   "execution_count": 15,
   "metadata": {},
   "outputs": [],
   "source": [
    "df.S2HSPLAN = np.where(df['S2HSPLAN'] == 1, 1, 0)\n",
    "df.S2SUBMITPLAN = np.where(df['S2SUBMITPLAN'] == 1, 1, 0)"
   ]
  },
  {
   "cell_type": "code",
   "execution_count": 16,
   "metadata": {},
   "outputs": [],
   "source": [
    "#create class for underrepresented group in STEM (women, black, american indian, hispanic, pacific islander)\n",
    "\n",
    "df['underrep'] = np.where((df['X2SEX'] == 2) |\n",
    "                          (df['ai_an'] == 1) |\n",
    "                          (df['black'] == 1) |\n",
    "                          (df['hispanic'] == 1) |\n",
    "                          (df['multiple_race'] == 1) |\n",
    "                          (df['nh_pi'] == 1), 1, 0)\n",
    "                         "
   ]
  },
  {
   "cell_type": "code",
   "execution_count": null,
   "metadata": {},
   "outputs": [],
   "source": []
  },
  {
   "cell_type": "code",
   "execution_count": 17,
   "metadata": {},
   "outputs": [],
   "source": [
    "#group HS science classes into broader subjects\n",
    "\n",
    "df['bio'] = np.where((df['S2LIFES12'] == 1) |\n",
    "                      (df['S2BIO1S12'] == 1) |\n",
    "                      (df['S2BIO2S12'] == 1) |\n",
    "                      (df['S2APBIOS12'] == 1) |\n",
    "                      (df['S2IBIOS12'] == 1) |\n",
    "                     (df['S2ANATOMYS12'] == 1) |\n",
    "                      (df['S2OTHBIOS12'] == 1), 1, 0)\n",
    "               \n",
    "\n",
    "df['chem'] = np.where((df['S2CHEM1S12'] == 1) |\n",
    "                      (df['S2CHEM2S12'] == 1) |\n",
    "                      (df['S2APCHEM12'] == 1) |\n",
    "                      (df['S2IBCHEM12'] == 1), 1, 0)\n",
    "              \n",
    "\n",
    "df['enviro'] = np.where((df['S2EARTHS12'] == 1) |\n",
    "                        (df['S2EARTHS12'] == 1) |\n",
    "                        (df['S2APENVS12'] == 1) |\n",
    "                        (df['S2OTHENVS12'] == 1), 1, 0)\n",
    "                        \n",
    "df['physics'] = np.where((df['S2PHYSIC1S12'] == 1) |\n",
    "                         (df['S2PHYSIC2S12'] == 1) |\n",
    "                         (df['S2APPHYSIC12'] == 1) |\n",
    "                         (df['S2IBPHYSIC12'] == 1) |\n",
    "                         (df['S2PHYSS12'] == 1), 1, 0)\n",
    "                         \n",
    "df['engineering'] = np.where((df['S2ENGINEER12'] == 1), 1, 0)\n",
    "\n",
    "\n",
    "df['compsci'] = np.where((df['S2COMPAPP12'] == 1) |\n",
    "                         (df['S2COMPPROG12'] == 1) |\n",
    "                         (df['S2APCOMPSCI12'] == 1) |\n",
    "                         (df['S2IBTECH12'] == 1) |\n",
    "                         (df['S2OTHCOMP12'] == 1), 1, 0)\n",
    "\n",
    "df['misc_class'] = np.where((df['S2OTHPHYS12'] == 1) |\n",
    "                            (df['S2INTGS1S12'] == 1) |\n",
    "                            (df['S2GENS12'] == 1), 1, 0)\n"
   ]
  },
  {
   "cell_type": "code",
   "execution_count": null,
   "metadata": {},
   "outputs": [],
   "source": []
  },
  {
   "cell_type": "code",
   "execution_count": 18,
   "metadata": {},
   "outputs": [],
   "source": [
    "#create column for students who took science earlier in the year (but don't now)\n",
    "df['took_science_2012'] = np.where((df['S2STOOKBEFORE'] == 1) |\n",
    "                                   (df['bio'] == 1) |\n",
    "                                   (df['chem'] == 1) |\n",
    "                                   (df['enviro'] == 1) |\n",
    "                                   (df['physics'] == 1) |\n",
    "                                   (df['engineering'] == 1) |\n",
    "                                   (df['compsci'] == 1) |\n",
    "                                   (df['misc_class'] == 1), 1, 0)\n"
   ]
  },
  {
   "cell_type": "code",
   "execution_count": 19,
   "metadata": {},
   "outputs": [
    {
     "data": {
      "text/plain": [
       "1    18051\n",
       "0     2543\n",
       "Name: took_science_2012, dtype: int64"
      ]
     },
     "execution_count": 19,
     "metadata": {},
     "output_type": "execute_result"
    }
   ],
   "source": [
    "df.took_science_2012.value_counts()"
   ]
  },
  {
   "cell_type": "code",
   "execution_count": 20,
   "metadata": {},
   "outputs": [],
   "source": [
    "#impute 'no' for items that are missing or were skipped due to not taking a science class\n",
    "\n",
    "why_science = ['S2SENJOYS', 'S2SCHALLENGE', 'S2SHSREQ', 'S2SCLGADM', \n",
    "               'S2SCLGSUCC', 'S2SCAREER', 'S2SCNSLREC', 'S2STCHRREC', 'S2SPARREC', 'S2SFAMREC', \n",
    "               'S2SEMPREC', 'S2SFRIEND', 'S2SDOWELL', 'S2SASSIGNED']\n",
    "\n",
    "for col in why_science:\n",
    "    df[col].replace({-9:0, -7:0}, inplace= True)"
   ]
  },
  {
   "cell_type": "code",
   "execution_count": 21,
   "metadata": {},
   "outputs": [],
   "source": [
    "#create dataframe with target variable\n",
    "modeling_df = df[(df.target == 0) | (df.target == 1)]\n",
    "\n"
   ]
  },
  {
   "cell_type": "code",
   "execution_count": null,
   "metadata": {},
   "outputs": [],
   "source": []
  },
  {
   "cell_type": "code",
   "execution_count": 50,
   "metadata": {},
   "outputs": [],
   "source": [
    "likert_cols = ['S2SPERSON1', 'S2SPERSON2', \n",
    "               'S2SLEARN', 'S2SBORN', 'S2SUSELIFE', 'S2SUSECLG', 'S2SUSEJOB', \n",
    "                'S2STCHTREAT', 'S2STCHINTRST', \n",
    "               'S2STCHEASY', 'S2STCHTHINK', 'S2STCHGIVEUP', 'S2SENJOYING', 'S2SWASTE', 'S2SBORING', \n",
    "               'S2STESTS', 'S2STEXTBOOK', 'S2SSKILLS', \n",
    "               'S2SASSEXCL']\n",
    "\n",
    "#change likert questions to agree/disagree\n",
    "for col in likert_cols:\n",
    "   modeling_df[col].replace({2:1, 3:0, 4:0, -9:0, -7:0}, inplace = True)"
   ]
  },
  {
   "cell_type": "code",
   "execution_count": 51,
   "metadata": {},
   "outputs": [
    {
     "data": {
      "text/plain": [
       "1    9381\n",
       "0    1593\n",
       "Name: S2SSPR12, dtype: int64"
      ]
     },
     "execution_count": 51,
     "metadata": {},
     "output_type": "execute_result"
    }
   ],
   "source": [
    "modeling_df.S2SSPR12.value_counts()"
   ]
  },
  {
   "cell_type": "code",
   "execution_count": 52,
   "metadata": {},
   "outputs": [
    {
     "data": {
      "text/plain": [
       "target  underrep  took_science_2012\n",
       "0       0         1                    0.913410\n",
       "                  0                    0.086590\n",
       "        1         1                    0.916964\n",
       "                  0                    0.083036\n",
       "1       0         1                    0.955943\n",
       "                  0                    0.044057\n",
       "        1         1                    0.945307\n",
       "                  0                    0.054693\n",
       "Name: took_science_2012, dtype: float64"
      ]
     },
     "execution_count": 52,
     "metadata": {},
     "output_type": "execute_result"
    }
   ],
   "source": [
    "modeling_df.groupby(by = ['target', 'underrep']).took_science_2012.value_counts(normalize = True)"
   ]
  },
  {
   "cell_type": "code",
   "execution_count": 53,
   "metadata": {},
   "outputs": [
    {
     "data": {
      "text/plain": [
       "1    7519\n",
       "0    3455\n",
       "Name: underrep, dtype: int64"
      ]
     },
     "execution_count": 53,
     "metadata": {},
     "output_type": "execute_result"
    }
   ],
   "source": [
    "modeling_df.underrep.value_counts(normalize = False)"
   ]
  },
  {
   "cell_type": "code",
   "execution_count": 54,
   "metadata": {},
   "outputs": [],
   "source": [
    "underrep_df = modeling_df[modeling_df['underrep'] == 1]\n"
   ]
  },
  {
   "cell_type": "code",
   "execution_count": null,
   "metadata": {},
   "outputs": [],
   "source": []
  },
  {
   "cell_type": "markdown",
   "metadata": {},
   "source": [
    "### Initial Model - ALL"
   ]
  },
  {
   "cell_type": "code",
   "execution_count": 55,
   "metadata": {},
   "outputs": [],
   "source": [
    "X = modeling_df.drop(columns = 'target', axis =1)\n",
    "y = modeling_df['target']"
   ]
  },
  {
   "cell_type": "code",
   "execution_count": 56,
   "metadata": {},
   "outputs": [],
   "source": [
    "X_train, X_test, y_train, y_test = train_test_split(X, y, test_size = 0.2, random_state = 20)"
   ]
  },
  {
   "cell_type": "code",
   "execution_count": 122,
   "metadata": {},
   "outputs": [],
   "source": [
    "features = ['S2SCLUB', 'S2SCOMPETE', 'S2SSUMMERPRG', 'S2SGROUP', 'S2STUTORED', 'S2SPERSON1', 'S2SPERSON2', \n",
    "               'S2SLEARN', 'S2SBORN', 'S2SUSELIFE', 'S2SUSECLG', 'S2SUSEJOB', 'S2SENJOYING', 'S2SWASTE', 'S2SBORING', \n",
    "               'S2STESTS', 'S2STEXTBOOK', 'S2SSKILLS', 'S2STCHTREAT', 'S2STCHINTRST', \n",
    "               'S2STCHEASY', 'S2STCHTHINK', 'S2STCHGIVEUP',\n",
    "               'S2SASSEXCL', 'S2SENJOYS', 'S2SCHALLENGE', 'S2SHSREQ', 'S2SCLGADM', \n",
    "               'S2SCLGSUCC', 'S2SCAREER', 'S2SCNSLREC', 'S2STCHRREC', 'S2SPARREC', 'S2SFAMREC', \n",
    "               'S2SEMPREC', 'S2SFRIEND', 'S2SDOWELL', 'S2SASSIGNED', 'X2STU30OCC_STEM1', 'took_science_2012', 'bio', 'chem', 'enviro', 'physics', 'engineering', 'compsci', 'misc_class'\n",
    "            ]\n",
    "                            \n",
    "\n",
    "lr_fsm = LogisticRegression(max_iter = 10000, C = 1, random_state = 20, class_weight = 'balanced')\n",
    "lr_fsm.fit(X_train[features], y_train)\n",
    "\n",
    "train_pred = lr_fsm.predict(X_train[features])\n",
    "test_pred = lr_fsm.predict(X_test[features])\n",
    "\n"
   ]
  },
  {
   "cell_type": "markdown",
   "metadata": {},
   "source": []
  },
  {
   "cell_type": "code",
   "execution_count": 123,
   "metadata": {},
   "outputs": [
    {
     "data": {
      "text/plain": [
       "[('engineering', 1.0530413965122318),\n",
       " ('compsci', 0.7398188694031352),\n",
       " ('S2SSUMMERPRG', 0.5111679102922543),\n",
       " ('physics', 0.4451942437440215),\n",
       " ('X2STU30OCC_STEM1', 0.44478214905452795),\n",
       " ('S2SPERSON1', 0.4059532227924043),\n",
       " ('S2SUSEJOB', 0.3946540478818828),\n",
       " ('S2SENJOYS', 0.3249237149135436),\n",
       " ('S2SCOMPETE', 0.2958431562285791),\n",
       " ('chem', 0.2870885687669366),\n",
       " ('S2SCLUB', 0.2729853820558432),\n",
       " ('S2SCAREER', 0.2674560475840533),\n",
       " ('S2SPERSON2', 0.24438135191053853),\n",
       " ('S2STESTS', 0.1365956994006197),\n",
       " ('S2STCHEASY', 0.131065316219976),\n",
       " ('S2STEXTBOOK', 0.12682369374079586),\n",
       " ('S2SFRIEND', 0.11924791095299672),\n",
       " ('S2SPARREC', 0.11896412632789195),\n",
       " ('S2SCHALLENGE', 0.06779376591578067),\n",
       " ('S2SDOWELL', 0.05687073303476584),\n",
       " ('S2SUSELIFE', 0.037533517361460024),\n",
       " ('S2SUSECLG', 0.03568733922924389),\n",
       " ('enviro', 0.03214016604979138),\n",
       " ('S2SLEARN', 0.026782502451821424),\n",
       " ('S2SCLGSUCC', 0.008262881259143559),\n",
       " ('S2SBORING', 0.006220766892793077),\n",
       " ('bio', 0.005634254225364532),\n",
       " ('S2SEMPREC', 0.0022916508390553774),\n",
       " ('S2SBORN', -0.0025346215544367386),\n",
       " ('S2STCHTHINK', -0.011337097892413389),\n",
       " ('S2STCHINTRST', -0.01731190395367326),\n",
       " ('S2SFAMREC', -0.02164857885829495),\n",
       " ('S2STCHTREAT', -0.030650076976541794),\n",
       " ('S2SENJOYING', -0.034303363318189256),\n",
       " ('S2SSKILLS', -0.0711096488339427),\n",
       " ('S2SASSEXCL', -0.07238366607690579),\n",
       " ('S2SGROUP', -0.08730879209727216),\n",
       " ('S2SHSREQ', -0.10262067177362089),\n",
       " ('S2SWASTE', -0.10618932357477921),\n",
       " ('S2SCLGADM', -0.12415082906801185),\n",
       " ('S2SCNSLREC', -0.14128761020943983),\n",
       " ('S2STCHRREC', -0.17388149065184777),\n",
       " ('S2STCHGIVEUP', -0.1811880712019886),\n",
       " ('took_science_2012', -0.19595061521517665),\n",
       " ('S2SASSIGNED', -0.2205650777911863),\n",
       " ('S2STUTORED', -0.280752460028583),\n",
       " ('misc_class', -0.42868545645291156)]"
      ]
     },
     "execution_count": 123,
     "metadata": {},
     "output_type": "execute_result"
    }
   ],
   "source": [
    "coef = dict(zip(list(features), list(lr_fsm.coef_[0])))\n",
    "sorted_dict1 = sorted(coef.items(), key=lambda kv: kv[1])\n",
    "sorted_dict1.reverse()\n",
    "sorted_dict1"
   ]
  },
  {
   "cell_type": "code",
   "execution_count": 124,
   "metadata": {},
   "outputs": [],
   "source": [
    "metric_dict = {}\n",
    "metric_dict['LogisticRegression'] = {'train_accuracy': metrics.accuracy_score(y_train, train_pred),\n",
    "                                      'test_accuracy': metrics.accuracy_score(y_test, test_pred),\n",
    "                                      'train_precision':metrics.precision_score(y_train, train_pred),\n",
    "                                      'test_precision':metrics.precision_score(y_test, test_pred),\n",
    "                                      'train_recall':metrics.recall_score(y_train, train_pred),\n",
    "                                      'test_recall':metrics.recall_score(y_test, test_pred),\n",
    "                                      'train_f1':metrics.f1_score(y_train, train_pred),\n",
    "                                      'test_f1':metrics.f1_score(y_test, test_pred)}"
   ]
  },
  {
   "cell_type": "code",
   "execution_count": 125,
   "metadata": {},
   "outputs": [
    {
     "data": {
      "text/plain": [
       "{'LogisticRegression': {'train_accuracy': 0.6668185442533319,\n",
       "  'test_accuracy': 0.6706150341685649,\n",
       "  'train_precision': 0.37962962962962965,\n",
       "  'test_precision': 0.38261851015801357,\n",
       "  'train_recall': 0.6829985301322881,\n",
       "  'test_recall': 0.658252427184466,\n",
       "  'train_f1': 0.48800980220549633,\n",
       "  'test_f1': 0.48394004282655245}}"
      ]
     },
     "execution_count": 125,
     "metadata": {},
     "output_type": "execute_result"
    }
   ],
   "source": [
    "metric_dict"
   ]
  },
  {
   "cell_type": "code",
   "execution_count": null,
   "metadata": {},
   "outputs": [],
   "source": []
  },
  {
   "cell_type": "code",
   "execution_count": null,
   "metadata": {},
   "outputs": [],
   "source": []
  },
  {
   "cell_type": "markdown",
   "metadata": {},
   "source": [
    "### Initial - Underrep"
   ]
  },
  {
   "cell_type": "code",
   "execution_count": 138,
   "metadata": {},
   "outputs": [],
   "source": [
    "X_ur = underrep_df.drop(columns = 'target', axis =1)\n",
    "y_ur = underrep_df['target']"
   ]
  },
  {
   "cell_type": "code",
   "execution_count": 145,
   "metadata": {},
   "outputs": [],
   "source": [
    "Xu_train, Xu_test, yu_train, yu_test = train_test_split(X_ur, y_ur, test_size = 0.2, random_state = 20)"
   ]
  },
  {
   "cell_type": "code",
   "execution_count": 146,
   "metadata": {},
   "outputs": [],
   "source": [
    "lr_ur_fsm = LogisticRegression(max_iter = 10000, C = 10000, random_state = 20, class_weight = 'balanced')\n",
    "lr_ur_fsm.fit(Xu_train[features], yu_train)\n",
    "\n",
    "train_ur_pred = lr_ur_fsm.predict(Xu_train[features])\n",
    "test_ur_pred = lr_ur_fsm.predict(Xu_test[features])\n"
   ]
  },
  {
   "cell_type": "code",
   "execution_count": 147,
   "metadata": {},
   "outputs": [
    {
     "data": {
      "text/plain": [
       "[('engineering', 0.9970508744933627),\n",
       " ('compsci', 0.5890869033359162),\n",
       " ('S2SSUMMERPRG', 0.5425614099769563),\n",
       " ('physics', 0.5020014594064346),\n",
       " ('S2SCLUB', 0.4283271338077947),\n",
       " ('X2STU30OCC_STEM1', 0.4007775311740715),\n",
       " ('S2SCAREER', 0.3766571887239843),\n",
       " ('S2SPERSON1', 0.35045965185882283),\n",
       " ('S2SPERSON2', 0.28312566061974115),\n",
       " ('S2SENJOYS', 0.2621139668490354),\n",
       " ('S2SCOMPETE', 0.24587950480382367),\n",
       " ('S2SUSELIFE', 0.23812154095380902),\n",
       " ('chem', 0.2066207546331234),\n",
       " ('S2SUSEJOB', 0.18605859374454345),\n",
       " ('S2STEXTBOOK', 0.18018923396336145),\n",
       " ('S2SCHALLENGE', 0.17155252634061954),\n",
       " ('S2STESTS', 0.09086802426314511),\n",
       " ('enviro', 0.057412915532880644),\n",
       " ('S2SDOWELL', 0.05620718364592987),\n",
       " ('S2SCLGSUCC', 0.05312050445947541),\n",
       " ('S2STCHGIVEUP', 0.041654780680799385),\n",
       " ('S2SBORN', 0.03617879800995662),\n",
       " ('S2SASSEXCL', 0.0315522564764834),\n",
       " ('bio', 0.03133814312344868),\n",
       " ('S2SPARREC', 0.02446124146812763),\n",
       " ('took_science_2012', 0.010177301131754652),\n",
       " ('S2SWASTE', 0.008421447665224294),\n",
       " ('S2SGROUP', 0.00777116190897229),\n",
       " ('S2SFRIEND', 0.0017674541007724714),\n",
       " ('S2STCHEASY', -0.01218314467881858),\n",
       " ('S2SLEARN', -0.015046294108870834),\n",
       " ('S2SSKILLS', -0.017109253410027253),\n",
       " ('S2SBORING', -0.026519243424987952),\n",
       " ('S2SFAMREC', -0.03869547120693209),\n",
       " ('S2SCLGADM', -0.04117018975081317),\n",
       " ('S2STCHRREC', -0.06491704299078513),\n",
       " ('S2STCHINTRST', -0.06617713067265545),\n",
       " ('S2SENJOYING', -0.08046705881993052),\n",
       " ('S2STCHTREAT', -0.11462240184569589),\n",
       " ('S2SASSIGNED', -0.14422568128669122),\n",
       " ('S2SUSECLG', -0.17056425172121747),\n",
       " ('S2SHSREQ', -0.1963607063223481),\n",
       " ('S2STUTORED', -0.21168939448497984),\n",
       " ('S2STCHTHINK', -0.24108017456170708),\n",
       " ('S2SCNSLREC', -0.30442125541563037),\n",
       " ('S2SEMPREC', -0.3539229788374382),\n",
       " ('misc_class', -0.742732380252649)]"
      ]
     },
     "execution_count": 147,
     "metadata": {},
     "output_type": "execute_result"
    }
   ],
   "source": [
    "coef = dict(zip(list(features), list(lr_ur_fsm.coef_[0])))\n",
    "sorted_dict1 = sorted(coef.items(), key=lambda kv: kv[1])\n",
    "sorted_dict1.reverse()\n",
    "sorted_dict1"
   ]
  },
  {
   "cell_type": "code",
   "execution_count": 142,
   "metadata": {},
   "outputs": [],
   "source": [
    "metric_dict['URLogisticRegression'] = {'train_accuracy': metrics.accuracy_score(yu_train, train_ur_pred),\n",
    "                                      'test_accuracy': metrics.accuracy_score(yu_test, test_ur_pred),\n",
    "                                      'train_precision':metrics.precision_score(yu_train, train_ur_pred),\n",
    "                                      'test_precision':metrics.precision_score(yu_test, test_ur_pred),\n",
    "                                      'train_recall':metrics.recall_score(yu_train, train_ur_pred),\n",
    "                                      'test_recall':metrics.recall_score(yu_test, test_ur_pred),\n",
    "                                      'train_f1':metrics.f1_score(yu_train, train_ur_pred),\n",
    "                                      'test_f1':metrics.f1_score(yu_test, test_ur_pred)}"
   ]
  },
  {
   "cell_type": "code",
   "execution_count": 143,
   "metadata": {},
   "outputs": [
    {
     "data": {
      "text/plain": [
       "{'LogisticRegression': {'train_accuracy': 0.6668185442533319,\n",
       "  'test_accuracy': 0.6706150341685649,\n",
       "  'train_precision': 0.37962962962962965,\n",
       "  'test_precision': 0.38261851015801357,\n",
       "  'train_recall': 0.6829985301322881,\n",
       "  'test_recall': 0.658252427184466,\n",
       "  'train_f1': 0.48800980220549633,\n",
       "  'test_f1': 0.48394004282655245},\n",
       " 'GS_LogisticRegression': {'train_accuracy': 0.666704636063333,\n",
       "  'test_accuracy': 0.6701594533029612,\n",
       "  'train_precision': 0.3795262728015246,\n",
       "  'test_precision': 0.38218714768883877,\n",
       "  'train_recall': 0.6829985301322881,\n",
       "  'test_recall': 0.658252427184466,\n",
       "  'train_f1': 0.487924396219811,\n",
       "  'test_f1': 0.48359486447931527},\n",
       " 'GS_URLogisticRegression': {'train_accuracy': 0.6731504571903575,\n",
       "  'test_accuracy': 0.6549202127659575,\n",
       "  'train_precision': 0.3138592750533049,\n",
       "  'test_precision': 0.2801358234295416,\n",
       "  'train_recall': 0.6733760292772186,\n",
       "  'test_recall': 0.6346153846153846,\n",
       "  'train_f1': 0.42815590459569514,\n",
       "  'test_f1': 0.38869257950530034},\n",
       " 'URLogisticRegression': {'train_accuracy': 0.6729842061512884,\n",
       "  'test_accuracy': 0.6555851063829787,\n",
       "  'train_precision': 0.31356655290102387,\n",
       "  'test_precision': 0.28061224489795916,\n",
       "  'train_recall': 0.6724611161939615,\n",
       "  'test_recall': 0.6346153846153846,\n",
       "  'train_f1': 0.42769857433808556,\n",
       "  'test_f1': 0.3891509433962264}}"
      ]
     },
     "execution_count": 143,
     "metadata": {},
     "output_type": "execute_result"
    }
   ],
   "source": [
    "metric_dict"
   ]
  },
  {
   "cell_type": "markdown",
   "metadata": {},
   "source": [
    "### Overrep"
   ]
  },
  {
   "cell_type": "code",
   "execution_count": 67,
   "metadata": {},
   "outputs": [],
   "source": [
    "overrep_df = modeling_df[modeling_df['underrep'] == 0]\n",
    "\n",
    "X_or = overrep_df.drop(columns = 'target', axis =1)\n",
    "y_or = overrep_df['target']\n",
    "\n",
    "Xo_train, Xo_test, yo_train, yo_test = train_test_split(X_or, y_or, test_size = 0.2, random_state = 20)\n"
   ]
  },
  {
   "cell_type": "code",
   "execution_count": 68,
   "metadata": {},
   "outputs": [],
   "source": [
    "lr_or_fsm = LogisticRegression(max_iter = 10000, C = 10000, random_state = 20, class_weight = 'balanced')\n",
    "lr_or_fsm.fit(Xo_train[features], yo_train)\n",
    "\n",
    "train_or_pred = lr_or_fsm.predict(Xo_train[features])\n",
    "test_or_pred = lr_or_fsm.predict(Xo_test[features])\n"
   ]
  },
  {
   "cell_type": "code",
   "execution_count": 69,
   "metadata": {},
   "outputs": [
    {
     "data": {
      "text/plain": [
       "[('engineering', 0.9141941837290813),\n",
       " ('X2STU30OCC_STEM1', 0.7890787613546657),\n",
       " ('compsci', 0.7424814557238434),\n",
       " ('misc_class', 0.4895197359444009),\n",
       " ('chem', 0.48720534070259564),\n",
       " ('physics', 0.4754496936859682),\n",
       " ('S2SUSEJOB', 0.41877807174489423),\n",
       " ('S2SCLUB', 0.407959327067503),\n",
       " ('S2SSUMMERPRG', 0.3416796163099416),\n",
       " ('S2SCOMPETE', 0.33409883775641386),\n",
       " ('S2SEMPREC', 0.30959623289334653),\n",
       " ('S2SCAREER', 0.3005712522145897),\n",
       " ('S2SPERSON1', 0.2565461654877844),\n",
       " ('S2SDOWELL', 0.25365375739854706),\n",
       " ('S2SENJOYS', 0.22902158460148012),\n",
       " ('S2SPERSON2', 0.22772217319388816),\n",
       " ('enviro', 0.16481204387152013),\n",
       " ('S2SPARREC', 0.1485614106161944),\n",
       " ('S2SCHALLENGE', 0.12017622777655056),\n",
       " ('S2STCHINTRST', 0.09789913784133536),\n",
       " ('S2SUSECLG', 0.08747514729127265),\n",
       " ('bio', 0.06157812382429152),\n",
       " ('S2SLEARN', 0.057400729964577596),\n",
       " ('S2SENJOYING', 0.05579211677375349),\n",
       " ('S2SHSREQ', 0.03373219066761498),\n",
       " ('S2STESTS', 0.027075672930474026),\n",
       " ('S2SBORN', 0.014113602864822912),\n",
       " ('S2STCHRREC', 0.003131165038660279),\n",
       " ('S2SFAMREC', -0.006712292188550475),\n",
       " ('S2SCLGSUCC', -0.011957751645783032),\n",
       " ('S2STCHEASY', -0.024043936551316064),\n",
       " ('S2SSKILLS', -0.04214555485438798),\n",
       " ('S2SFRIEND', -0.056317992497917954),\n",
       " ('S2STEXTBOOK', -0.058985431392038344),\n",
       " ('S2STCHTHINK', -0.06182832823198082),\n",
       " ('S2STCHGIVEUP', -0.08777160201045563),\n",
       " ('S2SASSIGNED', -0.119181498004996),\n",
       " ('S2SUSELIFE', -0.1364853244090985),\n",
       " ('S2SBORING', -0.14412167762118644),\n",
       " ('S2STCHTREAT', -0.14773871440230488),\n",
       " ('S2SASSEXCL', -0.1634215209873714),\n",
       " ('S2SCNSLREC', -0.17228984999588423),\n",
       " ('S2SGROUP', -0.18183450933893108),\n",
       " ('S2STUTORED', -0.1943399205492875),\n",
       " ('took_science_2012', -0.27112706945363635),\n",
       " ('S2SCLGADM', -0.3288811075073729),\n",
       " ('S2SWASTE', -0.32913838488859354)]"
      ]
     },
     "execution_count": 69,
     "metadata": {},
     "output_type": "execute_result"
    }
   ],
   "source": [
    "coef = dict(zip(list(features), list(lr_or_fsm.coef_[0])))\n",
    "sorted_dict1 = sorted(coef.items(), key=lambda kv: kv[1])\n",
    "sorted_dict1.reverse()\n",
    "sorted_dict1"
   ]
  },
  {
   "cell_type": "code",
   "execution_count": 70,
   "metadata": {},
   "outputs": [],
   "source": [
    "metric_dict['ORLogisticRegression'] = {'train_accuracy': metrics.accuracy_score(yo_train, train_or_pred),\n",
    "                                      'test_accuracy': metrics.accuracy_score(yo_test, test_or_pred),\n",
    "                                      'train_precision':metrics.precision_score(yo_train, train_or_pred),\n",
    "                                      'test_precision':metrics.precision_score(yo_test, test_or_pred),\n",
    "                                      'train_recall':metrics.recall_score(yo_train, train_or_pred),\n",
    "                                      'test_recall':metrics.recall_score(yo_test, test_or_pred),\n",
    "                                      'train_f1':metrics.f1_score(yo_train, train_or_pred),\n",
    "                                      'test_f1':metrics.f1_score(yo_test, test_or_pred)}"
   ]
  },
  {
   "cell_type": "code",
   "execution_count": 71,
   "metadata": {},
   "outputs": [
    {
     "data": {
      "text/plain": [
       "{'LogisticRegression': {'train_accuracy': 0.666704636063333,\n",
       "  'test_accuracy': 0.6701594533029612,\n",
       "  'train_precision': 0.3795262728015246,\n",
       "  'test_precision': 0.38218714768883877,\n",
       "  'train_recall': 0.6829985301322881,\n",
       "  'test_recall': 0.658252427184466,\n",
       "  'train_f1': 0.487924396219811,\n",
       "  'test_f1': 0.48359486447931527},\n",
       " 'URLogisticRegression': {'train_accuracy': 0.6729842061512884,\n",
       "  'test_accuracy': 0.6555851063829787,\n",
       "  'train_precision': 0.31356655290102387,\n",
       "  'test_precision': 0.28061224489795916,\n",
       "  'train_recall': 0.6724611161939615,\n",
       "  'test_recall': 0.6346153846153846,\n",
       "  'train_f1': 0.42769857433808556,\n",
       "  'test_f1': 0.3891509433962264},\n",
       " 'ORLogisticRegression': {'train_accuracy': 0.6877713458755427,\n",
       "  'test_accuracy': 0.6816208393632417,\n",
       "  'train_precision': 0.546408393866021,\n",
       "  'test_precision': 0.5084745762711864,\n",
       "  'train_recall': 0.6922290388548057,\n",
       "  'test_recall': 0.6666666666666666,\n",
       "  'train_f1': 0.6107352277852954,\n",
       "  'test_f1': 0.576923076923077}}"
      ]
     },
     "execution_count": 71,
     "metadata": {},
     "output_type": "execute_result"
    }
   ],
   "source": [
    "metric_dict"
   ]
  },
  {
   "cell_type": "markdown",
   "metadata": {},
   "source": [
    "## Decision Tree - Initial"
   ]
  },
  {
   "cell_type": "code",
   "execution_count": 72,
   "metadata": {},
   "outputs": [],
   "source": [
    "dtc_all = DecisionTreeClassifier(random_state = 20)\n",
    "\n",
    "param_dict={'max_depth': range(1,10),\n",
    "            'criterion': ['gini', 'entropy'],\n",
    "            'splitter': ['random', 'best'],\n",
    "            'max_features': ['auto', 'sqrt', 'log2']}\n",
    "\n",
    "grid_tree=GridSearchCV(dtc_all, \n",
    "                       param_dict, \n",
    "                       cv=10, \n",
    "                       scoring='f1', \n",
    "                       verbose=1, \n",
    "                       n_jobs=-1)"
   ]
  },
  {
   "cell_type": "code",
   "execution_count": 73,
   "metadata": {},
   "outputs": [
    {
     "name": "stdout",
     "output_type": "stream",
     "text": [
      "Fitting 10 folds for each of 108 candidates, totalling 1080 fits\n"
     ]
    },
    {
     "name": "stderr",
     "output_type": "stream",
     "text": [
      "[Parallel(n_jobs=-1)]: Using backend LokyBackend with 4 concurrent workers.\n",
      "[Parallel(n_jobs=-1)]: Done  42 tasks      | elapsed:    9.4s\n",
      "[Parallel(n_jobs=-1)]: Done 576 tasks      | elapsed:   17.1s\n",
      "[Parallel(n_jobs=-1)]: Done 1073 out of 1080 | elapsed:   23.8s remaining:    0.2s\n",
      "[Parallel(n_jobs=-1)]: Done 1080 out of 1080 | elapsed:   23.9s finished\n"
     ]
    },
    {
     "data": {
      "text/plain": [
       "GridSearchCV(cv=10, estimator=DecisionTreeClassifier(random_state=20),\n",
       "             n_jobs=-1,\n",
       "             param_grid={'criterion': ['gini', 'entropy'],\n",
       "                         'max_depth': range(1, 10),\n",
       "                         'max_features': ['auto', 'sqrt', 'log2'],\n",
       "                         'splitter': ['random', 'best']},\n",
       "             scoring='f1', verbose=1)"
      ]
     },
     "execution_count": 73,
     "metadata": {},
     "output_type": "execute_result"
    }
   ],
   "source": [
    "grid_tree.fit(X_train[features],y_train)"
   ]
  },
  {
   "cell_type": "code",
   "execution_count": 74,
   "metadata": {},
   "outputs": [
    {
     "data": {
      "text/plain": [
       "[('S2SENJOYS', 0.19834269849943173),\n",
       " ('S2SUSEJOB', 0.14191150206068948),\n",
       " ('S2SPERSON2', 0.0867829447252782),\n",
       " ('X2STU30OCC_STEM1', 0.060497793969734405),\n",
       " ('compsci', 0.04312007300366041),\n",
       " ('S2SASSIGNED', 0.02957971704615505),\n",
       " ('S2SENJOYING', 0.023274191793686453),\n",
       " ('S2STCHEASY', 0.021066562866945308),\n",
       " ('S2SCLUB', 0.020432104996044424),\n",
       " ('S2SFRIEND', 0.01984322511781452),\n",
       " ('physics', 0.018510917733312857),\n",
       " ('chem', 0.01809851029058051),\n",
       " ('S2SCHALLENGE', 0.015892189104113247),\n",
       " ('S2SLEARN', 0.015618739337125487),\n",
       " ('engineering', 0.015589923561951031),\n",
       " ('S2SHSREQ', 0.014888772829768013),\n",
       " ('S2SCOMPETE', 0.014066304204481562),\n",
       " ('S2SWASTE', 0.013732179476094376),\n",
       " ('S2STESTS', 0.01314660115847262),\n",
       " ('S2SUSELIFE', 0.012778605011925013),\n",
       " ('S2STCHTREAT', 0.012722185980080946),\n",
       " ('S2STEXTBOOK', 0.012473624134255214),\n",
       " ('S2SPERSON1', 0.01227899173437178),\n",
       " ('S2STCHINTRST', 0.011832443930538667),\n",
       " ('S2SCLGSUCC', 0.011827006361587624),\n",
       " ('S2SPARREC', 0.011517533818307052),\n",
       " ('S2SGROUP', 0.011089031352958889),\n",
       " ('S2SBORN', 0.010812687875294708),\n",
       " ('S2SCAREER', 0.010665939577013577),\n",
       " ('S2SCNSLREC', 0.010219663456768028),\n",
       " ('S2SUSECLG', 0.009464304651881302),\n",
       " ('S2STCHGIVEUP', 0.0094159975715947),\n",
       " ('S2SASSEXCL', 0.008810226789361568),\n",
       " ('S2SBORING', 0.00783028222668365),\n",
       " ('S2STUTORED', 0.006806800222998696),\n",
       " ('S2SCLGADM', 0.006709590221009154),\n",
       " ('bio', 0.0060404054872506985),\n",
       " ('S2SDOWELL', 0.005715387802283121),\n",
       " ('S2STCHRREC', 0.004891565074826371),\n",
       " ('S2SSUMMERPRG', 0.004678916634725859),\n",
       " ('S2SFAMREC', 0.0043269669586124505),\n",
       " ('S2SSKILLS', 0.003142000593413411),\n",
       " ('S2SEMPREC', 0.0024645378124517094),\n",
       " ('misc_class', 0.0023379321436917894),\n",
       " ('enviro', 0.0017310971732069737),\n",
       " ('took_science_2012', 0.0015732509764286226),\n",
       " ('S2STCHTHINK', 0.0014480726511387)]"
      ]
     },
     "execution_count": 74,
     "metadata": {},
     "output_type": "execute_result"
    }
   ],
   "source": [
    "\n",
    "dtc_importance = grid_tree.best_estimator_.feature_importances_\n",
    "feature_importance = dict(zip(features, dtc_importance))\n",
    "sorted_dict = sorted(feature_importance.items(), key=lambda kv: kv[1])\n",
    "sorted_dict.reverse()\n",
    "sorted_dict"
   ]
  },
  {
   "cell_type": "code",
   "execution_count": 75,
   "metadata": {},
   "outputs": [],
   "source": [
    "\n",
    "y_pred_dtc_test = grid_tree.best_estimator_.predict(X_test[features])\n",
    "y_pred_dtc_train = grid_tree.best_estimator_.predict(X_train[features])"
   ]
  },
  {
   "cell_type": "code",
   "execution_count": 76,
   "metadata": {},
   "outputs": [],
   "source": [
    "metric_dict['DecisionTree'] = {'train_accuracy': metrics.accuracy_score(y_train, y_pred_dtc_train),\n",
    "                                  'test_accuracy': metrics.accuracy_score(y_test, y_pred_dtc_test),\n",
    "                                  'train_precision':metrics.precision_score(y_train, y_pred_dtc_train),\n",
    "                                  'test_precision':metrics.precision_score(y_test, y_pred_dtc_test),\n",
    "                                  'train_recall':metrics.recall_score(y_train, y_pred_dtc_train),\n",
    "                                  'test_recall':metrics.recall_score(y_test, y_pred_dtc_test),\n",
    "                                  'train_f1':metrics.f1_score(y_train, y_pred_dtc_train),\n",
    "                                  'test_f1':metrics.f1_score(y_test, y_pred_dtc_test)}\n"
   ]
  },
  {
   "cell_type": "code",
   "execution_count": 77,
   "metadata": {},
   "outputs": [
    {
     "data": {
      "text/plain": [
       "{'LogisticRegression': {'train_accuracy': 0.666704636063333,\n",
       "  'test_accuracy': 0.6701594533029612,\n",
       "  'train_precision': 0.3795262728015246,\n",
       "  'test_precision': 0.38218714768883877,\n",
       "  'train_recall': 0.6829985301322881,\n",
       "  'test_recall': 0.658252427184466,\n",
       "  'train_f1': 0.487924396219811,\n",
       "  'test_f1': 0.48359486447931527},\n",
       " 'URLogisticRegression': {'train_accuracy': 0.6729842061512884,\n",
       "  'test_accuracy': 0.6555851063829787,\n",
       "  'train_precision': 0.31356655290102387,\n",
       "  'test_precision': 0.28061224489795916,\n",
       "  'train_recall': 0.6724611161939615,\n",
       "  'test_recall': 0.6346153846153846,\n",
       "  'train_f1': 0.42769857433808556,\n",
       "  'test_f1': 0.3891509433962264},\n",
       " 'ORLogisticRegression': {'train_accuracy': 0.6877713458755427,\n",
       "  'test_accuracy': 0.6816208393632417,\n",
       "  'train_precision': 0.546408393866021,\n",
       "  'test_precision': 0.5084745762711864,\n",
       "  'train_recall': 0.6922290388548057,\n",
       "  'test_recall': 0.6666666666666666,\n",
       "  'train_f1': 0.6107352277852954,\n",
       "  'test_f1': 0.576923076923077},\n",
       " 'DecisionTree': {'train_accuracy': 0.7867638683221324,\n",
       "  'test_accuracy': 0.7580865603644646,\n",
       "  'train_precision': 0.7393767705382436,\n",
       "  'test_precision': 0.4215686274509804,\n",
       "  'train_recall': 0.12787849093581577,\n",
       "  'test_recall': 0.08349514563106795,\n",
       "  'train_f1': 0.21804511278195485,\n",
       "  'test_f1': 0.1393841166936791}}"
      ]
     },
     "execution_count": 77,
     "metadata": {},
     "output_type": "execute_result"
    }
   ],
   "source": [
    "metric_dict"
   ]
  },
  {
   "cell_type": "code",
   "execution_count": null,
   "metadata": {},
   "outputs": [],
   "source": []
  },
  {
   "cell_type": "markdown",
   "metadata": {},
   "source": [
    "## Grid Search LogREG"
   ]
  },
  {
   "cell_type": "code",
   "execution_count": 126,
   "metadata": {},
   "outputs": [
    {
     "data": {
      "text/plain": [
       "{'C': 100, 'max_iter': 5000}"
      ]
     },
     "execution_count": 126,
     "metadata": {},
     "output_type": "execute_result"
    }
   ],
   "source": [
    "clf = LogisticRegression()\n",
    "\n",
    "param_grid = {\n",
    "    \n",
    "    'max_iter': [5000, 10000, 50000, 100000],\n",
    "    'C': [0.00001, 0.001, 1, 100, 10000, 1000000]\n",
    "}\n",
    "\n",
    "gs_LR = GridSearchCV(clf, param_grid, cv=3)\n",
    "gs_LR.fit(X_train[features], y_train)\n",
    "\n",
    "gs_LR.best_params_"
   ]
  },
  {
   "cell_type": "code",
   "execution_count": 127,
   "metadata": {},
   "outputs": [],
   "source": [
    "lr_gs = LogisticRegression(max_iter = 5000, C = 100, random_state = 20, class_weight = 'balanced')\n",
    "lr_gs.fit(X_train[features], y_train)\n",
    "\n",
    "gs_train_pred = lr_gs.predict(X_train[features])\n",
    "gs_test_pred = lr_gs.predict(X_test[features])"
   ]
  },
  {
   "cell_type": "code",
   "execution_count": 166,
   "metadata": {},
   "outputs": [
    {
     "data": {
      "text/plain": [
       "[('engineering', 1.083561331889614),\n",
       " ('compsci', 0.7467732254469444),\n",
       " ('S2SSUMMERPRG', 0.5169793747115837),\n",
       " ('physics', 0.4480204142502414),\n",
       " ('X2STU30OCC_STEM1', 0.4450900345516614),\n",
       " ('S2SPERSON1', 0.4063139185191107),\n",
       " ('S2SUSEJOB', 0.3970252196693254),\n",
       " ('S2SENJOYS', 0.32631602214472305),\n",
       " ('S2SCOMPETE', 0.2966996991752658),\n",
       " ('chem', 0.28973128344888266),\n",
       " ('S2SCLUB', 0.27370477697571577),\n",
       " ('S2SCAREER', 0.2678601774903595),\n",
       " ('S2SPERSON2', 0.24400427613920647),\n",
       " ('S2STESTS', 0.13741994894349133),\n",
       " ('S2STCHEASY', 0.13181836188570004),\n",
       " ('S2STEXTBOOK', 0.12707023638312526),\n",
       " ('S2SFRIEND', 0.11984549475552844),\n",
       " ('S2SPARREC', 0.11934217801255906),\n",
       " ('S2SCHALLENGE', 0.06720106504110034),\n",
       " ('S2SDOWELL', 0.05609060783309761),\n",
       " ('S2SUSELIFE', 0.03685089674655132),\n",
       " ('S2SUSECLG', 0.035525370669604824),\n",
       " ('enviro', 0.03438122467446653),\n",
       " ('S2SLEARN', 0.026642677359111643),\n",
       " ('S2SCLGSUCC', 0.007933574316279014),\n",
       " ('bio', 0.00732335097922541),\n",
       " ('S2SBORING', 0.006398617194787702),\n",
       " ('S2SEMPREC', 0.0025899089964794815),\n",
       " ('S2SBORN', -0.002502372147773988),\n",
       " ('S2STCHTHINK', -0.011249963901012442),\n",
       " ('S2STCHINTRST', -0.0171705978239897),\n",
       " ('S2SFAMREC', -0.021640425524789758),\n",
       " ('S2STCHTREAT', -0.031158443207491174),\n",
       " ('S2SENJOYING', -0.03484759634311551),\n",
       " ('S2SSKILLS', -0.07236788697376449),\n",
       " ('S2SASSEXCL', -0.07289419549151581),\n",
       " ('S2SGROUP', -0.0878379485248789),\n",
       " ('S2SHSREQ', -0.10237975978525866),\n",
       " ('S2SWASTE', -0.10673622953026267),\n",
       " ('S2SCLGADM', -0.12441977220243446),\n",
       " ('S2SCNSLREC', -0.14159606681290726),\n",
       " ('S2STCHRREC', -0.17457917223673908),\n",
       " ('S2STCHGIVEUP', -0.18262498622429219),\n",
       " ('took_science_2012', -0.20000429391375993),\n",
       " ('S2SASSIGNED', -0.22098850301924447),\n",
       " ('S2STUTORED', -0.2840835714203656),\n",
       " ('misc_class', -0.4541835234434738)]"
      ]
     },
     "execution_count": 166,
     "metadata": {},
     "output_type": "execute_result"
    }
   ],
   "source": [
    "coef_gs = dict(zip(list(features), list(lr_gs.coef_[0])))\n",
    "sorted_dict = sorted(coef_gs.items(), key=lambda kv: kv[1])\n",
    "sorted_dict.reverse()\n",
    "sorted_dict"
   ]
  },
  {
   "cell_type": "code",
   "execution_count": 129,
   "metadata": {},
   "outputs": [],
   "source": [
    "\n",
    "metric_dict['GS_LogisticRegression'] = {'train_accuracy': metrics.accuracy_score(y_train, gs_train_pred),\n",
    "                                      'test_accuracy': metrics.accuracy_score(y_test, gs_test_pred),\n",
    "                                      'train_precision':metrics.precision_score(y_train, gs_train_pred),\n",
    "                                      'test_precision':metrics.precision_score(y_test, gs_test_pred),\n",
    "                                      'train_recall':metrics.recall_score(y_train, gs_train_pred),\n",
    "                                      'test_recall':metrics.recall_score(y_test, gs_test_pred),\n",
    "                                      'train_f1':metrics.f1_score(y_train, gs_train_pred),\n",
    "                                      'test_f1':metrics.f1_score(y_test, gs_test_pred)}"
   ]
  },
  {
   "cell_type": "code",
   "execution_count": 130,
   "metadata": {},
   "outputs": [
    {
     "data": {
      "text/plain": [
       "{'LogisticRegression': {'train_accuracy': 0.6668185442533319,\n",
       "  'test_accuracy': 0.6706150341685649,\n",
       "  'train_precision': 0.37962962962962965,\n",
       "  'test_precision': 0.38261851015801357,\n",
       "  'train_recall': 0.6829985301322881,\n",
       "  'test_recall': 0.658252427184466,\n",
       "  'train_f1': 0.48800980220549633,\n",
       "  'test_f1': 0.48394004282655245},\n",
       " 'GS_LogisticRegression': {'train_accuracy': 0.666704636063333,\n",
       "  'test_accuracy': 0.6701594533029612,\n",
       "  'train_precision': 0.3795262728015246,\n",
       "  'test_precision': 0.38218714768883877,\n",
       "  'train_recall': 0.6829985301322881,\n",
       "  'test_recall': 0.658252427184466,\n",
       "  'train_f1': 0.487924396219811,\n",
       "  'test_f1': 0.48359486447931527}}"
      ]
     },
     "execution_count": 130,
     "metadata": {},
     "output_type": "execute_result"
    }
   ],
   "source": [
    "metric_dict"
   ]
  },
  {
   "cell_type": "markdown",
   "metadata": {},
   "source": [
    "### GridSearch UR"
   ]
  },
  {
   "cell_type": "code",
   "execution_count": 133,
   "metadata": {},
   "outputs": [
    {
     "data": {
      "text/plain": [
       "{'C': 1, 'max_iter': 5000}"
      ]
     },
     "execution_count": 133,
     "metadata": {},
     "output_type": "execute_result"
    }
   ],
   "source": [
    "clf = LogisticRegression()\n",
    "\n",
    "param_grid = {\n",
    "    \n",
    "    'max_iter': [5000, 10000, 50000, 100000],\n",
    "    'C': [0.00001, 0.001, 1, 100, 10000, 1000000]\n",
    "}\n",
    "\n",
    "gs_LR_ur = GridSearchCV(clf, param_grid, cv=5)\n",
    "gs_LR_ur.fit(Xu_train[features], yu_train)\n",
    "\n",
    "gs_LR_ur.best_params_"
   ]
  },
  {
   "cell_type": "code",
   "execution_count": 134,
   "metadata": {},
   "outputs": [],
   "source": [
    "lr_ur_gs = LogisticRegression(max_iter = 5000, C = 1, random_state = 20, class_weight = 'balanced')\n",
    "lr_ur_gs.fit(Xu_train[features], yu_train)\n",
    "\n",
    "gstrain_ur_pred = lr_ur_gs.predict(Xu_train[features])\n",
    "gstest_ur_pred = lr_ur_gs.predict(Xu_test[features])\n"
   ]
  },
  {
   "cell_type": "code",
   "execution_count": 165,
   "metadata": {},
   "outputs": [
    {
     "data": {
      "text/plain": [
       "[('engineering', 0.9410029971033435),\n",
       " ('compsci', 0.5791750254398281),\n",
       " ('S2SSUMMERPRG', 0.5330158548167507),\n",
       " ('physics', 0.4985073989123022),\n",
       " ('S2SCLUB', 0.42448485535483144),\n",
       " ('X2STU30OCC_STEM1', 0.4003135875705004),\n",
       " ('S2SCAREER', 0.37463004053656945),\n",
       " ('S2SPERSON1', 0.35003412614339735),\n",
       " ('S2SPERSON2', 0.2833699061110314),\n",
       " ('S2SENJOYS', 0.2610872850901317),\n",
       " ('S2SCOMPETE', 0.24572817846348055),\n",
       " ('S2SUSELIFE', 0.23703494898963667),\n",
       " ('chem', 0.20417178597471572),\n",
       " ('S2SUSEJOB', 0.18454659124166792),\n",
       " ('S2STEXTBOOK', 0.17971592273688886),\n",
       " ('S2SCHALLENGE', 0.17146989572067348),\n",
       " ('S2STESTS', 0.09058216174606468),\n",
       " ('S2SDOWELL', 0.05730663336410187),\n",
       " ('enviro', 0.05507824510677774),\n",
       " ('S2SCLGSUCC', 0.054380771915705485),\n",
       " ('S2STCHGIVEUP', 0.0409908801182111),\n",
       " ('S2SBORN', 0.0358763899815931),\n",
       " ('S2SASSEXCL', 0.03141293323406447),\n",
       " ('bio', 0.030150568348038777),\n",
       " ('S2SPARREC', 0.024969074032367783),\n",
       " ('took_science_2012', 0.011341975141592029),\n",
       " ('S2SGROUP', 0.008295697414722698),\n",
       " ('S2SWASTE', 0.006915367429206336),\n",
       " ('S2SFRIEND', 0.0004139176274798194),\n",
       " ('S2STCHEASY', -0.012712556286533332),\n",
       " ('S2SLEARN', -0.014275683838625585),\n",
       " ('S2SSKILLS', -0.016742147580057463),\n",
       " ('S2SBORING', -0.02603530998522598),\n",
       " ('S2SFAMREC', -0.039832690302700854),\n",
       " ('S2SCLGADM', -0.04129523017117765),\n",
       " ('S2STCHRREC', -0.06542477480270673),\n",
       " ('S2STCHINTRST', -0.06604921665538047),\n",
       " ('S2SENJOYING', -0.07991730824607418),\n",
       " ('S2STCHTREAT', -0.11378552661941117),\n",
       " ('S2SASSIGNED', -0.14399672646374526),\n",
       " ('S2SUSECLG', -0.16654418396387774),\n",
       " ('S2SHSREQ', -0.19625032768369743),\n",
       " ('S2STUTORED', -0.20775295700625337),\n",
       " ('S2STCHTHINK', -0.23835146353245654),\n",
       " ('S2SCNSLREC', -0.30289493411570984),\n",
       " ('S2SEMPREC', -0.3426602079612279),\n",
       " ('misc_class', -0.6807846354783749)]"
      ]
     },
     "execution_count": 165,
     "metadata": {},
     "output_type": "execute_result"
    }
   ],
   "source": [
    "coef_gs_ur = dict(zip(list(features), list(lr_ur_gs.coef_[0])))\n",
    "sorted_dict2 = sorted(coef_gs_ur.items(), key=lambda kv: kv[1])\n",
    "sorted_dict2.reverse()\n",
    "sorted_dict2"
   ]
  },
  {
   "cell_type": "code",
   "execution_count": 136,
   "metadata": {},
   "outputs": [],
   "source": [
    "metric_dict['GS_URLogisticRegression'] = {'train_accuracy': metrics.accuracy_score(yu_train, gstrain_ur_pred),\n",
    "                                      'test_accuracy': metrics.accuracy_score(yu_test, gstest_ur_pred),\n",
    "                                      'train_precision':metrics.precision_score(yu_train, gstrain_ur_pred),\n",
    "                                      'test_precision':metrics.precision_score(yu_test, gstest_ur_pred),\n",
    "                                      'train_recall':metrics.recall_score(yu_train, gstrain_ur_pred),\n",
    "                                      'test_recall':metrics.recall_score(yu_test, gstest_ur_pred),\n",
    "                                      'train_f1':metrics.f1_score(yu_train, gstrain_ur_pred),\n",
    "                                      'test_f1':metrics.f1_score(yu_test, gstest_ur_pred)}"
   ]
  },
  {
   "cell_type": "code",
   "execution_count": 144,
   "metadata": {},
   "outputs": [
    {
     "data": {
      "text/plain": [
       "{'LogisticRegression': {'train_accuracy': 0.6668185442533319,\n",
       "  'test_accuracy': 0.6706150341685649,\n",
       "  'train_precision': 0.37962962962962965,\n",
       "  'test_precision': 0.38261851015801357,\n",
       "  'train_recall': 0.6829985301322881,\n",
       "  'test_recall': 0.658252427184466,\n",
       "  'train_f1': 0.48800980220549633,\n",
       "  'test_f1': 0.48394004282655245},\n",
       " 'GS_LogisticRegression': {'train_accuracy': 0.666704636063333,\n",
       "  'test_accuracy': 0.6701594533029612,\n",
       "  'train_precision': 0.3795262728015246,\n",
       "  'test_precision': 0.38218714768883877,\n",
       "  'train_recall': 0.6829985301322881,\n",
       "  'test_recall': 0.658252427184466,\n",
       "  'train_f1': 0.487924396219811,\n",
       "  'test_f1': 0.48359486447931527},\n",
       " 'GS_URLogisticRegression': {'train_accuracy': 0.6731504571903575,\n",
       "  'test_accuracy': 0.6549202127659575,\n",
       "  'train_precision': 0.3138592750533049,\n",
       "  'test_precision': 0.2801358234295416,\n",
       "  'train_recall': 0.6733760292772186,\n",
       "  'test_recall': 0.6346153846153846,\n",
       "  'train_f1': 0.42815590459569514,\n",
       "  'test_f1': 0.38869257950530034},\n",
       " 'URLogisticRegression': {'train_accuracy': 0.6729842061512884,\n",
       "  'test_accuracy': 0.6555851063829787,\n",
       "  'train_precision': 0.31356655290102387,\n",
       "  'test_precision': 0.28061224489795916,\n",
       "  'train_recall': 0.6724611161939615,\n",
       "  'test_recall': 0.6346153846153846,\n",
       "  'train_f1': 0.42769857433808556,\n",
       "  'test_f1': 0.3891509433962264}}"
      ]
     },
     "execution_count": 144,
     "metadata": {},
     "output_type": "execute_result"
    }
   ],
   "source": [
    "metric_dict"
   ]
  },
  {
   "cell_type": "markdown",
   "metadata": {},
   "source": [
    "## SELECT KBEST"
   ]
  },
  {
   "cell_type": "code",
   "execution_count": 169,
   "metadata": {},
   "outputs": [
    {
     "data": {
      "text/plain": [
       "SelectKBest(k=20, score_func=<function f_regression at 0x1a1661eea0>)"
      ]
     },
     "execution_count": 169,
     "metadata": {},
     "output_type": "execute_result"
    }
   ],
   "source": [
    "selector = SelectKBest(f_regression, k = 20)\n",
    "selector.fit(X_train[features], y_train)"
   ]
  },
  {
   "cell_type": "code",
   "execution_count": 170,
   "metadata": {},
   "outputs": [],
   "source": [
    "selected_columns = X_train[features].columns[selector.get_support()]"
   ]
  },
  {
   "cell_type": "code",
   "execution_count": 171,
   "metadata": {},
   "outputs": [
    {
     "data": {
      "text/plain": [
       "Index(['S2SCLUB', 'S2SCOMPETE', 'S2SSUMMERPRG', 'S2SPERSON1', 'S2SPERSON2',\n",
       "       'S2SUSELIFE', 'S2SUSEJOB', 'S2SENJOYING', 'S2STESTS', 'S2STEXTBOOK',\n",
       "       'S2SSKILLS', 'S2STCHEASY', 'S2SASSEXCL', 'S2SENJOYS', 'S2SCHALLENGE',\n",
       "       'S2SCLGSUCC', 'S2SCAREER', 'S2SDOWELL', 'X2STU30OCC_STEM1',\n",
       "       'engineering'],\n",
       "      dtype='object')"
      ]
     },
     "execution_count": 171,
     "metadata": {},
     "output_type": "execute_result"
    }
   ],
   "source": [
    "selected_columns"
   ]
  },
  {
   "cell_type": "code",
   "execution_count": 172,
   "metadata": {},
   "outputs": [],
   "source": [
    "lr_kbest = LogisticRegression(max_iter = 5000, C = 100, class_weight = 'balanced', random_state =20)\n",
    "\n",
    "lr_kbest.fit(X_train[selected_columns], y_train)\n",
    "kbest_train_pred = lr_kbest.predict(X_train[selected_columns])\n",
    "kbest_test_pred= lr_kbest.predict(X_test[selected_columns])"
   ]
  },
  {
   "cell_type": "code",
   "execution_count": null,
   "metadata": {},
   "outputs": [],
   "source": []
  },
  {
   "cell_type": "code",
   "execution_count": 174,
   "metadata": {},
   "outputs": [
    {
     "data": {
      "text/plain": [
       "[('engineering', 1.1865222540213665),\n",
       " ('S2SSUMMERPRG', 0.4877643896153283),\n",
       " ('S2SPERSON1', 0.449199597213497),\n",
       " ('X2STU30OCC_STEM1', 0.4486423324199768),\n",
       " ('S2SUSEJOB', 0.40475614049677977),\n",
       " ('S2SCOMPETE', 0.3557216120400218),\n",
       " ('S2SENJOYS', 0.32431899776290896),\n",
       " ('S2SPERSON2', 0.28850501210465035),\n",
       " ('S2SCLUB', 0.27344724561477474),\n",
       " ('S2SCAREER', 0.24285786398751247),\n",
       " ('S2STESTS', 0.15092563413900445),\n",
       " ('S2STEXTBOOK', 0.10736529852605234),\n",
       " ('S2SCHALLENGE', 0.09302531566734479),\n",
       " ('S2SUSELIFE', 0.033370913775717916),\n",
       " ('S2STCHEASY', 0.0075105151984913715),\n",
       " ('S2SDOWELL', 0.005247807771366452),\n",
       " ('S2SENJOYING', -0.00562492277282398),\n",
       " ('S2SSKILLS', -0.031103737304240257),\n",
       " ('S2SCLGSUCC', -0.1027440042281457),\n",
       " ('S2SASSEXCL', -0.10847197525944281)]"
      ]
     },
     "execution_count": 174,
     "metadata": {},
     "output_type": "execute_result"
    }
   ],
   "source": [
    "coef_kbest = dict(zip(list(selected_columns), list(lr_kbest.coef_[0])))\n",
    "sorted_dict3 = sorted(coef_kbest.items(), key=lambda kv: kv[1])\n",
    "sorted_dict3.reverse()\n",
    "sorted_dict3"
   ]
  },
  {
   "cell_type": "code",
   "execution_count": 175,
   "metadata": {},
   "outputs": [],
   "source": [
    "metric_dict['KBEST_LogisticRegression'] = {'train_accuracy': metrics.accuracy_score(y_train, kbest_train_pred),\n",
    "                                      'test_accuracy': metrics.accuracy_score(y_test, kbest_test_pred),\n",
    "                                      'train_precision':metrics.precision_score(y_train, kbest_train_pred),\n",
    "                                      'test_precision':metrics.precision_score(y_test, kbest_test_pred),\n",
    "                                      'train_recall':metrics.recall_score(y_train, kbest_train_pred),\n",
    "                                      'test_recall':metrics.recall_score(y_test, kbest_test_pred),\n",
    "                                      'train_f1':metrics.f1_score(y_train, kbest_train_pred),\n",
    "                                      'test_f1':metrics.f1_score(y_test, kbest_test_pred)}"
   ]
  },
  {
   "cell_type": "code",
   "execution_count": 176,
   "metadata": {},
   "outputs": [
    {
     "data": {
      "text/plain": [
       "{'LogisticRegression': {'train_accuracy': 0.6668185442533319,\n",
       "  'test_accuracy': 0.6706150341685649,\n",
       "  'train_precision': 0.37962962962962965,\n",
       "  'test_precision': 0.38261851015801357,\n",
       "  'train_recall': 0.6829985301322881,\n",
       "  'test_recall': 0.658252427184466,\n",
       "  'train_f1': 0.48800980220549633,\n",
       "  'test_f1': 0.48394004282655245},\n",
       " 'GS_LogisticRegression': {'train_accuracy': 0.666704636063333,\n",
       "  'test_accuracy': 0.6701594533029612,\n",
       "  'train_precision': 0.3795262728015246,\n",
       "  'test_precision': 0.38218714768883877,\n",
       "  'train_recall': 0.6829985301322881,\n",
       "  'test_recall': 0.658252427184466,\n",
       "  'train_f1': 0.487924396219811,\n",
       "  'test_f1': 0.48359486447931527},\n",
       " 'GS_URLogisticRegression': {'train_accuracy': 0.6731504571903575,\n",
       "  'test_accuracy': 0.6549202127659575,\n",
       "  'train_precision': 0.3138592750533049,\n",
       "  'test_precision': 0.2801358234295416,\n",
       "  'train_recall': 0.6733760292772186,\n",
       "  'test_recall': 0.6346153846153846,\n",
       "  'train_f1': 0.42815590459569514,\n",
       "  'test_f1': 0.38869257950530034},\n",
       " 'URLogisticRegression': {'train_accuracy': 0.6729842061512884,\n",
       "  'test_accuracy': 0.6555851063829787,\n",
       "  'train_precision': 0.31356655290102387,\n",
       "  'test_precision': 0.28061224489795916,\n",
       "  'train_recall': 0.6724611161939615,\n",
       "  'test_recall': 0.6346153846153846,\n",
       "  'train_f1': 0.42769857433808556,\n",
       "  'test_f1': 0.3891509433962264},\n",
       " 'KBEST_LogisticRegression': {'train_accuracy': 0.6509853058434901,\n",
       "  'test_accuracy': 0.6514806378132119,\n",
       "  'train_precision': 0.3670392513646998,\n",
       "  'test_precision': 0.3670212765957447,\n",
       "  'train_recall': 0.6918177364037237,\n",
       "  'test_recall': 0.6699029126213593,\n",
       "  'train_f1': 0.4796195652173913,\n",
       "  'test_f1': 0.4742268041237113}}"
      ]
     },
     "execution_count": 176,
     "metadata": {},
     "output_type": "execute_result"
    }
   ],
   "source": [
    "metric_dict"
   ]
  },
  {
   "cell_type": "code",
   "execution_count": null,
   "metadata": {},
   "outputs": [],
   "source": []
  }
 ],
 "metadata": {
  "kernelspec": {
   "display_name": "Python 3",
   "language": "python",
   "name": "python3"
  },
  "language_info": {
   "codemirror_mode": {
    "name": "ipython",
    "version": 3
   },
   "file_extension": ".py",
   "mimetype": "text/x-python",
   "name": "python",
   "nbconvert_exporter": "python",
   "pygments_lexer": "ipython3",
   "version": "3.6.9"
  }
 },
 "nbformat": 4,
 "nbformat_minor": 4
}
