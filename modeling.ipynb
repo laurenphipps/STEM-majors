{
 "cells": [
  {
   "cell_type": "code",
   "execution_count": 398,
   "metadata": {},
   "outputs": [],
   "source": [
    "import pandas as pd\n",
    "import numpy as np\n",
    "import seaborn as sns\n",
    "import matplotlib.pyplot as plt\n",
    "import matplotlib.ticker as mtick\n",
    "%matplotlib inline\n",
    "import plotly\n",
    "import plotly.figure_factory as ff\n",
    "from plotly.offline import *\n",
    "from sklearn.preprocessing import StandardScaler\n",
    "from sklearn.model_selection import train_test_split\n",
    "from sklearn.model_selection import cross_val_score\n",
    "from sklearn.model_selection import cross_validate\n",
    "from sklearn import metrics\n",
    "from sklearn.metrics import make_scorer, accuracy_score\n",
    "from sklearn.linear_model import LogisticRegression\n",
    "from sklearn.feature_selection import SelectKBest, f_regression,mutual_info_regression\n",
    "from sklearn.tree import DecisionTreeClassifier\n",
    "from sklearn.model_selection import GridSearchCV\n",
    "from sklearn.ensemble import RandomForestClassifier\n",
    "from sklearn.ensemble import BaggingClassifier\n",
    "from sklearn.metrics import confusion_matrix\n",
    "\n",
    "\n",
    "pd.set_option('display.max_columns', 300)"
   ]
  },
  {
   "cell_type": "code",
   "execution_count": 7,
   "metadata": {},
   "outputs": [],
   "source": [
    "demo_features = ['X2SEX', 'X2RACE', 'X2DUALLANG', 'X2POVERTY185', 'X2SESQ5_U', 'X2CONTROL', 'X2LOCALE', 'X2REGION']\n",
    "\n",
    "\n",
    "mvp_features = ['X2STU30OCC_STEM1', 'X2STUEDEXPCT', 'X2S2SSPR12', 'S2SPERSON1', 'S2SPERSON2', \n",
    "               'S2SLEARN', 'S2SBORN', 'S2SUSELIFE', 'S2SUSECLG', 'S2SUSEJOB', \n",
    "               'S2SSPR12', 'S2LIFES12', 'S2BIO1S12', 'S2BIO2S12', 'S2APBIOS12', \n",
    "               'S2IBIOS12', 'S2ANATOMYS12', 'S2OTHBIOS12', 'S2CHEM1S12', 'S2CHEM2S12', 'S2APCHEM12', \n",
    "               'S2IBCHEM12', 'S2EARTHS12', 'S2APENVS12', 'S2OTHENVS12', 'S2PHYSIC1S12', \n",
    "               'S2PHYSIC2S12', 'S2APPHYSIC12', 'S2IBPHYSIC12', 'S2PHYSS12', 'S2TECHS12', 'S2OTHPHYS12', \n",
    "               'S2INTGS1S12', 'S2INTGS2S12', 'S2GENS12', 'S2COMPAPP12', 'S2COMPPROG12', \n",
    "               'S2APCOMPSCI12', 'S2IBTECH12', 'S2OTHCOMP12', 'S2ENGINEER12', 'S2OTHS12', 'S2OTHS12SP', \n",
    "               'S2HISCIENCE12', 'S2APSCIENCE', 'S2IBSCIENCE', 'S2STOOKBEFORE', 'S2SENJOYS', 'S2SCHALLENGE', 'S2SHSREQ', 'S2SCLGADM', \n",
    "               'S2SCLGSUCC', 'S2SCAREER', 'S2SCNSLREC', 'S2STCHRREC', 'S2SPARREC', 'S2SFAMREC', \n",
    "               'S2SEMPREC', 'S2SFRIEND', 'S2SDOWELL', 'S2SASSIGNED', 'S2STCHTREAT', 'S2STCHINTRST', \n",
    "               'S2STCHEASY', 'S2STCHTHINK', 'S2STCHGIVEUP', 'S2SENJOYING', 'S2SWASTE', 'S2SBORING', \n",
    "               'S2SUSELIFE', 'S2SUSECLG', 'S2SUSEJOB', 'S2STESTS', 'S2STEXTBOOK', 'S2SSKILLS', \n",
    "               'S2SASSEXCL', 'S2APSCIENCE', 'S2HSPLAN', 'S2SUBMITPLAN', 'S2SCLUB', \n",
    "            'S2SCOMPETE', 'S2SSUMMERPRG', 'S2SGROUP', 'S2STUTORED', 'X4RFDGMJ123', 'X4RFDGMJSTEM']\n",
    "\n",
    "family_features = ['X2PAR1EDU', 'X2PAR1OCC_STEM1', \n",
    "            'X2PAR1RACE', 'X2PAR2EDU', 'X2PAR2OCC_STEM1', 'X2PAR2RACE', 'X2PARPATTERN', \n",
    "            'X2MOMEDU', 'X2MOMOCC_STEM1', 'X2MOMRACE', 'X2DADEDU', 'X2DADOCC_STEM1', \n",
    "            'X2DADRACE']\n",
    "\n",
    "cols_list = demo_features + mvp_features\n",
    "\n"
   ]
  },
  {
   "cell_type": "code",
   "execution_count": 8,
   "metadata": {},
   "outputs": [],
   "source": [
    "df = pd.read_csv('data-files/HSLS/hsls_17_student_pets_sr_v1_0.csv', usecols = cols_list)\n",
    "df.rename(columns = {'X4RFDGMJSTEM': 'target'}, inplace = True)"
   ]
  },
  {
   "cell_type": "code",
   "execution_count": 259,
   "metadata": {},
   "outputs": [],
   "source": [
    "#drop rows with non-response to S2SLEARN (and many other features) (likely dropped from study)\n",
    "df = df[df['S2SLEARN'] != -8]\n",
    "\n",
    "#create dummy variables for races\n",
    "df['ai_an'] = np.where(df['X2RACE'] == 1, 1, 0)\n",
    "df['asian'] = np.where(df['X2RACE'] == 2, 1, 0)\n",
    "df['black'] = np.where(df['X2RACE'] == 3, 1, 0)\n",
    "df['hispanic'] = np.where((df['X2RACE'] == 4) | (df['X2RACE'] == 5), 1, 0)\n",
    "df['multiple_race'] = np.where(df['X2RACE'] == 6, 1, 0)\n",
    "df['nh_pi'] = np.where(df['X2RACE'] == 7, 1, 0)\n",
    "df['white'] = np.where(df['X2RACE'] == 8, 1, 0)\n",
    "\n",
    "df['female'] = np.where(df['X2SEX'] == 2, 1, 0)"
   ]
  },
  {
   "cell_type": "code",
   "execution_count": 10,
   "metadata": {},
   "outputs": [],
   "source": [
    "#'X2DUALLANG', 'X2POVERTY185', 'X2SESQ5_U', 'X2CONTROL', 'X2LOCALE', 'X2REGION'\n",
    "\n",
    "#create dummy for public/private school\n",
    "df['private'] = [1 if x == 2 else 0 for x in df['X2CONTROL']]\n",
    "df['public'] = [1 if x == 1 else 0 for x in df['X2CONTROL']]"
   ]
  },
  {
   "cell_type": "code",
   "execution_count": 11,
   "metadata": {},
   "outputs": [],
   "source": [
    "#compile all subchoices of STEM domains into yes/no\n",
    "df.X2STU30OCC_STEM1.replace({-9:0, 9:0, 4:1, 5:1, 6:1}, inplace = True)\n"
   ]
  },
  {
   "cell_type": "code",
   "execution_count": 12,
   "metadata": {},
   "outputs": [],
   "source": [
    "classes = ['S2SSPR12', 'S2LIFES12', 'S2BIO1S12', 'S2BIO2S12', 'S2APBIOS12', \n",
    "               'S2IBIOS12', 'S2ANATOMYS12', 'S2OTHBIOS12', 'S2CHEM1S12', 'S2CHEM2S12', 'S2APCHEM12', \n",
    "               'S2IBCHEM12', 'S2EARTHS12', 'S2APENVS12', 'S2OTHENVS12', 'S2PHYSIC1S12', \n",
    "               'S2PHYSIC2S12', 'S2APPHYSIC12', 'S2IBPHYSIC12', 'S2PHYSS12', 'S2TECHS12', 'S2OTHPHYS12', \n",
    "               'S2INTGS1S12', 'S2INTGS2S12', 'S2GENS12', 'S2COMPAPP12', 'S2COMPPROG12', \n",
    "               'S2APCOMPSCI12', 'S2IBTECH12', 'S2OTHCOMP12', 'S2ENGINEER12', 'S2OTHS12', 'S2APSCIENCE', 'S2IBSCIENCE']\n",
    "\n",
    "#impute 'no' for items that are missing or were skipped due to not taking a science class\n",
    "for col in classes:\n",
    "    df[col].replace({-9:0, -7:0}, inplace= True)\n"
   ]
  },
  {
   "cell_type": "code",
   "execution_count": 13,
   "metadata": {},
   "outputs": [
    {
     "data": {
      "text/plain": [
       "1    16192\n",
       "0     4402\n",
       "Name: S2SSPR12, dtype: int64"
      ]
     },
     "execution_count": 13,
     "metadata": {},
     "output_type": "execute_result"
    }
   ],
   "source": [
    "df.S2SSPR12.value_counts()"
   ]
  },
  {
   "cell_type": "code",
   "execution_count": 14,
   "metadata": {},
   "outputs": [],
   "source": [
    "#impute unknown with 'no' for if participating in science activity\n",
    "\n",
    "clubs_cols = ['S2SCLUB', 'S2SCOMPETE', 'S2SSUMMERPRG', 'S2SGROUP', 'S2STUTORED']\n",
    "\n",
    "for col in clubs_cols:\n",
    "    df[col].replace({-9:0}, inplace = True)"
   ]
  },
  {
   "cell_type": "code",
   "execution_count": 15,
   "metadata": {},
   "outputs": [],
   "source": [
    "df.S2HSPLAN = np.where(df['S2HSPLAN'] == 1, 1, 0)\n",
    "df.S2SUBMITPLAN = np.where(df['S2SUBMITPLAN'] == 1, 1, 0)"
   ]
  },
  {
   "cell_type": "code",
   "execution_count": 16,
   "metadata": {},
   "outputs": [],
   "source": [
    "#create class for underrepresented group in STEM (women, black, american indian, hispanic, pacific islander)\n",
    "\n",
    "df['underrep'] = np.where((df['X2SEX'] == 2) |\n",
    "                          (df['ai_an'] == 1) |\n",
    "                          (df['black'] == 1) |\n",
    "                          (df['hispanic'] == 1) |\n",
    "                          (df['multiple_race'] == 1) |\n",
    "                          (df['nh_pi'] == 1), 1, 0)\n",
    "                         "
   ]
  },
  {
   "cell_type": "code",
   "execution_count": null,
   "metadata": {},
   "outputs": [],
   "source": []
  },
  {
   "cell_type": "code",
   "execution_count": 17,
   "metadata": {},
   "outputs": [],
   "source": [
    "#group HS science classes into broader subjects\n",
    "\n",
    "df['bio'] = np.where((df['S2LIFES12'] == 1) |\n",
    "                      (df['S2BIO1S12'] == 1) |\n",
    "                      (df['S2BIO2S12'] == 1) |\n",
    "                      (df['S2APBIOS12'] == 1) |\n",
    "                      (df['S2IBIOS12'] == 1) |\n",
    "                     (df['S2ANATOMYS12'] == 1) |\n",
    "                      (df['S2OTHBIOS12'] == 1), 1, 0)\n",
    "               \n",
    "\n",
    "df['chem'] = np.where((df['S2CHEM1S12'] == 1) |\n",
    "                      (df['S2CHEM2S12'] == 1) |\n",
    "                      (df['S2APCHEM12'] == 1) |\n",
    "                      (df['S2IBCHEM12'] == 1), 1, 0)\n",
    "              \n",
    "\n",
    "df['enviro'] = np.where((df['S2EARTHS12'] == 1) |\n",
    "                        (df['S2EARTHS12'] == 1) |\n",
    "                        (df['S2APENVS12'] == 1) |\n",
    "                        (df['S2OTHENVS12'] == 1), 1, 0)\n",
    "                        \n",
    "df['physics'] = np.where((df['S2PHYSIC1S12'] == 1) |\n",
    "                         (df['S2PHYSIC2S12'] == 1) |\n",
    "                         (df['S2APPHYSIC12'] == 1) |\n",
    "                         (df['S2IBPHYSIC12'] == 1) |\n",
    "                         (df['S2PHYSS12'] == 1), 1, 0)\n",
    "                         \n",
    "df['engineering'] = np.where((df['S2ENGINEER12'] == 1), 1, 0)\n",
    "\n",
    "\n",
    "df['compsci'] = np.where((df['S2COMPAPP12'] == 1) |\n",
    "                         (df['S2COMPPROG12'] == 1) |\n",
    "                         (df['S2APCOMPSCI12'] == 1) |\n",
    "                         (df['S2IBTECH12'] == 1) |\n",
    "                         (df['S2OTHCOMP12'] == 1), 1, 0)\n",
    "\n",
    "df['misc_class'] = np.where((df['S2OTHPHYS12'] == 1) |\n",
    "                            (df['S2INTGS1S12'] == 1) |\n",
    "                            (df['S2GENS12'] == 1), 1, 0)\n"
   ]
  },
  {
   "cell_type": "code",
   "execution_count": null,
   "metadata": {},
   "outputs": [],
   "source": []
  },
  {
   "cell_type": "code",
   "execution_count": 18,
   "metadata": {},
   "outputs": [],
   "source": [
    "#create column for students who took science earlier in the year (but don't now)\n",
    "df['took_science_2012'] = np.where((df['S2STOOKBEFORE'] == 1) |\n",
    "                                   (df['bio'] == 1) |\n",
    "                                   (df['chem'] == 1) |\n",
    "                                   (df['enviro'] == 1) |\n",
    "                                   (df['physics'] == 1) |\n",
    "                                   (df['engineering'] == 1) |\n",
    "                                   (df['compsci'] == 1) |\n",
    "                                   (df['misc_class'] == 1), 1, 0)\n"
   ]
  },
  {
   "cell_type": "code",
   "execution_count": 19,
   "metadata": {},
   "outputs": [
    {
     "data": {
      "text/plain": [
       "1    18051\n",
       "0     2543\n",
       "Name: took_science_2012, dtype: int64"
      ]
     },
     "execution_count": 19,
     "metadata": {},
     "output_type": "execute_result"
    }
   ],
   "source": [
    "df.took_science_2012.value_counts()"
   ]
  },
  {
   "cell_type": "code",
   "execution_count": 20,
   "metadata": {},
   "outputs": [],
   "source": [
    "#impute 'no' for items that are missing or were skipped due to not taking a science class\n",
    "\n",
    "why_science = ['S2SENJOYS', 'S2SCHALLENGE', 'S2SHSREQ', 'S2SCLGADM', \n",
    "               'S2SCLGSUCC', 'S2SCAREER', 'S2SCNSLREC', 'S2STCHRREC', 'S2SPARREC', 'S2SFAMREC', \n",
    "               'S2SEMPREC', 'S2SFRIEND', 'S2SDOWELL', 'S2SASSIGNED']\n",
    "\n",
    "for col in why_science:\n",
    "    df[col].replace({-9:0, -7:0}, inplace= True)"
   ]
  },
  {
   "cell_type": "code",
   "execution_count": 266,
   "metadata": {},
   "outputs": [],
   "source": [
    "#create dataframe with target variable\n",
    "modeling_df = df[(df.target == 0) | (df.target == 1)]\n",
    "\n"
   ]
  },
  {
   "cell_type": "code",
   "execution_count": null,
   "metadata": {},
   "outputs": [],
   "source": []
  },
  {
   "cell_type": "code",
   "execution_count": 267,
   "metadata": {},
   "outputs": [],
   "source": [
    "likert_cols = ['S2SPERSON1', 'S2SPERSON2', \n",
    "               'S2SLEARN', 'S2SBORN', 'S2SUSELIFE', 'S2SUSECLG', 'S2SUSEJOB', \n",
    "                'S2STCHTREAT', 'S2STCHINTRST', \n",
    "               'S2STCHEASY', 'S2STCHTHINK', 'S2STCHGIVEUP', 'S2SENJOYING', 'S2SWASTE', 'S2SBORING', \n",
    "               'S2STESTS', 'S2STEXTBOOK', 'S2SSKILLS', \n",
    "               'S2SASSEXCL']\n",
    "\n",
    "#change likert questions to agree/disagree\n",
    "for col in likert_cols:\n",
    "   modeling_df[col].replace({2:1, 3:0, 4:0, -9:0, -7:0}, inplace = True)"
   ]
  },
  {
   "cell_type": "code",
   "execution_count": 268,
   "metadata": {},
   "outputs": [
    {
     "data": {
      "text/plain": [
       "1    9381\n",
       "0    1593\n",
       "Name: S2SSPR12, dtype: int64"
      ]
     },
     "execution_count": 268,
     "metadata": {},
     "output_type": "execute_result"
    }
   ],
   "source": [
    "modeling_df.S2SSPR12.value_counts()"
   ]
  },
  {
   "cell_type": "code",
   "execution_count": 269,
   "metadata": {},
   "outputs": [
    {
     "data": {
      "text/plain": [
       "target  underrep  took_science_2012\n",
       "0       0         1                    0.913410\n",
       "                  0                    0.086590\n",
       "        1         1                    0.916964\n",
       "                  0                    0.083036\n",
       "1       0         1                    0.955943\n",
       "                  0                    0.044057\n",
       "        1         1                    0.945307\n",
       "                  0                    0.054693\n",
       "Name: took_science_2012, dtype: float64"
      ]
     },
     "execution_count": 269,
     "metadata": {},
     "output_type": "execute_result"
    }
   ],
   "source": [
    "modeling_df.groupby(by = ['target', 'underrep']).took_science_2012.value_counts(normalize = True)"
   ]
  },
  {
   "cell_type": "code",
   "execution_count": 270,
   "metadata": {},
   "outputs": [
    {
     "data": {
      "text/plain": [
       "1    7519\n",
       "0    3455\n",
       "Name: underrep, dtype: int64"
      ]
     },
     "execution_count": 270,
     "metadata": {},
     "output_type": "execute_result"
    }
   ],
   "source": [
    "modeling_df.underrep.value_counts(normalize = False)"
   ]
  },
  {
   "cell_type": "code",
   "execution_count": 271,
   "metadata": {},
   "outputs": [],
   "source": [
    "underrep_df = modeling_df[modeling_df['underrep'] == 1]\n"
   ]
  },
  {
   "cell_type": "code",
   "execution_count": null,
   "metadata": {},
   "outputs": [],
   "source": []
  },
  {
   "cell_type": "markdown",
   "metadata": {},
   "source": [
    "### Initial Model - ALL"
   ]
  },
  {
   "cell_type": "code",
   "execution_count": 399,
   "metadata": {},
   "outputs": [],
   "source": [
    "X = modeling_df.drop(columns = 'target', axis =1)\n",
    "y = modeling_df['target']"
   ]
  },
  {
   "cell_type": "code",
   "execution_count": 400,
   "metadata": {},
   "outputs": [],
   "source": [
    "X_train, X_test, y_train, y_test = train_test_split(X, y, test_size = 0.2, random_state = 20)"
   ]
  },
  {
   "cell_type": "code",
   "execution_count": 405,
   "metadata": {},
   "outputs": [],
   "source": [
    "features = ['S2SCLUB', 'S2SCOMPETE', 'S2SSUMMERPRG', 'S2SGROUP', 'S2STUTORED', 'S2SPERSON1', 'S2SPERSON2', \n",
    "               'S2SLEARN', 'S2SBORN', 'S2SUSELIFE', 'S2SUSECLG', 'S2SUSEJOB', 'S2SENJOYING', 'S2SWASTE', 'S2SBORING', \n",
    "               'S2STESTS', 'S2STEXTBOOK', 'S2SSKILLS', 'S2STCHTREAT', 'S2STCHINTRST', \n",
    "               'S2STCHEASY', 'S2STCHTHINK', 'S2STCHGIVEUP',\n",
    "               'S2SASSEXCL', 'S2SENJOYS', 'S2SCHALLENGE', 'S2SHSREQ', 'S2SCLGADM', \n",
    "               'S2SCLGSUCC', 'S2SCAREER', 'S2SCNSLREC', 'S2STCHRREC', 'S2SPARREC', 'S2SFAMREC', \n",
    "               'S2SEMPREC', 'S2SFRIEND', 'S2SDOWELL', 'S2SASSIGNED', 'X2STU30OCC_STEM1', 'took_science_2012', 'bio', 'chem', 'enviro', 'physics', 'engineering', 'compsci', 'misc_class',\n",
    "           'female', 'public', 'white', 'black', 'hispanic', 'asian', 'ai_an', 'multiple_race', 'nh_pi' , 'X2POVERTY185']\n",
    "                            \n",
    "\n",
    "lr_fsm = LogisticRegression(max_iter = 10000, C = 1, random_state = 20, class_weight = 'balanced')\n",
    "lr_fsm.fit(X_train[features], y_train)\n",
    "\n",
    "train_pred = lr_fsm.predict(X_train[features])\n",
    "test_pred = lr_fsm.predict(X_test[features])\n",
    "\n"
   ]
  },
  {
   "cell_type": "markdown",
   "metadata": {},
   "source": []
  },
  {
   "cell_type": "code",
   "execution_count": 402,
   "metadata": {},
   "outputs": [
    {
     "data": {
      "text/plain": [
       "[('engineering', 0.853104749244195),\n",
       " ('asian', 0.7810366266337229),\n",
       " ('X2STU30OCC_STEM1', 0.5892024529104304),\n",
       " ('compsci', 0.5623633009829604),\n",
       " ('S2SSUMMERPRG', 0.5364783521444684),\n",
       " ('S2SUSEJOB', 0.40778896223232414),\n",
       " ('S2SPERSON1', 0.3426164836707161),\n",
       " ('S2SCAREER', 0.3318294018325517),\n",
       " ('S2SPERSON2', 0.3124827040112093),\n",
       " ('physics', 0.30976708853464296),\n",
       " ('S2SCLUB', 0.2843091419838224),\n",
       " ('S2SENJOYS', 0.25652094041575363),\n",
       " ('chem', 0.21813825294027905),\n",
       " ('S2SPARREC', 0.1328488154627956),\n",
       " ('S2STCHEASY', 0.13132154878437605),\n",
       " ('S2SCOMPETE', 0.12429120125079492),\n",
       " ('S2SCHALLENGE', 0.10111060632371525),\n",
       " ('S2STEXTBOOK', 0.09620425462567227),\n",
       " ('S2SDOWELL', 0.08474941036978709),\n",
       " ('S2SUSELIFE', 0.03486828610540982),\n",
       " ('public', 0.03306374974129181),\n",
       " ('S2STESTS', 0.029403084736447618),\n",
       " ('nh_pi', 0.02778197878678847),\n",
       " ('S2SBORN', 0.027467707078547662),\n",
       " ('S2SFRIEND', 0.012143402058317015),\n",
       " ('bio', 0.010076881416170181),\n",
       " ('S2SCLGSUCC', 0.009525867912227218),\n",
       " ('S2STCHTHINK', 0.0016021390962491539),\n",
       " ('enviro', -0.008133089978709008),\n",
       " ('S2SUSECLG', -0.010887791384219875),\n",
       " ('S2SASSEXCL', -0.021930963214167522),\n",
       " ('S2SSKILLS', -0.022001946769672875),\n",
       " ('S2SLEARN', -0.022636816151261684),\n",
       " ('S2SGROUP', -0.025797635271428268),\n",
       " ('S2SBORING', -0.0411591368664248),\n",
       " ('S2SFAMREC', -0.04720802822144958),\n",
       " ('S2STCHINTRST', -0.054300491347648014),\n",
       " ('S2SEMPREC', -0.06159956558435219),\n",
       " ('X2POVERTY185', -0.06329889643663915),\n",
       " ('multiple_race', -0.06434590299879643),\n",
       " ('S2STCHTREAT', -0.06473775408438764),\n",
       " ('hispanic', -0.06799641820406584),\n",
       " ('S2SHSREQ', -0.0787832120286558),\n",
       " ('ai_an', -0.09847998550423588),\n",
       " ('S2SENJOYING', -0.10467674664178135),\n",
       " ('S2STCHRREC', -0.1175892776461598),\n",
       " ('took_science_2012', -0.12115888549223335),\n",
       " ('S2SCLGADM', -0.12907985471484024),\n",
       " ('S2SCNSLREC', -0.13289486113177745),\n",
       " ('S2SWASTE', -0.1389896444285973),\n",
       " ('S2STCHGIVEUP', -0.16322158059825684),\n",
       " ('white', -0.1656165701206963),\n",
       " ('S2SASSIGNED', -0.21427335796855065),\n",
       " ('S2STUTORED', -0.2712009983931413),\n",
       " ('misc_class', -0.3408708429774084),\n",
       " ('black', -0.4090892889408532),\n",
       " ('female', -1.0462547243579925)]"
      ]
     },
     "execution_count": 402,
     "metadata": {},
     "output_type": "execute_result"
    }
   ],
   "source": [
    "coef = dict(zip(list(features), list(lr_fsm.coef_[0])))\n",
    "sorted_dict1 = sorted(coef.items(), key=lambda kv: kv[1])\n",
    "sorted_dict1.reverse()\n",
    "sorted_dict1"
   ]
  },
  {
   "cell_type": "code",
   "execution_count": 403,
   "metadata": {},
   "outputs": [],
   "source": [
    "metric_dict = {}\n",
    "metric_dict['LogisticRegression'] = {'train_accuracy': metrics.accuracy_score(y_train, train_pred),\n",
    "                                      'test_accuracy': metrics.accuracy_score(y_test, test_pred),\n",
    "                                      'train_precision':metrics.precision_score(y_train, train_pred),\n",
    "                                      'test_precision':metrics.precision_score(y_test, test_pred),\n",
    "                                      'train_recall':metrics.recall_score(y_train, train_pred),\n",
    "                                      'test_recall':metrics.recall_score(y_test, test_pred),\n",
    "                                      'train_f1':metrics.f1_score(y_train, train_pred),\n",
    "                                      'test_f1':metrics.f1_score(y_test, test_pred)}"
   ]
  },
  {
   "cell_type": "code",
   "execution_count": 397,
   "metadata": {},
   "outputs": [
    {
     "data": {
      "text/plain": [
       "{'LogisticRegression': {'train_accuracy': 0.7038387060029616,\n",
       "  'test_accuracy': 0.7034168564920273,\n",
       "  'train_precision': 0.41877361232199944,\n",
       "  'test_precision': 0.4170731707317073,\n",
       "  'train_recall': 0.7060264576188143,\n",
       "  'test_recall': 0.6640776699029126,\n",
       "  'train_f1': 0.5257205399489238,\n",
       "  'test_f1': 0.5123595505617977}}"
      ]
     },
     "execution_count": 397,
     "metadata": {},
     "output_type": "execute_result"
    }
   ],
   "source": [
    "metric_dict"
   ]
  },
  {
   "cell_type": "code",
   "execution_count": null,
   "metadata": {},
   "outputs": [],
   "source": []
  },
  {
   "cell_type": "code",
   "execution_count": null,
   "metadata": {},
   "outputs": [],
   "source": []
  },
  {
   "cell_type": "markdown",
   "metadata": {},
   "source": [
    "### Initial - Underrep"
   ]
  },
  {
   "cell_type": "code",
   "execution_count": 314,
   "metadata": {},
   "outputs": [],
   "source": [
    "X_ur = underrep_df.drop(columns = 'target', axis =1)\n",
    "y_ur = underrep_df['target']"
   ]
  },
  {
   "cell_type": "code",
   "execution_count": 315,
   "metadata": {},
   "outputs": [],
   "source": [
    "Xu_train, Xu_test, yu_train, yu_test = train_test_split(X_ur, y_ur, test_size = 0.2, random_state = 20)"
   ]
  },
  {
   "cell_type": "code",
   "execution_count": 316,
   "metadata": {},
   "outputs": [],
   "source": [
    "lr_ur_fsm = LogisticRegression(max_iter = 10000, C = 10000, random_state = 20, class_weight = 'balanced')\n",
    "lr_ur_fsm.fit(Xu_train[features], yu_train)\n",
    "\n",
    "train_ur_pred = lr_ur_fsm.predict(Xu_train[features])\n",
    "test_ur_pred = lr_ur_fsm.predict(Xu_test[features])\n"
   ]
  },
  {
   "cell_type": "code",
   "execution_count": 147,
   "metadata": {},
   "outputs": [
    {
     "data": {
      "text/plain": [
       "[('engineering', 0.9970508744933627),\n",
       " ('compsci', 0.5890869033359162),\n",
       " ('S2SSUMMERPRG', 0.5425614099769563),\n",
       " ('physics', 0.5020014594064346),\n",
       " ('S2SCLUB', 0.4283271338077947),\n",
       " ('X2STU30OCC_STEM1', 0.4007775311740715),\n",
       " ('S2SCAREER', 0.3766571887239843),\n",
       " ('S2SPERSON1', 0.35045965185882283),\n",
       " ('S2SPERSON2', 0.28312566061974115),\n",
       " ('S2SENJOYS', 0.2621139668490354),\n",
       " ('S2SCOMPETE', 0.24587950480382367),\n",
       " ('S2SUSELIFE', 0.23812154095380902),\n",
       " ('chem', 0.2066207546331234),\n",
       " ('S2SUSEJOB', 0.18605859374454345),\n",
       " ('S2STEXTBOOK', 0.18018923396336145),\n",
       " ('S2SCHALLENGE', 0.17155252634061954),\n",
       " ('S2STESTS', 0.09086802426314511),\n",
       " ('enviro', 0.057412915532880644),\n",
       " ('S2SDOWELL', 0.05620718364592987),\n",
       " ('S2SCLGSUCC', 0.05312050445947541),\n",
       " ('S2STCHGIVEUP', 0.041654780680799385),\n",
       " ('S2SBORN', 0.03617879800995662),\n",
       " ('S2SASSEXCL', 0.0315522564764834),\n",
       " ('bio', 0.03133814312344868),\n",
       " ('S2SPARREC', 0.02446124146812763),\n",
       " ('took_science_2012', 0.010177301131754652),\n",
       " ('S2SWASTE', 0.008421447665224294),\n",
       " ('S2SGROUP', 0.00777116190897229),\n",
       " ('S2SFRIEND', 0.0017674541007724714),\n",
       " ('S2STCHEASY', -0.01218314467881858),\n",
       " ('S2SLEARN', -0.015046294108870834),\n",
       " ('S2SSKILLS', -0.017109253410027253),\n",
       " ('S2SBORING', -0.026519243424987952),\n",
       " ('S2SFAMREC', -0.03869547120693209),\n",
       " ('S2SCLGADM', -0.04117018975081317),\n",
       " ('S2STCHRREC', -0.06491704299078513),\n",
       " ('S2STCHINTRST', -0.06617713067265545),\n",
       " ('S2SENJOYING', -0.08046705881993052),\n",
       " ('S2STCHTREAT', -0.11462240184569589),\n",
       " ('S2SASSIGNED', -0.14422568128669122),\n",
       " ('S2SUSECLG', -0.17056425172121747),\n",
       " ('S2SHSREQ', -0.1963607063223481),\n",
       " ('S2STUTORED', -0.21168939448497984),\n",
       " ('S2STCHTHINK', -0.24108017456170708),\n",
       " ('S2SCNSLREC', -0.30442125541563037),\n",
       " ('S2SEMPREC', -0.3539229788374382),\n",
       " ('misc_class', -0.742732380252649)]"
      ]
     },
     "execution_count": 147,
     "metadata": {},
     "output_type": "execute_result"
    }
   ],
   "source": [
    "coef = dict(zip(list(features), list(lr_ur_fsm.coef_[0])))\n",
    "sorted_dict1 = sorted(coef.items(), key=lambda kv: kv[1])\n",
    "sorted_dict1.reverse()\n",
    "sorted_dict1"
   ]
  },
  {
   "cell_type": "code",
   "execution_count": 142,
   "metadata": {},
   "outputs": [],
   "source": [
    "metric_dict['URLogisticRegression'] = {'train_accuracy': metrics.accuracy_score(yu_train, train_ur_pred),\n",
    "                                      'test_accuracy': metrics.accuracy_score(yu_test, test_ur_pred),\n",
    "                                      'train_precision':metrics.precision_score(yu_train, train_ur_pred),\n",
    "                                      'test_precision':metrics.precision_score(yu_test, test_ur_pred),\n",
    "                                      'train_recall':metrics.recall_score(yu_train, train_ur_pred),\n",
    "                                      'test_recall':metrics.recall_score(yu_test, test_ur_pred),\n",
    "                                      'train_f1':metrics.f1_score(yu_train, train_ur_pred),\n",
    "                                      'test_f1':metrics.f1_score(yu_test, test_ur_pred)}"
   ]
  },
  {
   "cell_type": "code",
   "execution_count": 143,
   "metadata": {},
   "outputs": [
    {
     "data": {
      "text/plain": [
       "{'LogisticRegression': {'train_accuracy': 0.6668185442533319,\n",
       "  'test_accuracy': 0.6706150341685649,\n",
       "  'train_precision': 0.37962962962962965,\n",
       "  'test_precision': 0.38261851015801357,\n",
       "  'train_recall': 0.6829985301322881,\n",
       "  'test_recall': 0.658252427184466,\n",
       "  'train_f1': 0.48800980220549633,\n",
       "  'test_f1': 0.48394004282655245},\n",
       " 'GS_LogisticRegression': {'train_accuracy': 0.666704636063333,\n",
       "  'test_accuracy': 0.6701594533029612,\n",
       "  'train_precision': 0.3795262728015246,\n",
       "  'test_precision': 0.38218714768883877,\n",
       "  'train_recall': 0.6829985301322881,\n",
       "  'test_recall': 0.658252427184466,\n",
       "  'train_f1': 0.487924396219811,\n",
       "  'test_f1': 0.48359486447931527},\n",
       " 'GS_URLogisticRegression': {'train_accuracy': 0.6731504571903575,\n",
       "  'test_accuracy': 0.6549202127659575,\n",
       "  'train_precision': 0.3138592750533049,\n",
       "  'test_precision': 0.2801358234295416,\n",
       "  'train_recall': 0.6733760292772186,\n",
       "  'test_recall': 0.6346153846153846,\n",
       "  'train_f1': 0.42815590459569514,\n",
       "  'test_f1': 0.38869257950530034},\n",
       " 'URLogisticRegression': {'train_accuracy': 0.6729842061512884,\n",
       "  'test_accuracy': 0.6555851063829787,\n",
       "  'train_precision': 0.31356655290102387,\n",
       "  'test_precision': 0.28061224489795916,\n",
       "  'train_recall': 0.6724611161939615,\n",
       "  'test_recall': 0.6346153846153846,\n",
       "  'train_f1': 0.42769857433808556,\n",
       "  'test_f1': 0.3891509433962264}}"
      ]
     },
     "execution_count": 143,
     "metadata": {},
     "output_type": "execute_result"
    }
   ],
   "source": [
    "metric_dict"
   ]
  },
  {
   "cell_type": "markdown",
   "metadata": {},
   "source": [
    "### Overrep"
   ]
  },
  {
   "cell_type": "code",
   "execution_count": 67,
   "metadata": {},
   "outputs": [],
   "source": [
    "overrep_df = modeling_df[modeling_df['underrep'] == 0]\n",
    "\n",
    "X_or = overrep_df.drop(columns = 'target', axis =1)\n",
    "y_or = overrep_df['target']\n",
    "\n",
    "Xo_train, Xo_test, yo_train, yo_test = train_test_split(X_or, y_or, test_size = 0.2, random_state = 20)\n"
   ]
  },
  {
   "cell_type": "code",
   "execution_count": 68,
   "metadata": {},
   "outputs": [],
   "source": [
    "lr_or_fsm = LogisticRegression(max_iter = 10000, C = 10000, random_state = 20, class_weight = 'balanced')\n",
    "lr_or_fsm.fit(Xo_train[features], yo_train)\n",
    "\n",
    "train_or_pred = lr_or_fsm.predict(Xo_train[features])\n",
    "test_or_pred = lr_or_fsm.predict(Xo_test[features])\n"
   ]
  },
  {
   "cell_type": "code",
   "execution_count": 69,
   "metadata": {},
   "outputs": [
    {
     "data": {
      "text/plain": [
       "[('engineering', 0.9141941837290813),\n",
       " ('X2STU30OCC_STEM1', 0.7890787613546657),\n",
       " ('compsci', 0.7424814557238434),\n",
       " ('misc_class', 0.4895197359444009),\n",
       " ('chem', 0.48720534070259564),\n",
       " ('physics', 0.4754496936859682),\n",
       " ('S2SUSEJOB', 0.41877807174489423),\n",
       " ('S2SCLUB', 0.407959327067503),\n",
       " ('S2SSUMMERPRG', 0.3416796163099416),\n",
       " ('S2SCOMPETE', 0.33409883775641386),\n",
       " ('S2SEMPREC', 0.30959623289334653),\n",
       " ('S2SCAREER', 0.3005712522145897),\n",
       " ('S2SPERSON1', 0.2565461654877844),\n",
       " ('S2SDOWELL', 0.25365375739854706),\n",
       " ('S2SENJOYS', 0.22902158460148012),\n",
       " ('S2SPERSON2', 0.22772217319388816),\n",
       " ('enviro', 0.16481204387152013),\n",
       " ('S2SPARREC', 0.1485614106161944),\n",
       " ('S2SCHALLENGE', 0.12017622777655056),\n",
       " ('S2STCHINTRST', 0.09789913784133536),\n",
       " ('S2SUSECLG', 0.08747514729127265),\n",
       " ('bio', 0.06157812382429152),\n",
       " ('S2SLEARN', 0.057400729964577596),\n",
       " ('S2SENJOYING', 0.05579211677375349),\n",
       " ('S2SHSREQ', 0.03373219066761498),\n",
       " ('S2STESTS', 0.027075672930474026),\n",
       " ('S2SBORN', 0.014113602864822912),\n",
       " ('S2STCHRREC', 0.003131165038660279),\n",
       " ('S2SFAMREC', -0.006712292188550475),\n",
       " ('S2SCLGSUCC', -0.011957751645783032),\n",
       " ('S2STCHEASY', -0.024043936551316064),\n",
       " ('S2SSKILLS', -0.04214555485438798),\n",
       " ('S2SFRIEND', -0.056317992497917954),\n",
       " ('S2STEXTBOOK', -0.058985431392038344),\n",
       " ('S2STCHTHINK', -0.06182832823198082),\n",
       " ('S2STCHGIVEUP', -0.08777160201045563),\n",
       " ('S2SASSIGNED', -0.119181498004996),\n",
       " ('S2SUSELIFE', -0.1364853244090985),\n",
       " ('S2SBORING', -0.14412167762118644),\n",
       " ('S2STCHTREAT', -0.14773871440230488),\n",
       " ('S2SASSEXCL', -0.1634215209873714),\n",
       " ('S2SCNSLREC', -0.17228984999588423),\n",
       " ('S2SGROUP', -0.18183450933893108),\n",
       " ('S2STUTORED', -0.1943399205492875),\n",
       " ('took_science_2012', -0.27112706945363635),\n",
       " ('S2SCLGADM', -0.3288811075073729),\n",
       " ('S2SWASTE', -0.32913838488859354)]"
      ]
     },
     "execution_count": 69,
     "metadata": {},
     "output_type": "execute_result"
    }
   ],
   "source": [
    "coef = dict(zip(list(features), list(lr_or_fsm.coef_[0])))\n",
    "sorted_dict1 = sorted(coef.items(), key=lambda kv: kv[1])\n",
    "sorted_dict1.reverse()\n",
    "sorted_dict1"
   ]
  },
  {
   "cell_type": "code",
   "execution_count": 70,
   "metadata": {},
   "outputs": [],
   "source": [
    "metric_dict['ORLogisticRegression'] = {'train_accuracy': metrics.accuracy_score(yo_train, train_or_pred),\n",
    "                                      'test_accuracy': metrics.accuracy_score(yo_test, test_or_pred),\n",
    "                                      'train_precision':metrics.precision_score(yo_train, train_or_pred),\n",
    "                                      'test_precision':metrics.precision_score(yo_test, test_or_pred),\n",
    "                                      'train_recall':metrics.recall_score(yo_train, train_or_pred),\n",
    "                                      'test_recall':metrics.recall_score(yo_test, test_or_pred),\n",
    "                                      'train_f1':metrics.f1_score(yo_train, train_or_pred),\n",
    "                                      'test_f1':metrics.f1_score(yo_test, test_or_pred)}"
   ]
  },
  {
   "cell_type": "code",
   "execution_count": 71,
   "metadata": {},
   "outputs": [
    {
     "data": {
      "text/plain": [
       "{'LogisticRegression': {'train_accuracy': 0.666704636063333,\n",
       "  'test_accuracy': 0.6701594533029612,\n",
       "  'train_precision': 0.3795262728015246,\n",
       "  'test_precision': 0.38218714768883877,\n",
       "  'train_recall': 0.6829985301322881,\n",
       "  'test_recall': 0.658252427184466,\n",
       "  'train_f1': 0.487924396219811,\n",
       "  'test_f1': 0.48359486447931527},\n",
       " 'URLogisticRegression': {'train_accuracy': 0.6729842061512884,\n",
       "  'test_accuracy': 0.6555851063829787,\n",
       "  'train_precision': 0.31356655290102387,\n",
       "  'test_precision': 0.28061224489795916,\n",
       "  'train_recall': 0.6724611161939615,\n",
       "  'test_recall': 0.6346153846153846,\n",
       "  'train_f1': 0.42769857433808556,\n",
       "  'test_f1': 0.3891509433962264},\n",
       " 'ORLogisticRegression': {'train_accuracy': 0.6877713458755427,\n",
       "  'test_accuracy': 0.6816208393632417,\n",
       "  'train_precision': 0.546408393866021,\n",
       "  'test_precision': 0.5084745762711864,\n",
       "  'train_recall': 0.6922290388548057,\n",
       "  'test_recall': 0.6666666666666666,\n",
       "  'train_f1': 0.6107352277852954,\n",
       "  'test_f1': 0.576923076923077}}"
      ]
     },
     "execution_count": 71,
     "metadata": {},
     "output_type": "execute_result"
    }
   ],
   "source": [
    "metric_dict"
   ]
  },
  {
   "cell_type": "markdown",
   "metadata": {},
   "source": [
    "## Decision Tree - Initial"
   ]
  },
  {
   "cell_type": "code",
   "execution_count": 279,
   "metadata": {},
   "outputs": [],
   "source": [
    "dtc_all = DecisionTreeClassifier(random_state = 20)\n",
    "\n",
    "param_dict={'max_depth': range(1,10),\n",
    "            'criterion': ['gini', 'entropy'],\n",
    "            'splitter': ['random', 'best'],\n",
    "            'max_features': ['auto', 'sqrt', 'log2']}\n",
    "\n",
    "grid_tree=GridSearchCV(dtc_all, \n",
    "                       param_dict, \n",
    "                       cv=10, \n",
    "                       scoring='f1', \n",
    "                       verbose=1, \n",
    "                       n_jobs=-1)"
   ]
  },
  {
   "cell_type": "code",
   "execution_count": 280,
   "metadata": {},
   "outputs": [
    {
     "name": "stdout",
     "output_type": "stream",
     "text": [
      "Fitting 10 folds for each of 108 candidates, totalling 1080 fits\n"
     ]
    },
    {
     "name": "stderr",
     "output_type": "stream",
     "text": [
      "[Parallel(n_jobs=-1)]: Using backend LokyBackend with 4 concurrent workers.\n",
      "[Parallel(n_jobs=-1)]: Done  44 tasks      | elapsed:    7.1s\n",
      "[Parallel(n_jobs=-1)]: Done 576 tasks      | elapsed:   15.7s\n",
      "[Parallel(n_jobs=-1)]: Done 1080 out of 1080 | elapsed:   25.7s finished\n"
     ]
    },
    {
     "data": {
      "text/plain": [
       "GridSearchCV(cv=10, estimator=DecisionTreeClassifier(random_state=20),\n",
       "             n_jobs=-1,\n",
       "             param_grid={'criterion': ['gini', 'entropy'],\n",
       "                         'max_depth': range(1, 10),\n",
       "                         'max_features': ['auto', 'sqrt', 'log2'],\n",
       "                         'splitter': ['random', 'best']},\n",
       "             scoring='f1', verbose=1)"
      ]
     },
     "execution_count": 280,
     "metadata": {},
     "output_type": "execute_result"
    }
   ],
   "source": [
    "grid_tree.fit(X_train[features],y_train)"
   ]
  },
  {
   "cell_type": "code",
   "execution_count": 281,
   "metadata": {},
   "outputs": [
    {
     "data": {
      "text/plain": [
       "[('female', 0.1554887922883592),\n",
       " ('S2SPERSON1', 0.14177925030271188),\n",
       " ('S2SENJOYS', 0.0917635897302439),\n",
       " ('asian', 0.07183058987962251),\n",
       " ('X2STU30OCC_STEM1', 0.06984361450521487),\n",
       " ('S2SSUMMERPRG', 0.036749993665495105),\n",
       " ('S2SPERSON2', 0.033879854994902044),\n",
       " ('compsci', 0.019622837597257095),\n",
       " ('S2SBORN', 0.01852457767028244),\n",
       " ('S2SCLUB', 0.018413611978510498),\n",
       " ('S2SCAREER', 0.017325348911192216),\n",
       " ('bio', 0.015782430859809893),\n",
       " ('S2SASSIGNED', 0.01434200450966142),\n",
       " ('S2SCLGSUCC', 0.01406617579715689),\n",
       " ('physics', 0.013003096979625357),\n",
       " ('S2STCHTHINK', 0.012045695300897146),\n",
       " ('S2SCHALLENGE', 0.011770484046527141),\n",
       " ('S2STCHRREC', 0.01126131318711076),\n",
       " ('S2SHSREQ', 0.011260088767690187),\n",
       " ('S2STCHEASY', 0.010867654177187278),\n",
       " ('S2SSKILLS', 0.01085927001310943),\n",
       " ('S2SPARREC', 0.010660173623360605),\n",
       " ('chem', 0.010275593151273205),\n",
       " ('S2SCOMPETE', 0.010119045843901718),\n",
       " ('S2STCHGIVEUP', 0.009456532312119051),\n",
       " ('private', 0.009439594965031052),\n",
       " ('S2SUSECLG', 0.009419211443198936),\n",
       " ('hispanic', 0.009220253491306415),\n",
       " ('S2STEXTBOOK', 0.008891043219993112),\n",
       " ('X2POVERTY185', 0.008587419791511062),\n",
       " ('S2SWASTE', 0.0080275516487384),\n",
       " ('S2SGROUP', 0.007477841522997065),\n",
       " ('S2STESTS', 0.007278150631749851),\n",
       " ('S2SUSEJOB', 0.007109038367465927),\n",
       " ('S2STCHTREAT', 0.006912187192481148),\n",
       " ('S2SASSEXCL', 0.0063068980874021454),\n",
       " ('S2SBORING', 0.006086780731064591),\n",
       " ('S2SENJOYING', 0.006065893189470952),\n",
       " ('engineering', 0.0060206273660499444),\n",
       " ('S2SUSELIFE', 0.005953480356439831),\n",
       " ('S2STUTORED', 0.005929554053345636),\n",
       " ('S2SFAMREC', 0.005492979877055605),\n",
       " ('S2SLEARN', 0.005117859959644136),\n",
       " ('S2SCLGADM', 0.004870516960151958),\n",
       " ('S2SCNSLREC', 0.0038994667061526163),\n",
       " ('S2SDOWELL', 0.0034805635707537467),\n",
       " ('black', 0.0029012882756577095),\n",
       " ('enviro', 0.002708094930017261),\n",
       " ('S2SEMPREC', 0.0025507218137623966),\n",
       " ('misc_class', 0.0020630808150332324),\n",
       " ('S2STCHINTRST', 0.0020072522693574896),\n",
       " ('S2SFRIEND', 0.001915077402327367),\n",
       " ('public', 0.0012782377256159772),\n",
       " ('multiple_race', 0.0012527724447364825),\n",
       " ('took_science_2012', 0.0007449410982661366),\n",
       " ('nh_pi', 0.0),\n",
       " ('ai_an', 0.0),\n",
       " ('white', 0.0)]"
      ]
     },
     "execution_count": 281,
     "metadata": {},
     "output_type": "execute_result"
    }
   ],
   "source": [
    "\n",
    "dtc_importance = grid_tree.best_estimator_.feature_importances_\n",
    "feature_importance = dict(zip(features, dtc_importance))\n",
    "sorted_dict = sorted(feature_importance.items(), key=lambda kv: kv[1])\n",
    "sorted_dict.reverse()\n",
    "sorted_dict"
   ]
  },
  {
   "cell_type": "code",
   "execution_count": 282,
   "metadata": {},
   "outputs": [],
   "source": [
    "\n",
    "y_pred_dtc_test = grid_tree.best_estimator_.predict(X_test[features])\n",
    "y_pred_dtc_train = grid_tree.best_estimator_.predict(X_train[features])"
   ]
  },
  {
   "cell_type": "code",
   "execution_count": 283,
   "metadata": {},
   "outputs": [],
   "source": [
    "metric_dict['DecisionTree'] = {'train_accuracy': metrics.accuracy_score(y_train, y_pred_dtc_train),\n",
    "                                  'test_accuracy': metrics.accuracy_score(y_test, y_pred_dtc_test),\n",
    "                                  'train_precision':metrics.precision_score(y_train, y_pred_dtc_train),\n",
    "                                  'test_precision':metrics.precision_score(y_test, y_pred_dtc_test),\n",
    "                                  'train_recall':metrics.recall_score(y_train, y_pred_dtc_train),\n",
    "                                  'test_recall':metrics.recall_score(y_test, y_pred_dtc_test),\n",
    "                                  'train_f1':metrics.f1_score(y_train, y_pred_dtc_train),\n",
    "                                  'test_f1':metrics.f1_score(y_test, y_pred_dtc_test)}\n"
   ]
  },
  {
   "cell_type": "code",
   "execution_count": 284,
   "metadata": {},
   "outputs": [
    {
     "data": {
      "text/plain": [
       "{'LogisticRegression': {'train_accuracy': 0.7038387060029616,\n",
       "  'test_accuracy': 0.7034168564920273,\n",
       "  'train_precision': 0.41867908059354086,\n",
       "  'test_precision': 0.4170731707317073,\n",
       "  'train_recall': 0.705046545810877,\n",
       "  'test_recall': 0.6640776699029126,\n",
       "  'train_f1': 0.5253742241694048,\n",
       "  'test_f1': 0.5123595505617977},\n",
       " 'DecisionTree': {'train_accuracy': 0.806697801571933,\n",
       "  'test_accuracy': 0.7767653758542141,\n",
       "  'train_precision': 0.6733870967741935,\n",
       "  'test_precision': 0.5581395348837209,\n",
       "  'train_recall': 0.3272905438510534,\n",
       "  'test_recall': 0.23300970873786409,\n",
       "  'train_f1': 0.4404879657105176,\n",
       "  'test_f1': 0.3287671232876712}}"
      ]
     },
     "execution_count": 284,
     "metadata": {},
     "output_type": "execute_result"
    }
   ],
   "source": [
    "metric_dict"
   ]
  },
  {
   "cell_type": "code",
   "execution_count": null,
   "metadata": {},
   "outputs": [],
   "source": []
  },
  {
   "cell_type": "markdown",
   "metadata": {},
   "source": [
    "## Grid Search LogREG"
   ]
  },
  {
   "cell_type": "code",
   "execution_count": 381,
   "metadata": {},
   "outputs": [
    {
     "name": "stdout",
     "output_type": "stream",
     "text": [
      "Fitting 3 folds for each of 160 candidates, totalling 480 fits\n"
     ]
    },
    {
     "name": "stderr",
     "output_type": "stream",
     "text": [
      "[Parallel(n_jobs=-1)]: Using backend LokyBackend with 4 concurrent workers.\n",
      "[Parallel(n_jobs=-1)]: Done  58 tasks      | elapsed:    1.3s\n",
      "[Parallel(n_jobs=-1)]: Done 300 tasks      | elapsed:   10.8s\n",
      "[Parallel(n_jobs=-1)]: Done 480 out of 480 | elapsed:   23.6s finished\n"
     ]
    },
    {
     "data": {
      "text/plain": [
       "{'C': 1, 'class_weight': 'balanced', 'max_iter': 100, 'penalty': 'l2'}"
      ]
     },
     "execution_count": 381,
     "metadata": {},
     "output_type": "execute_result"
    }
   ],
   "source": [
    "clf = LogisticRegression()\n",
    "\n",
    "param_grid = {\n",
    "    \n",
    "    'max_iter': [100, 150, 250, 500, 1000],\n",
    "    'C': [0.001, 0.01, 1, 100], \n",
    "    'class_weight': [None, 'balanced', {1:2, 0:1}, {1:10, 0:1}], \n",
    "    'penalty': ['l1', 'l2']\n",
    "}\n",
    "\n",
    "gs_LR = GridSearchCV(clf, param_grid, cv=3, scoring = 'f1', n_jobs = -1, verbose = 2)\n",
    "gs_LR.fit(X_train[features], y_train)\n",
    "\n",
    "gs_LR.best_params_"
   ]
  },
  {
   "cell_type": "code",
   "execution_count": 386,
   "metadata": {},
   "outputs": [],
   "source": [
    "lr_gs = LogisticRegression(max_iter = 100, C = 1, random_state = 20, class_weight = 'balanced')\n",
    "lr_gs.fit(X_train[features], y_train)\n",
    "\n",
    "gs_train_pred = lr_gs.predict(X_train[features])\n",
    "gs_test_pred = lr_gs.predict(X_test[features])"
   ]
  },
  {
   "cell_type": "code",
   "execution_count": 387,
   "metadata": {},
   "outputs": [
    {
     "data": {
      "text/plain": [
       "[('engineering', 0.853104749244195),\n",
       " ('asian', 0.7810366266337229),\n",
       " ('X2STU30OCC_STEM1', 0.5892024529104304),\n",
       " ('compsci', 0.5623633009829604),\n",
       " ('S2SSUMMERPRG', 0.5364783521444684),\n",
       " ('S2SUSEJOB', 0.40778896223232414),\n",
       " ('S2SPERSON1', 0.3426164836707161),\n",
       " ('S2SCAREER', 0.3318294018325517),\n",
       " ('S2SPERSON2', 0.3124827040112093),\n",
       " ('physics', 0.30976708853464296),\n",
       " ('S2SCLUB', 0.2843091419838224),\n",
       " ('S2SENJOYS', 0.25652094041575363),\n",
       " ('chem', 0.21813825294027905),\n",
       " ('S2SPARREC', 0.1328488154627956),\n",
       " ('S2STCHEASY', 0.13132154878437605),\n",
       " ('S2SCOMPETE', 0.12429120125079492),\n",
       " ('S2SCHALLENGE', 0.10111060632371525),\n",
       " ('S2STEXTBOOK', 0.09620425462567227),\n",
       " ('S2SDOWELL', 0.08474941036978709),\n",
       " ('S2SUSELIFE', 0.03486828610540982),\n",
       " ('public', 0.03306374974129181),\n",
       " ('S2STESTS', 0.029403084736447618),\n",
       " ('nh_pi', 0.02778197878678847),\n",
       " ('S2SBORN', 0.027467707078547662),\n",
       " ('S2SFRIEND', 0.012143402058317015),\n",
       " ('bio', 0.010076881416170181),\n",
       " ('S2SCLGSUCC', 0.009525867912227218),\n",
       " ('S2STCHTHINK', 0.0016021390962491539),\n",
       " ('enviro', -0.008133089978709008),\n",
       " ('S2SUSECLG', -0.010887791384219875),\n",
       " ('S2SASSEXCL', -0.021930963214167522),\n",
       " ('S2SSKILLS', -0.022001946769672875),\n",
       " ('S2SLEARN', -0.022636816151261684),\n",
       " ('S2SGROUP', -0.025797635271428268),\n",
       " ('S2SBORING', -0.0411591368664248),\n",
       " ('S2SFAMREC', -0.04720802822144958),\n",
       " ('S2STCHINTRST', -0.054300491347648014),\n",
       " ('S2SEMPREC', -0.06159956558435219),\n",
       " ('X2POVERTY185', -0.06329889643663915),\n",
       " ('multiple_race', -0.06434590299879643),\n",
       " ('S2STCHTREAT', -0.06473775408438764),\n",
       " ('hispanic', -0.06799641820406584),\n",
       " ('S2SHSREQ', -0.0787832120286558),\n",
       " ('ai_an', -0.09847998550423588),\n",
       " ('S2SENJOYING', -0.10467674664178135),\n",
       " ('S2STCHRREC', -0.1175892776461598),\n",
       " ('took_science_2012', -0.12115888549223335),\n",
       " ('S2SCLGADM', -0.12907985471484024),\n",
       " ('S2SCNSLREC', -0.13289486113177745),\n",
       " ('S2SWASTE', -0.1389896444285973),\n",
       " ('S2STCHGIVEUP', -0.16322158059825684),\n",
       " ('white', -0.1656165701206963),\n",
       " ('S2SASSIGNED', -0.21427335796855065),\n",
       " ('S2STUTORED', -0.2712009983931413),\n",
       " ('misc_class', -0.3408708429774084),\n",
       " ('black', -0.4090892889408532),\n",
       " ('female', -1.0462547243579925)]"
      ]
     },
     "execution_count": 387,
     "metadata": {},
     "output_type": "execute_result"
    }
   ],
   "source": [
    "coef_gs = dict(zip(list(features), list(lr_gs.coef_[0])))\n",
    "sorted_dict = sorted(coef_gs.items(), key=lambda kv: kv[1])\n",
    "sorted_dict.reverse()\n",
    "sorted_dict\n"
   ]
  },
  {
   "cell_type": "code",
   "execution_count": 388,
   "metadata": {},
   "outputs": [],
   "source": [
    "\n",
    "metric_dict['GS_LogisticRegression'] = {'train_accuracy': metrics.accuracy_score(y_train, gs_train_pred),\n",
    "                                      'test_accuracy': metrics.accuracy_score(y_test, gs_test_pred),\n",
    "                                      'train_precision':metrics.precision_score(y_train, gs_train_pred),\n",
    "                                      'test_precision':metrics.precision_score(y_test, gs_test_pred),\n",
    "                                      'train_recall':metrics.recall_score(y_train, gs_train_pred),\n",
    "                                      'test_recall':metrics.recall_score(y_test, gs_test_pred),\n",
    "                                      'train_f1':metrics.f1_score(y_train, gs_train_pred),\n",
    "                                      'test_f1':metrics.f1_score(y_test, gs_test_pred)}"
   ]
  },
  {
   "cell_type": "code",
   "execution_count": 389,
   "metadata": {},
   "outputs": [
    {
     "data": {
      "text/plain": [
       "{'LogisticRegression': {'train_accuracy': 0.7038387060029616,\n",
       "  'test_accuracy': 0.7034168564920273,\n",
       "  'train_precision': 0.41877361232199944,\n",
       "  'test_precision': 0.4170731707317073,\n",
       "  'train_recall': 0.7060264576188143,\n",
       "  'test_recall': 0.6640776699029126,\n",
       "  'train_f1': 0.5257205399489238,\n",
       "  'test_f1': 0.5123595505617977},\n",
       " 'GS_LogisticRegression': {'train_accuracy': 0.7038387060029616,\n",
       "  'test_accuracy': 0.7034168564920273,\n",
       "  'train_precision': 0.41877361232199944,\n",
       "  'test_precision': 0.4170731707317073,\n",
       "  'train_recall': 0.7060264576188143,\n",
       "  'test_recall': 0.6640776699029126,\n",
       "  'train_f1': 0.5257205399489238,\n",
       "  'test_f1': 0.5123595505617977},\n",
       " 'KBEST_LogisticRegression': {'train_accuracy': 0.685499487413145,\n",
       "  'test_accuracy': 0.6829157175398634,\n",
       "  'train_precision': 0.4007170435741864,\n",
       "  'test_precision': 0.3960964408725603,\n",
       "  'train_recall': 0.7119059284664381,\n",
       "  'test_recall': 0.6699029126213593,\n",
       "  'train_f1': 0.5127933650961709,\n",
       "  'test_f1': 0.4978354978354978},\n",
       " 'SMOTE_LogisticRegression': {'train_accuracy': 0.7631344612644702,\n",
       "  'test_accuracy': 0.7225512528473804,\n",
       "  'train_precision': 0.7638392857142857,\n",
       "  'test_precision': 0.4287878787878788,\n",
       "  'train_recall': 0.7617987533392698,\n",
       "  'test_recall': 0.5495145631067961,\n",
       "  'train_f1': 0.7628176549264378,\n",
       "  'test_f1': 0.4817021276595745},\n",
       " 'TOMEK_LogisticRegression': {'train_accuracy': 0.7934422483719867,\n",
       "  'test_accuracy': 0.7963553530751708,\n",
       "  'train_precision': 0.6278814489571899,\n",
       "  'test_precision': 0.6545454545454545,\n",
       "  'train_recall': 0.2802547770700637,\n",
       "  'test_recall': 0.2796116504854369,\n",
       "  'train_f1': 0.3875338753387534,\n",
       "  'test_f1': 0.39183673469387753}}"
      ]
     },
     "execution_count": 389,
     "metadata": {},
     "output_type": "execute_result"
    }
   ],
   "source": [
    "metric_dict"
   ]
  },
  {
   "cell_type": "markdown",
   "metadata": {},
   "source": [
    "### GridSearch UR"
   ]
  },
  {
   "cell_type": "code",
   "execution_count": 322,
   "metadata": {},
   "outputs": [
    {
     "data": {
      "text/plain": [
       "{'C': 1, 'max_iter': 5000}"
      ]
     },
     "execution_count": 322,
     "metadata": {},
     "output_type": "execute_result"
    }
   ],
   "source": [
    "clf = LogisticRegression()\n",
    "\n",
    "param_grid = {\n",
    "    \n",
    "    'max_iter': [5000, 10000, 50000, 100000],\n",
    "    'C': [0.00001, 0.001, 1, 100, 10000, 1000000]\n",
    "}\n",
    "\n",
    "gs_LR_ur = GridSearchCV(clf, param_grid, cv=5)\n",
    "gs_LR_ur.fit(Xu_train[features], yu_train)\n",
    "\n",
    "gs_LR_ur.best_params_"
   ]
  },
  {
   "cell_type": "code",
   "execution_count": 323,
   "metadata": {},
   "outputs": [],
   "source": [
    "lr_ur_gs = LogisticRegression(max_iter = 5000, C = 1, random_state = 20, class_weight = 'balanced')\n",
    "lr_ur_gs.fit(Xu_train[features], yu_train)\n",
    "\n",
    "gstrain_ur_pred = lr_ur_gs.predict(Xu_train[features])\n",
    "gstest_ur_pred = lr_ur_gs.predict(Xu_test[features])\n"
   ]
  },
  {
   "cell_type": "code",
   "execution_count": 324,
   "metadata": {},
   "outputs": [
    {
     "data": {
      "text/plain": [
       "[('asian', 0.8112040796187215),\n",
       " ('engineering', 0.704193955348958),\n",
       " ('S2SSUMMERPRG', 0.48653055850200383),\n",
       " ('compsci', 0.46904405050842013),\n",
       " ('physics', 0.463246977002566),\n",
       " ('X2STU30OCC_STEM1', 0.4599045099955091),\n",
       " ('S2SCLUB', 0.43287571791860346),\n",
       " ('S2SCAREER', 0.43259584929389194),\n",
       " ('S2SPERSON1', 0.34618477294175265),\n",
       " ('S2SPERSON2', 0.3359474520493568),\n",
       " ('S2SENJOYS', 0.21906247092169326),\n",
       " ('S2SUSEJOB', 0.2114133582139897),\n",
       " ('S2SUSELIFE', 0.21139530486503352),\n",
       " ('chem', 0.19195648967656473),\n",
       " ('S2STEXTBOOK', 0.18081133101430652),\n",
       " ('S2SCHALLENGE', 0.18048649851771298),\n",
       " ('S2SCOMPETE', 0.16970701196764676),\n",
       " ('nh_pi', 0.15593798176241208),\n",
       " ('S2SDOWELL', 0.08192550531214719),\n",
       " ('public', 0.08052686995262145),\n",
       " ('S2STCHGIVEUP', 0.07603750416146897),\n",
       " ('S2SPARREC', 0.07248354935233034),\n",
       " ('S2SBORN', 0.05572863112986972),\n",
       " ('enviro', 0.043537746472446445),\n",
       " ('took_science_2012', 0.04187690137170804),\n",
       " ('S2SASSEXCL', 0.03626163777884671),\n",
       " ('S2STESTS', 0.03530834823810092),\n",
       " ('S2SGROUP', 0.034415350499078165),\n",
       " ('bio', 0.0315742496547777),\n",
       " ('S2SCLGSUCC', 0.021116997708234747),\n",
       " ('S2SSKILLS', 0.0005517658920696152),\n",
       " ('S2STCHEASY', -0.0026621807006401658),\n",
       " ('S2SCLGADM', -0.012940780553842506),\n",
       " ('multiple_race', -0.026441714854930774),\n",
       " ('S2SWASTE', -0.030718880385074143),\n",
       " ('S2SFRIEND', -0.03593721194316188),\n",
       " ('S2SBORING', -0.04115308029456125),\n",
       " ('S2STCHRREC', -0.04153725314874443),\n",
       " ('S2SFAMREC', -0.05223147222624018),\n",
       " ('hispanic', -0.057752267777772155),\n",
       " ('S2STCHINTRST', -0.06313676654939064),\n",
       " ('X2POVERTY185', -0.06564767552573242),\n",
       " ('S2SLEARN', -0.0838157907675972),\n",
       " ('S2SENJOYING', -0.11863058677475936),\n",
       " ('S2STCHTREAT', -0.11960889468246998),\n",
       " ('S2SHSREQ', -0.14783870561399662),\n",
       " ('S2SUSECLG', -0.18637133477447798),\n",
       " ('S2STUTORED', -0.22353409754636772),\n",
       " ('S2SASSIGNED', -0.22647806503808154),\n",
       " ('S2STCHTHINK', -0.24824780807098898),\n",
       " ('black', -0.2671571561922297),\n",
       " ('white', -0.2726483901400855),\n",
       " ('S2SCNSLREC', -0.27827106253117356),\n",
       " ('ai_an', -0.35610302090635515),\n",
       " ('S2SEMPREC', -0.4892811509538824),\n",
       " ('misc_class', -0.6536721782319589),\n",
       " ('female', -0.9611850929628131)]"
      ]
     },
     "execution_count": 324,
     "metadata": {},
     "output_type": "execute_result"
    }
   ],
   "source": [
    "coef_gs_ur = dict(zip(list(features), list(lr_ur_gs.coef_[0])))\n",
    "sorted_dict2 = sorted(coef_gs_ur.items(), key=lambda kv: kv[1])\n",
    "sorted_dict2.reverse()\n",
    "sorted_dict2"
   ]
  },
  {
   "cell_type": "code",
   "execution_count": 136,
   "metadata": {},
   "outputs": [],
   "source": [
    "metric_dict['GS_URLogisticRegression'] = {'train_accuracy': metrics.accuracy_score(yu_train, gstrain_ur_pred),\n",
    "                                      'test_accuracy': metrics.accuracy_score(yu_test, gstest_ur_pred),\n",
    "                                      'train_precision':metrics.precision_score(yu_train, gstrain_ur_pred),\n",
    "                                      'test_precision':metrics.precision_score(yu_test, gstest_ur_pred),\n",
    "                                      'train_recall':metrics.recall_score(yu_train, gstrain_ur_pred),\n",
    "                                      'test_recall':metrics.recall_score(yu_test, gstest_ur_pred),\n",
    "                                      'train_f1':metrics.f1_score(yu_train, gstrain_ur_pred),\n",
    "                                      'test_f1':metrics.f1_score(yu_test, gstest_ur_pred)}"
   ]
  },
  {
   "cell_type": "code",
   "execution_count": 144,
   "metadata": {},
   "outputs": [
    {
     "data": {
      "text/plain": [
       "{'LogisticRegression': {'train_accuracy': 0.6668185442533319,\n",
       "  'test_accuracy': 0.6706150341685649,\n",
       "  'train_precision': 0.37962962962962965,\n",
       "  'test_precision': 0.38261851015801357,\n",
       "  'train_recall': 0.6829985301322881,\n",
       "  'test_recall': 0.658252427184466,\n",
       "  'train_f1': 0.48800980220549633,\n",
       "  'test_f1': 0.48394004282655245},\n",
       " 'GS_LogisticRegression': {'train_accuracy': 0.666704636063333,\n",
       "  'test_accuracy': 0.6701594533029612,\n",
       "  'train_precision': 0.3795262728015246,\n",
       "  'test_precision': 0.38218714768883877,\n",
       "  'train_recall': 0.6829985301322881,\n",
       "  'test_recall': 0.658252427184466,\n",
       "  'train_f1': 0.487924396219811,\n",
       "  'test_f1': 0.48359486447931527},\n",
       " 'GS_URLogisticRegression': {'train_accuracy': 0.6731504571903575,\n",
       "  'test_accuracy': 0.6549202127659575,\n",
       "  'train_precision': 0.3138592750533049,\n",
       "  'test_precision': 0.2801358234295416,\n",
       "  'train_recall': 0.6733760292772186,\n",
       "  'test_recall': 0.6346153846153846,\n",
       "  'train_f1': 0.42815590459569514,\n",
       "  'test_f1': 0.38869257950530034},\n",
       " 'URLogisticRegression': {'train_accuracy': 0.6729842061512884,\n",
       "  'test_accuracy': 0.6555851063829787,\n",
       "  'train_precision': 0.31356655290102387,\n",
       "  'test_precision': 0.28061224489795916,\n",
       "  'train_recall': 0.6724611161939615,\n",
       "  'test_recall': 0.6346153846153846,\n",
       "  'train_f1': 0.42769857433808556,\n",
       "  'test_f1': 0.3891509433962264}}"
      ]
     },
     "execution_count": 144,
     "metadata": {},
     "output_type": "execute_result"
    }
   ],
   "source": [
    "metric_dict"
   ]
  },
  {
   "cell_type": "markdown",
   "metadata": {},
   "source": [
    "## SELECT KBEST"
   ]
  },
  {
   "cell_type": "code",
   "execution_count": 325,
   "metadata": {},
   "outputs": [
    {
     "data": {
      "text/plain": [
       "SelectKBest(k=20, score_func=<function f_regression at 0x1a1661eea0>)"
      ]
     },
     "execution_count": 325,
     "metadata": {},
     "output_type": "execute_result"
    }
   ],
   "source": [
    "selector = SelectKBest(f_regression, k = 20)\n",
    "selector.fit(X_train[features], y_train)"
   ]
  },
  {
   "cell_type": "code",
   "execution_count": 326,
   "metadata": {},
   "outputs": [],
   "source": [
    "selected_columns = X_train[features].columns[selector.get_support()]"
   ]
  },
  {
   "cell_type": "code",
   "execution_count": 327,
   "metadata": {},
   "outputs": [
    {
     "data": {
      "text/plain": [
       "Index(['S2SCLUB', 'S2SCOMPETE', 'S2SSUMMERPRG', 'S2SPERSON1', 'S2SPERSON2',\n",
       "       'S2SUSELIFE', 'S2SUSEJOB', 'S2SENJOYING', 'S2STESTS', 'S2STEXTBOOK',\n",
       "       'S2SSKILLS', 'S2STCHEASY', 'S2SENJOYS', 'S2SCHALLENGE', 'S2SCLGSUCC',\n",
       "       'S2SCAREER', 'S2SDOWELL', 'X2STU30OCC_STEM1', 'female', 'asian'],\n",
       "      dtype='object')"
      ]
     },
     "execution_count": 327,
     "metadata": {},
     "output_type": "execute_result"
    }
   ],
   "source": [
    "selected_columns"
   ]
  },
  {
   "cell_type": "code",
   "execution_count": 328,
   "metadata": {},
   "outputs": [],
   "source": [
    "lr_kbest = LogisticRegression(max_iter = 5000, C = 100, class_weight = 'balanced', random_state =20)\n",
    "\n",
    "lr_kbest.fit(X_train[selected_columns], y_train)\n",
    "kbest_train_pred = lr_kbest.predict(X_train[selected_columns])\n",
    "kbest_test_pred= lr_kbest.predict(X_test[selected_columns])"
   ]
  },
  {
   "cell_type": "code",
   "execution_count": null,
   "metadata": {},
   "outputs": [],
   "source": []
  },
  {
   "cell_type": "code",
   "execution_count": 329,
   "metadata": {},
   "outputs": [
    {
     "data": {
      "text/plain": [
       "[('asian', 0.9747497403606082),\n",
       " ('X2STU30OCC_STEM1', 0.6202487198147512),\n",
       " ('S2SSUMMERPRG', 0.49888895515117476),\n",
       " ('S2SUSEJOB', 0.4019383705343208),\n",
       " ('S2SPERSON1', 0.40089181991633566),\n",
       " ('S2SPERSON2', 0.35395847687927107),\n",
       " ('S2SCAREER', 0.3163602141341),\n",
       " ('S2SCLUB', 0.2962142391455902),\n",
       " ('S2SENJOYS', 0.24054531981894503),\n",
       " ('S2SCOMPETE', 0.17332623367807973),\n",
       " ('S2SCHALLENGE', 0.12988896175376316),\n",
       " ('S2STEXTBOOK', 0.0897175262464588),\n",
       " ('S2SUSELIFE', 0.0329451917238749),\n",
       " ('S2SDOWELL', 0.014031001710456636),\n",
       " ('S2STCHEASY', 0.01060488605352337),\n",
       " ('S2SSKILLS', 0.0018908274581112357),\n",
       " ('S2STESTS', 0.000541510396906365),\n",
       " ('S2SENJOYING', -0.040280256839325464),\n",
       " ('S2SCLGSUCC', -0.12515408622126095),\n",
       " ('female', -1.0956197368617089)]"
      ]
     },
     "execution_count": 329,
     "metadata": {},
     "output_type": "execute_result"
    }
   ],
   "source": [
    "coef_kbest = dict(zip(list(selected_columns), list(lr_kbest.coef_[0])))\n",
    "sorted_dict3 = sorted(coef_kbest.items(), key=lambda kv: kv[1])\n",
    "sorted_dict3.reverse()\n",
    "sorted_dict3"
   ]
  },
  {
   "cell_type": "code",
   "execution_count": 330,
   "metadata": {},
   "outputs": [],
   "source": [
    "metric_dict['KBEST_LogisticRegression'] = {'train_accuracy': metrics.accuracy_score(y_train, kbest_train_pred),\n",
    "                                      'test_accuracy': metrics.accuracy_score(y_test, kbest_test_pred),\n",
    "                                      'train_precision':metrics.precision_score(y_train, kbest_train_pred),\n",
    "                                      'test_precision':metrics.precision_score(y_test, kbest_test_pred),\n",
    "                                      'train_recall':metrics.recall_score(y_train, kbest_train_pred),\n",
    "                                      'test_recall':metrics.recall_score(y_test, kbest_test_pred),\n",
    "                                      'train_f1':metrics.f1_score(y_train, kbest_train_pred),\n",
    "                                      'test_f1':metrics.f1_score(y_test, kbest_test_pred)}"
   ]
  },
  {
   "cell_type": "code",
   "execution_count": 331,
   "metadata": {},
   "outputs": [
    {
     "data": {
      "text/plain": [
       "{'LogisticRegression': {'train_accuracy': 0.7038387060029616,\n",
       "  'test_accuracy': 0.7034168564920273,\n",
       "  'train_precision': 0.41877361232199944,\n",
       "  'test_precision': 0.4170731707317073,\n",
       "  'train_recall': 0.7060264576188143,\n",
       "  'test_recall': 0.6640776699029126,\n",
       "  'train_f1': 0.5257205399489238,\n",
       "  'test_f1': 0.5123595505617977},\n",
       " 'GS_LogisticRegression': {'train_accuracy': 0.7038387060029616,\n",
       "  'test_accuracy': 0.7034168564920273,\n",
       "  'train_precision': 0.41877361232199944,\n",
       "  'test_precision': 0.4170731707317073,\n",
       "  'train_recall': 0.7060264576188143,\n",
       "  'test_recall': 0.6640776699029126,\n",
       "  'train_f1': 0.5257205399489238,\n",
       "  'test_f1': 0.5123595505617977},\n",
       " 'KBEST_LogisticRegression': {'train_accuracy': 0.685499487413145,\n",
       "  'test_accuracy': 0.6829157175398634,\n",
       "  'train_precision': 0.4007170435741864,\n",
       "  'test_precision': 0.3960964408725603,\n",
       "  'train_recall': 0.7119059284664381,\n",
       "  'test_recall': 0.6699029126213593,\n",
       "  'train_f1': 0.5127933650961709,\n",
       "  'test_f1': 0.4978354978354978}}"
      ]
     },
     "execution_count": 331,
     "metadata": {},
     "output_type": "execute_result"
    }
   ],
   "source": [
    "metric_dict"
   ]
  },
  {
   "cell_type": "markdown",
   "metadata": {},
   "source": [
    "## Viz of Results"
   ]
  },
  {
   "cell_type": "code",
   "execution_count": 332,
   "metadata": {},
   "outputs": [],
   "source": [
    "coef_model = dict(zip(list(features), list(abs(lr_gs.coef_[0]))))\n",
    "viz_dict = sorted(coef_model.items(), key=lambda kv: kv[1])\n",
    "viz_dict.reverse()\n",
    "\n",
    "top_ten = viz_dict[:10]\n",
    "coefs_df = pd.DataFrame(data = top_ten, columns = ['feature', 'coefficient_value'])"
   ]
  },
  {
   "cell_type": "code",
   "execution_count": 335,
   "metadata": {},
   "outputs": [
    {
     "data": {
      "text/plain": [
       "<matplotlib.axes._subplots.AxesSubplot at 0x1a18811080>"
      ]
     },
     "execution_count": 335,
     "metadata": {},
     "output_type": "execute_result"
    },
    {
     "data": {
      "image/png": "[encoded data removed]",
      "text/plain": [
       "<Figure size 432x288 with 1 Axes>"
      ]
     },
     "metadata": {
      "needs_background": "light"
     },
     "output_type": "display_data"
    }
   ],
   "source": [
    "clrs = ['red' if x == 'female' else 'red' if x == 'black' else 'red' if x== 'misc_class' else 'lightgreen' for x in coefs_df['feature']]\n",
    "sns.barplot(x ='coefficient_value', y = 'feature', data = coefs_df, palette = clrs)\n"
   ]
  },
  {
   "cell_type": "code",
   "execution_count": 334,
   "metadata": {},
   "outputs": [
    {
     "data": {
      "text/plain": [
       "engineering  target\n",
       "0            0         8326\n",
       "             1         2446\n",
       "1            1          110\n",
       "             0           92\n",
       "Name: target, dtype: int64"
      ]
     },
     "execution_count": 334,
     "metadata": {},
     "output_type": "execute_result"
    }
   ],
   "source": [
    "modeling_df.groupby(by = ['engineering'])['target'].value_counts(normalize = False)"
   ]
  },
  {
   "cell_type": "code",
   "execution_count": null,
   "metadata": {},
   "outputs": [],
   "source": [
    "\n",
    "\n"
   ]
  },
  {
   "cell_type": "markdown",
   "metadata": {},
   "source": [
    "## Class Imbalance Techniques"
   ]
  },
  {
   "cell_type": "code",
   "execution_count": 339,
   "metadata": {},
   "outputs": [
    {
     "data": {
      "text/plain": [
       "0    8418\n",
       "1    2556\n",
       "Name: target, dtype: int64"
      ]
     },
     "execution_count": 339,
     "metadata": {},
     "output_type": "execute_result"
    }
   ],
   "source": [
    "modeling_df.target.value_counts(normalize = False)"
   ]
  },
  {
   "cell_type": "markdown",
   "metadata": {},
   "source": [
    "## SMOTE"
   ]
  },
  {
   "cell_type": "code",
   "execution_count": 340,
   "metadata": {},
   "outputs": [],
   "source": [
    "from imblearn.over_sampling import SMOTE"
   ]
  },
  {
   "cell_type": "code",
   "execution_count": 347,
   "metadata": {},
   "outputs": [],
   "source": [
    "smote = SMOTE()\n",
    "X_train_smote, y_train_smote = smote.fit_sample(X_train, y_train)\n",
    "\n",
    "LR_smote = LogisticRegression(C = 1, max_iter = 1000, random_state = 20)\n",
    "LR_smote.fit(X_train_smote[features], y_train_smote)\n",
    "\n",
    "smote_train_pred = LR_smote.predict(X_train_smote[features])\n",
    "smote_test_pred = LR_smote.predict(X_test[features])"
   ]
  },
  {
   "cell_type": "code",
   "execution_count": 360,
   "metadata": {},
   "outputs": [
    {
     "data": {
      "text/plain": [
       "[('took_science_2012', 0.39985531428496995),\n",
       " ('S2SUSEJOB', 0.3984085352380933),\n",
       " ('engineering', 0.37660743958284515),\n",
       " ('X2STU30OCC_STEM1', 0.3647093149452947),\n",
       " ('S2SPERSON1', 0.3511653890691704),\n",
       " ('S2SPERSON2', 0.32040936223896055),\n",
       " ('S2SDOWELL', 0.2770258165029311),\n",
       " ('S2SCAREER', 0.2643382882503973),\n",
       " ('S2SENJOYS', 0.25835140093128967),\n",
       " ('physics', 0.2563166318714798),\n",
       " ('S2SSUMMERPRG', 0.25525426889425645),\n",
       " ('chem', 0.24776128900350772),\n",
       " ('S2SEMPREC', 0.20850298590099534),\n",
       " ('S2SCLGSUCC', 0.1555142819152787),\n",
       " ('S2SCHALLENGE', 0.11915722451696496),\n",
       " ('S2STCHEASY', 0.11311685242251798),\n",
       " ('S2SUSECLG', 0.09495033129022765),\n",
       " ('compsci', 0.07253361960552857),\n",
       " ('S2SSKILLS', 0.055990413645953585),\n",
       " ('S2SCLUB', 0.025608719644789207),\n",
       " ('S2SPARREC', 0.002784060783522842),\n",
       " ('S2STEXTBOOK', -0.025646565311913297),\n",
       " ('S2STESTS', -0.035319513528605816),\n",
       " ('S2STCHTHINK', -0.046712948898992204),\n",
       " ('S2SASSEXCL', -0.05815540866646827),\n",
       " ('S2SCLGADM', -0.08836916987194854),\n",
       " ('S2STCHRREC', -0.11619353294990568),\n",
       " ('S2STCHINTRST', -0.1210023461088329),\n",
       " ('S2SUSELIFE', -0.13865458479016018),\n",
       " ('S2SCOMPETE', -0.16791395616687413),\n",
       " ('bio', -0.1687196445893866),\n",
       " ('public', -0.21832992553859526),\n",
       " ('S2SFAMREC', -0.24300095602657604),\n",
       " ('enviro', -0.24356354582362455),\n",
       " ('S2STCHGIVEUP', -0.266472506026385),\n",
       " ('S2SHSREQ', -0.2676496063828847),\n",
       " ('S2SFRIEND', -0.2750327753967123),\n",
       " ('S2SCNSLREC', -0.3258905186801307),\n",
       " ('S2SLEARN', -0.3411291080017564),\n",
       " ('S2SGROUP', -0.35574900524658687),\n",
       " ('S2SASSIGNED', -0.3848161239803135),\n",
       " ('S2SBORN', -0.47405506188383667),\n",
       " ('S2SENJOYING', -0.5104607922068205),\n",
       " ('S2STCHTREAT', -0.531910398231807),\n",
       " ('S2SWASTE', -0.5629550312239953),\n",
       " ('X2POVERTY185', -0.608430923285208),\n",
       " ('S2SBORING', -0.7931188489510977),\n",
       " ('S2STUTORED', -0.8498281399158183),\n",
       " ('misc_class', -0.8765979496306868),\n",
       " ('female', -1.4777175159704832),\n",
       " ('asian', -2.241469645618829),\n",
       " ('white', -3.280681306706465),\n",
       " ('hispanic', -3.3336839182273734),\n",
       " ('nh_pi', -3.4639882253328222),\n",
       " ('multiple_race', -3.4828723856509454),\n",
       " ('ai_an', -3.48868638360855),\n",
       " ('black', -3.9467878961518856)]"
      ]
     },
     "execution_count": 360,
     "metadata": {},
     "output_type": "execute_result"
    }
   ],
   "source": [
    "coef_smote = dict(zip(list(features), list(LR_smote.coef_[0])))\n",
    "sorted_dict_smote = sorted(coef_smote.items(), key=lambda kv: kv[1])\n",
    "sorted_dict_smote.reverse()\n",
    "sorted_dict_smote"
   ]
  },
  {
   "cell_type": "code",
   "execution_count": 357,
   "metadata": {},
   "outputs": [
    {
     "data": {
      "text/plain": [
       "8779"
      ]
     },
     "execution_count": 357,
     "metadata": {},
     "output_type": "execute_result"
    }
   ],
   "source": []
  },
  {
   "cell_type": "code",
   "execution_count": 358,
   "metadata": {},
   "outputs": [],
   "source": [
    "metric_dict['SMOTE_LogisticRegression'] = {'train_accuracy': metrics.accuracy_score(y_train_smote, smote_train_pred),\n",
    "                                      'test_accuracy': metrics.accuracy_score(y_test, smote_test_pred),\n",
    "                                      'train_precision':metrics.precision_score(y_train_smote, smote_train_pred),\n",
    "                                      'test_precision':metrics.precision_score(y_test, smote_test_pred),\n",
    "                                      'train_recall':metrics.recall_score(y_train_smote, smote_train_pred),\n",
    "                                      'test_recall':metrics.recall_score(y_test, smote_test_pred),\n",
    "                                      'train_f1':metrics.f1_score(y_train_smote, smote_train_pred),\n",
    "                                      'test_f1':metrics.f1_score(y_test, smote_test_pred)\n",
    "                                          }"
   ]
  },
  {
   "cell_type": "code",
   "execution_count": 359,
   "metadata": {},
   "outputs": [
    {
     "data": {
      "text/plain": [
       "{'LogisticRegression': {'train_accuracy': 0.7038387060029616,\n",
       "  'test_accuracy': 0.7034168564920273,\n",
       "  'train_precision': 0.41877361232199944,\n",
       "  'test_precision': 0.4170731707317073,\n",
       "  'train_recall': 0.7060264576188143,\n",
       "  'test_recall': 0.6640776699029126,\n",
       "  'train_f1': 0.5257205399489238,\n",
       "  'test_f1': 0.5123595505617977},\n",
       " 'GS_LogisticRegression': {'train_accuracy': 0.7038387060029616,\n",
       "  'test_accuracy': 0.7034168564920273,\n",
       "  'train_precision': 0.41877361232199944,\n",
       "  'test_precision': 0.4170731707317073,\n",
       "  'train_recall': 0.7060264576188143,\n",
       "  'test_recall': 0.6640776699029126,\n",
       "  'train_f1': 0.5257205399489238,\n",
       "  'test_f1': 0.5123595505617977},\n",
       " 'KBEST_LogisticRegression': {'train_accuracy': 0.685499487413145,\n",
       "  'test_accuracy': 0.6829157175398634,\n",
       "  'train_precision': 0.4007170435741864,\n",
       "  'test_precision': 0.3960964408725603,\n",
       "  'train_recall': 0.7119059284664381,\n",
       "  'test_recall': 0.6699029126213593,\n",
       "  'train_f1': 0.5127933650961709,\n",
       "  'test_f1': 0.4978354978354978},\n",
       " 'SMOTE_LogisticRegression': {'train_accuracy': 0.7631344612644702,\n",
       "  'test_accuracy': 0.7225512528473804,\n",
       "  'train_precision': 0.7638392857142857,\n",
       "  'test_precision': 0.4287878787878788,\n",
       "  'train_recall': 0.7617987533392698,\n",
       "  'test_recall': 0.5495145631067961,\n",
       "  'train_f1': 0.7628176549264378,\n",
       "  'test_f1': 0.4817021276595745}}"
      ]
     },
     "execution_count": 359,
     "metadata": {},
     "output_type": "execute_result"
    }
   ],
   "source": [
    "metric_dict"
   ]
  },
  {
   "cell_type": "markdown",
   "metadata": {},
   "source": [
    "## TOMEK LINKS"
   ]
  },
  {
   "cell_type": "code",
   "execution_count": 370,
   "metadata": {},
   "outputs": [],
   "source": [
    "from imblearn.under_sampling import TomekLinks\n",
    "tl = TomekLinks()\n",
    "X_train_tomek, y_train_tomek = tl.fit_resample(X_train, y_train)\n",
    "\n",
    "LR_tomek = LogisticRegression(C = 100, max_iter = 150, random_state = 20)\n",
    "LR_tomek.fit(X_train_tomek[features], y_train_tomek)\n",
    "\n",
    "tomek_train_pred = LR_tomek.predict(X_train_tomek[features])\n",
    "tomek_test_pred = LR_tomek.predict(X_test[features])"
   ]
  },
  {
   "cell_type": "code",
   "execution_count": 371,
   "metadata": {},
   "outputs": [
    {
     "data": {
      "text/plain": [
       "[('engineering', 0.8723915830289376),\n",
       " ('X2STU30OCC_STEM1', 0.6070018523526881),\n",
       " ('compsci', 0.5876434876493022),\n",
       " ('S2SSUMMERPRG', 0.5590555083755107),\n",
       " ('asian', 0.5060969718816933),\n",
       " ('S2SUSEJOB', 0.418376072861993),\n",
       " ('S2SPERSON1', 0.35130559276186524),\n",
       " ('S2SPERSON2', 0.31065504185851023),\n",
       " ('physics', 0.30890769056250705),\n",
       " ('S2SCAREER', 0.307807397504098),\n",
       " ('S2SCLUB', 0.26185260089999624),\n",
       " ('S2SENJOYS', 0.23296747279501007),\n",
       " ('chem', 0.21782539680398966),\n",
       " ('S2SCOMPETE', 0.1656211550914959),\n",
       " ('S2SPARREC', 0.1616894374935545),\n",
       " ('S2STCHEASY', 0.1426884958774226),\n",
       " ('S2SCHALLENGE', 0.1272864695885108),\n",
       " ('S2STEXTBOOK', 0.10337862155832893),\n",
       " ('S2SDOWELL', 0.07191957254181218),\n",
       " ('S2SCLGSUCC', 0.026537528894170357),\n",
       " ('public', 0.02043872089126251),\n",
       " ('S2SUSELIFE', 0.02041518660542837),\n",
       " ('S2SUSECLG', 0.015600259990507721),\n",
       " ('S2SFRIEND', 0.01467043528691682),\n",
       " ('S2SBORN', 0.010883709185406485),\n",
       " ('S2STCHTHINK', 0.005665358067258459),\n",
       " ('S2STESTS', 0.0017530183044296003),\n",
       " ('S2SSKILLS', 0.00040262490086786395),\n",
       " ('S2SEMPREC', -0.022885028866190715),\n",
       " ('enviro', -0.024887131565331285),\n",
       " ('S2SBORING', -0.0286415086306638),\n",
       " ('bio', -0.030500740531698326),\n",
       " ('S2SLEARN', -0.0325837940302297),\n",
       " ('S2STCHINTRST', -0.04676843889353913),\n",
       " ('S2SASSEXCL', -0.05350504014395963),\n",
       " ('S2SGROUP', -0.05515376063446741),\n",
       " ('S2STCHTREAT', -0.06013055338004275),\n",
       " ('X2POVERTY185', -0.06503131605652553),\n",
       " ('S2SENJOYING', -0.07391212720465037),\n",
       " ('S2SHSREQ', -0.07548804751797196),\n",
       " ('S2SFAMREC', -0.08131894455821469),\n",
       " ('took_science_2012', -0.09390365964297526),\n",
       " ('S2STCHRREC', -0.09529941128047317),\n",
       " ('S2SWASTE', -0.1165043187705083),\n",
       " ('nh_pi', -0.13420849867900464),\n",
       " ('S2SCLGADM', -0.14739038996095113),\n",
       " ('S2SCNSLREC', -0.15389191832952773),\n",
       " ('S2STCHGIVEUP', -0.17595994220059663),\n",
       " ('S2SASSIGNED', -0.21942802236227765),\n",
       " ('ai_an', -0.28588524560303546),\n",
       " ('S2STUTORED', -0.29091421037559106),\n",
       " ('hispanic', -0.31207123190138203),\n",
       " ('multiple_race', -0.35454878246508675),\n",
       " ('misc_class', -0.3600209187301087),\n",
       " ('white', -0.39910610070748115),\n",
       " ('black', -0.665413405461148),\n",
       " ('female', -1.026660178081913)]"
      ]
     },
     "execution_count": 371,
     "metadata": {},
     "output_type": "execute_result"
    }
   ],
   "source": [
    "coef_tomek = dict(zip(list(features), list(LR_tomek.coef_[0])))\n",
    "sorted_dict_tomek = sorted(coef_tomek.items(), key=lambda kv: kv[1])\n",
    "sorted_dict_tomek.reverse()\n",
    "sorted_dict_tomek"
   ]
  },
  {
   "cell_type": "code",
   "execution_count": 372,
   "metadata": {},
   "outputs": [],
   "source": [
    "metric_dict['TOMEK_LogisticRegression'] = {'train_accuracy': metrics.accuracy_score(y_train_tomek, tomek_train_pred),\n",
    "                                      'test_accuracy': metrics.accuracy_score(y_test, tomek_test_pred),\n",
    "                                      'train_precision':metrics.precision_score(y_train_tomek, tomek_train_pred),\n",
    "                                      'test_precision':metrics.precision_score(y_test, tomek_test_pred),\n",
    "                                      'train_recall':metrics.recall_score(y_train_tomek, tomek_train_pred),\n",
    "                                      'test_recall':metrics.recall_score(y_test, tomek_test_pred),\n",
    "                                      'train_f1':metrics.f1_score(y_train_tomek, tomek_train_pred),\n",
    "                                      'test_f1':metrics.f1_score(y_test, tomek_test_pred)\n",
    "                                          }"
   ]
  },
  {
   "cell_type": "code",
   "execution_count": 373,
   "metadata": {},
   "outputs": [
    {
     "data": {
      "text/plain": [
       "{'LogisticRegression': {'train_accuracy': 0.7038387060029616,\n",
       "  'test_accuracy': 0.7034168564920273,\n",
       "  'train_precision': 0.41877361232199944,\n",
       "  'test_precision': 0.4170731707317073,\n",
       "  'train_recall': 0.7060264576188143,\n",
       "  'test_recall': 0.6640776699029126,\n",
       "  'train_f1': 0.5257205399489238,\n",
       "  'test_f1': 0.5123595505617977},\n",
       " 'GS_LogisticRegression': {'train_accuracy': 0.7940539924820594,\n",
       "  'test_accuracy': 0.7958997722095672,\n",
       "  'train_precision': 0.6278814489571899,\n",
       "  'test_precision': 0.6529680365296804,\n",
       "  'train_recall': 0.2802547770700637,\n",
       "  'test_recall': 0.27766990291262134,\n",
       "  'train_f1': 0.3875338753387534,\n",
       "  'test_f1': 0.3896457765667575},\n",
       " 'KBEST_LogisticRegression': {'train_accuracy': 0.685499487413145,\n",
       "  'test_accuracy': 0.6829157175398634,\n",
       "  'train_precision': 0.4007170435741864,\n",
       "  'test_precision': 0.3960964408725603,\n",
       "  'train_recall': 0.7119059284664381,\n",
       "  'test_recall': 0.6699029126213593,\n",
       "  'train_f1': 0.5127933650961709,\n",
       "  'test_f1': 0.4978354978354978},\n",
       " 'SMOTE_LogisticRegression': {'train_accuracy': 0.7631344612644702,\n",
       "  'test_accuracy': 0.7225512528473804,\n",
       "  'train_precision': 0.7638392857142857,\n",
       "  'test_precision': 0.4287878787878788,\n",
       "  'train_recall': 0.7617987533392698,\n",
       "  'test_recall': 0.5495145631067961,\n",
       "  'train_f1': 0.7628176549264378,\n",
       "  'test_f1': 0.4817021276595745},\n",
       " 'TOMEK_LogisticRegression': {'train_accuracy': 0.7934422483719867,\n",
       "  'test_accuracy': 0.7963553530751708,\n",
       "  'train_precision': 0.6278814489571899,\n",
       "  'test_precision': 0.6545454545454545,\n",
       "  'train_recall': 0.2802547770700637,\n",
       "  'test_recall': 0.2796116504854369,\n",
       "  'train_f1': 0.3875338753387534,\n",
       "  'test_f1': 0.39183673469387753}}"
      ]
     },
     "execution_count": 373,
     "metadata": {},
     "output_type": "execute_result"
    }
   ],
   "source": [
    "metric_dict"
   ]
  },
  {
   "cell_type": "markdown",
   "metadata": {},
   "source": [
    "## Evaluation of Models"
   ]
  },
  {
   "cell_type": "code",
   "execution_count": 408,
   "metadata": {},
   "outputs": [
    {
     "data": {
      "text/plain": [
       "0    0.767086\n",
       "1    0.232914\n",
       "Name: target, dtype: float64"
      ]
     },
     "execution_count": 408,
     "metadata": {},
     "output_type": "execute_result"
    }
   ],
   "source": [
    "modeling_df.target.value_counts(normalize=True)"
   ]
  },
  {
   "cell_type": "code",
   "execution_count": 406,
   "metadata": {},
   "outputs": [],
   "source": [
    "LR_confusion = metrics.confusion_matrix(y_test, test_pred)"
   ]
  },
  {
   "cell_type": "code",
   "execution_count": 483,
   "metadata": {},
   "outputs": [
    {
     "data": {
      "text/plain": [
       "0    1680\n",
       "1     515\n",
       "Name: target, dtype: int64"
      ]
     },
     "execution_count": 483,
     "metadata": {},
     "output_type": "execute_result"
    }
   ],
   "source": [
    "LR_confusion\n",
    "y_test.value_counts()"
   ]
  },
  {
   "cell_type": "markdown",
   "metadata": {},
   "source": [
    "    TP = confusion[1, 1]\n",
    "    TN = confusion[0, 0]\n",
    "    FP = confusion[0, 1]\n",
    "    FN = confusion[1, 0]"
   ]
  },
  {
   "cell_type": "code",
   "execution_count": 484,
   "metadata": {},
   "outputs": [
    {
     "data": {
      "text/plain": [
       "(0, 2)"
      ]
     },
     "execution_count": 484,
     "metadata": {},
     "output_type": "execute_result"
    },
    {
     "data": {
      "image/png": "[encoded data removed]",
      "text/plain": [
       "<Figure size 360x360 with 2 Axes>"
      ]
     },
     "metadata": {
      "needs_background": "light"
     },
     "output_type": "display_data"
    }
   ],
   "source": [
    "df_cm = pd.DataFrame(LR_confusion,columns=['Non-STEM','STEM'],index=['Non-STEM','STEM'])\n",
    "df_cm.index.name = 'Actual'\n",
    "df_cm.columns.name = 'Predicted'\n",
    "\n",
    "fig, ax = plt.subplots(figsize=(5,5))\n",
    "ax = sns.heatmap(df_cm,cmap='Blues',annot=True,annot_kws={'size':16},fmt='g');\n",
    "ax.set_ylim([0,2])"
   ]
  },
  {
   "cell_type": "markdown",
   "metadata": {},
   "source": [
    "## Which did it get wrong?"
   ]
  },
  {
   "cell_type": "code",
   "execution_count": 453,
   "metadata": {},
   "outputs": [],
   "source": [
    "comparison = pd.DataFrame(data = {'predicted': train_pred, 'actual': y_train})\n",
    "errors = comparison[comparison['predicted'] != comparison['actual']]\n",
    "\n",
    "fp = errors[errors['predicted'] == 1]\n",
    "fn = errors[errors['predicted'] == 0]"
   ]
  },
  {
   "cell_type": "code",
   "execution_count": 466,
   "metadata": {},
   "outputs": [],
   "source": [
    "error_df = comparison.merge(X_train, how = 'right', right_index = True, left_index = True)"
   ]
  },
  {
   "cell_type": "raw",
   "metadata": {},
   "source": []
  },
  {
   "cell_type": "code",
   "execution_count": 470,
   "metadata": {},
   "outputs": [],
   "source": [
    "error_df['wrong'] = np.where((error_df['predicted'] != error_df['actual']), 1, 0)"
   ]
  },
  {
   "cell_type": "code",
   "execution_count": 477,
   "metadata": {},
   "outputs": [
    {
     "data": {
      "text/plain": [
       "<matplotlib.axes._subplots.AxesSubplot at 0x1a3093cba8>"
      ]
     },
     "execution_count": 477,
     "metadata": {},
     "output_type": "execute_result"
    },
    {
     "data": {
      "image/png": "[encoded data removed]",
      "text/plain": [
       "<Figure size 720x720 with 1 Axes>"
      ]
     },
     "metadata": {
      "needs_background": "light"
     },
     "output_type": "display_data"
    }
   ],
   "source": [
    "fig = plt.figure(figsize = (10,10))\n",
    "sns.stripplot(error_df['female'], error_df['X2RACE'], hue = error_df['wrong'], linewidth = 1, alpha = 0.8, size = 10, jitter = 0.5, dodge = True)"
   ]
  },
  {
   "cell_type": "code",
   "execution_count": null,
   "metadata": {},
   "outputs": [],
   "source": []
  },
  {
   "cell_type": "markdown",
   "metadata": {},
   "source": [
    "## Threshold Testing"
   ]
  },
  {
   "cell_type": "code",
   "execution_count": 498,
   "metadata": {},
   "outputs": [],
   "source": [
    "from sklearn.metrics import roc_curve, roc_auc_score\n"
   ]
  },
  {
   "cell_type": "code",
   "execution_count": 512,
   "metadata": {},
   "outputs": [],
   "source": [
    "THRESHOLD = .5\n",
    "lr_test_pred = np.where(lr_fsm.predict_proba(X_test[features])[:,1] > THRESHOLD, 1, 0)\n",
    "lr_train_pred = np.where(lr_fsm.predict_proba(X_train[features])[:,1] > THRESHOLD, 1, 0)"
   ]
  },
  {
   "cell_type": "code",
   "execution_count": 513,
   "metadata": {},
   "outputs": [],
   "source": [
    "#metric_dict = {}\n",
    "metric_dict['0.6'] = {'train_accuracy': metrics.accuracy_score(y_train, lr_train_pred),\n",
    "                                      'test_accuracy': metrics.accuracy_score(y_test, lr_test_pred),\n",
    "                                      'train_precision':metrics.precision_score(y_train, lr_train_pred),\n",
    "                                      'test_precision':metrics.precision_score(y_test, lr_test_pred),\n",
    "                                      'train_recall':metrics.recall_score(y_train, lr_train_pred),\n",
    "                                      'test_recall':metrics.recall_score(y_test, lr_test_pred),\n",
    "                                      'train_f1':metrics.f1_score(y_train, lr_train_pred),\n",
    "                                      'test_f1':metrics.f1_score(y_test, lr_test_pred)}"
   ]
  },
  {
   "cell_type": "code",
   "execution_count": 514,
   "metadata": {},
   "outputs": [
    {
     "data": {
      "text/plain": [
       "{'0.8': {'train_accuracy': 0.7923453696320766,\n",
       "  'test_accuracy': 0.7886104783599088,\n",
       "  'train_precision': 0.6636636636636637,\n",
       "  'test_precision': 0.650887573964497,\n",
       "  'train_recall': 0.21656050955414013,\n",
       "  'test_recall': 0.21359223300970873,\n",
       "  'train_f1': 0.3265607683782786,\n",
       "  'test_f1': 0.3216374269005848},\n",
       " '0.7': {'train_accuracy': 0.790295022212097,\n",
       "  'test_accuracy': 0.7977220956719818,\n",
       "  'train_precision': 0.5694444444444444,\n",
       "  'test_precision': 0.60790273556231,\n",
       "  'train_recall': 0.4017638412542871,\n",
       "  'test_recall': 0.3883495145631068,\n",
       "  'train_f1': 0.47112898592358515,\n",
       "  'test_f1': 0.47393364928909953},\n",
       " '0.5': {'train_accuracy': 0.7038387060029616,\n",
       "  'test_accuracy': 0.7034168564920273,\n",
       "  'train_precision': 0.41877361232199944,\n",
       "  'test_precision': 0.4170731707317073,\n",
       "  'train_recall': 0.7060264576188143,\n",
       "  'test_recall': 0.6640776699029126,\n",
       "  'train_f1': 0.5257205399489238,\n",
       "  'test_f1': 0.5123595505617977},\n",
       " '0.4': {'train_accuracy': 0.6260394122337396,\n",
       "  'test_accuracy': 0.6100227790432802,\n",
       "  'train_precision': 0.3649412788168769,\n",
       "  'test_precision': 0.34951456310679613,\n",
       "  'train_recall': 0.8221460068593827,\n",
       "  'test_recall': 0.7689320388349514,\n",
       "  'train_f1': 0.505497815936135,\n",
       "  'test_f1': 0.4805825242718446},\n",
       " '0.6': {'train_accuracy': 0.7606788928123932,\n",
       "  'test_accuracy': 0.7612756264236902,\n",
       "  'train_precision': 0.4871244635193133,\n",
       "  'test_precision': 0.4917431192660551,\n",
       "  'train_recall': 0.5560999510044096,\n",
       "  'test_recall': 0.5203883495145631,\n",
       "  'train_f1': 0.5193319606497369,\n",
       "  'test_f1': 0.5056603773584906}}"
      ]
     },
     "execution_count": 514,
     "metadata": {},
     "output_type": "execute_result"
    }
   ],
   "source": [
    "metric_dict"
   ]
  },
  {
   "cell_type": "code",
   "execution_count": 518,
   "metadata": {},
   "outputs": [
    {
     "data": {
      "image/png": "[encoded data removed]",
      "text/plain": [
       "<Figure size 720x720 with 1 Axes>"
      ]
     },
     "metadata": {
      "needs_background": "light"
     },
     "output_type": "display_data"
    }
   ],
   "source": [
    "# differnt thresholds for predicting target\n",
    "threshs = np.arange(0.1,1,0.1)\n",
    "\n",
    "# going through each threshold to determine flase and true positive rate\n",
    "y_test_roc = y_test\n",
    "def roc_per_thresh(threshs):\n",
    "    rocs = []\n",
    "    for thresh in threshs:\n",
    "        # predicting and getting false positive and false negative rates\n",
    "        # as the threshold for predicting true is increased\n",
    "        y_pred_roc = (lr_fsm.predict_proba(X_test[features]) > thresh).astype('int32')\n",
    "        y_pred_roc = y_pred_roc.T[[1]][0]\n",
    "        fpr, tpr, thresholds = roc_curve(y_test_roc, y_pred_roc)\n",
    "        rocs.append([thresh,fpr,tpr])\n",
    "    return rocs\n",
    "\n",
    "roc_values = roc_per_thresh(threshs)\n",
    "\n",
    "plt.figure(1,figsize=(10,10))\n",
    "plt.plot([0, 1], [0, 1], 'k--')\n",
    "for roc in roc_values:\n",
    "    plt.plot(roc[1],roc[2],label=(round(roc[0],1),round(roc[1][1],2),round(roc[2][1],2)))\n",
    "plt.xlabel('False positive rate')\n",
    "plt.ylabel('True positive rate')\n",
    "plt.title('ROC curve')\n",
    "plt.legend(title=['(FPR,TPR)'])\n",
    "plt.show()"
   ]
  },
  {
   "cell_type": "code",
   "execution_count": 520,
   "metadata": {},
   "outputs": [
    {
     "data": {
      "text/plain": [
       "0.6897769301895516"
      ]
     },
     "execution_count": 520,
     "metadata": {},
     "output_type": "execute_result"
    }
   ],
   "source": [
    "metrics.roc_auc_score(y_test, test_pred)"
   ]
  },
  {
   "cell_type": "code",
   "execution_count": null,
   "metadata": {},
   "outputs": [],
   "source": []
  }
 ],
 "metadata": {
  "kernelspec": {
   "display_name": "Python 3",
   "language": "python",
   "name": "python3"
  },
  "language_info": {
   "codemirror_mode": {
    "name": "ipython",
    "version": 3
   },
   "file_extension": ".py",
   "mimetype": "text/x-python",
   "name": "python",
   "nbconvert_exporter": "python",
   "pygments_lexer": "ipython3",
   "version": "3.6.9"
  }
 },
 "nbformat": 4,
 "nbformat_minor": 4
}
